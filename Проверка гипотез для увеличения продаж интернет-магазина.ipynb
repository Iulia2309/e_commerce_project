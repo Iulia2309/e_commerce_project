{
 "cells": [
  {
   "cell_type": "markdown",
   "metadata": {
    "toc": true
   },
   "source": [
    "<h1>Содержание<span class=\"tocSkip\"></span></h1>\n",
    "<div class=\"toc\"><ul class=\"toc-item\"><li><span><a href=\"#Предобработка-данных\" data-toc-modified-id=\"Предобработка-данных-1\"><span class=\"toc-item-num\">1&nbsp;&nbsp;</span>Предобработка данных</a></span><ul class=\"toc-item\"><li><span><a href=\"#Общий-обзор-исходных-данных\" data-toc-modified-id=\"Общий-обзор-исходных-данных-1.1\"><span class=\"toc-item-num\">1.1&nbsp;&nbsp;</span>Общий обзор исходных данных</a></span></li><li><span><a href=\"#Переименование-столбцов\" data-toc-modified-id=\"Переименование-столбцов-1.2\"><span class=\"toc-item-num\">1.2&nbsp;&nbsp;</span>Переименование столбцов</a></span></li><li><span><a href=\"#Преобразование-типов-данных\" data-toc-modified-id=\"Преобразование-типов-данных-1.3\"><span class=\"toc-item-num\">1.3&nbsp;&nbsp;</span>Преобразование типов данных</a></span></li><li><span><a href=\"#Проверка-на-пересекающихся-пользователей-в-группах-A-и-B\" data-toc-modified-id=\"Проверка-на-пересекающихся-пользователей-в-группах-A-и-B-1.4\"><span class=\"toc-item-num\">1.4&nbsp;&nbsp;</span>Проверка на пересекающихся пользователей в группах A и B</a></span></li></ul></li><li><span><a href=\"#Приоритизация-гипотез\" data-toc-modified-id=\"Приоритизация-гипотез-2\"><span class=\"toc-item-num\">2&nbsp;&nbsp;</span>Приоритизация гипотез</a></span><ul class=\"toc-item\"><li><span><a href=\"#Приоритизация-гипотез-с-помощью-фреймворка-ICE\" data-toc-modified-id=\"Приоритизация-гипотез-с-помощью-фреймворка-ICE-2.1\"><span class=\"toc-item-num\">2.1&nbsp;&nbsp;</span>Приоритизация гипотез с помощью фреймворка ICE</a></span></li><li><span><a href=\"#Приоритизация-гипотез-с-помощью-фреймворка-RICE\" data-toc-modified-id=\"Приоритизация-гипотез-с-помощью-фреймворка-RICE-2.2\"><span class=\"toc-item-num\">2.2&nbsp;&nbsp;</span>Приоритизация гипотез с помощью фреймворка RICE</a></span></li></ul></li><li><span><a href=\"#Анализ-A/B-теста\" data-toc-modified-id=\"Анализ-A/B-теста-3\"><span class=\"toc-item-num\">3&nbsp;&nbsp;</span>Анализ A/B-теста</a></span><ul class=\"toc-item\"><li><span><a href=\"#График-кумулятивной-выручки-по-группам\" data-toc-modified-id=\"График-кумулятивной-выручки-по-группам-3.1\"><span class=\"toc-item-num\">3.1&nbsp;&nbsp;</span>График кумулятивной выручки по группам</a></span></li><li><span><a href=\"#График-кумулятивного-среднего-чека-по-группам\" data-toc-modified-id=\"График-кумулятивного-среднего-чека-по-группам-3.2\"><span class=\"toc-item-num\">3.2&nbsp;&nbsp;</span>График кумулятивного среднего чека по группам</a></span></li><li><span><a href=\"#График-относительного-изменения-кумулятивного-среднего-чека-группы-B-к-группе-A\" data-toc-modified-id=\"График-относительного-изменения-кумулятивного-среднего-чека-группы-B-к-группе-A-3.3\"><span class=\"toc-item-num\">3.3&nbsp;&nbsp;</span>График относительного изменения кумулятивного среднего чека группы B к группе A</a></span></li><li><span><a href=\"#График-кумулятивного-среднего-количества-заказов-по-группам\" data-toc-modified-id=\"График-кумулятивного-среднего-количества-заказов-по-группам-3.4\"><span class=\"toc-item-num\">3.4&nbsp;&nbsp;</span>График кумулятивного среднего количества заказов по группам</a></span></li><li><span><a href=\"#График-относительного-изменения-кумулятивного-среднего-количества-заказов-группы-B-к-группе-A\" data-toc-modified-id=\"График-относительного-изменения-кумулятивного-среднего-количества-заказов-группы-B-к-группе-A-3.5\"><span class=\"toc-item-num\">3.5&nbsp;&nbsp;</span>График относительного изменения кумулятивного среднего количества заказов группы B к группе A</a></span></li><li><span><a href=\"#Точечный-график-количества-заказов-по-пользователям\" data-toc-modified-id=\"Точечный-график-количества-заказов-по-пользователям-3.6\"><span class=\"toc-item-num\">3.6&nbsp;&nbsp;</span>Точечный график количества заказов по пользователям</a></span></li><li><span><a href=\"#Расчёт-95-й-и-99-й-перцентилей-количества-заказов-на-пользователя\" data-toc-modified-id=\"Расчёт-95-й-и-99-й-перцентилей-количества-заказов-на-пользователя-3.7\"><span class=\"toc-item-num\">3.7&nbsp;&nbsp;</span>Расчёт 95-й и 99-й перцентилей количества заказов на пользователя</a></span></li><li><span><a href=\"#Точечный-график-стоимостей-заказов\" data-toc-modified-id=\"Точечный-график-стоимостей-заказов-3.8\"><span class=\"toc-item-num\">3.8&nbsp;&nbsp;</span>Точечный график стоимостей заказов</a></span></li><li><span><a href=\"#Расчёт-95-й-и-99-й-перцентилей-стоимости-заказов\" data-toc-modified-id=\"Расчёт-95-й-и-99-й-перцентилей-стоимости-заказов-3.9\"><span class=\"toc-item-num\">3.9&nbsp;&nbsp;</span>Расчёт 95-й и 99-й перцентилей стоимости заказов</a></span></li><li><span><a href=\"#Расчёт-статистической-значимости-различий-в-среднем-количестве-заказов-между-группами-по-«сырым»-данным\" data-toc-modified-id=\"Расчёт-статистической-значимости-различий-в-среднем-количестве-заказов-между-группами-по-«сырым»-данным-3.10\"><span class=\"toc-item-num\">3.10&nbsp;&nbsp;</span>Расчёт статистической значимости различий в среднем количестве заказов между группами по «сырым» данным</a></span></li><li><span><a href=\"#Расчёт-статистической-значимости-различий-в-среднем-чеке-заказа-между-группами-по-«сырым»-данным\" data-toc-modified-id=\"Расчёт-статистической-значимости-различий-в-среднем-чеке-заказа-между-группами-по-«сырым»-данным-3.11\"><span class=\"toc-item-num\">3.11&nbsp;&nbsp;</span>Расчёт статистической значимости различий в среднем чеке заказа между группами по «сырым» данным</a></span></li><li><span><a href=\"#Расчёт-статистической-значимости-различий-в-среднем-количестве-заказов-между-группами-по-«очищенным»-данным\" data-toc-modified-id=\"Расчёт-статистической-значимости-различий-в-среднем-количестве-заказов-между-группами-по-«очищенным»-данным-3.12\"><span class=\"toc-item-num\">3.12&nbsp;&nbsp;</span>Расчёт статистической значимости различий в среднем количестве заказов между группами по «очищенным» данным</a></span></li><li><span><a href=\"#Расчёт-статистической-значимости-различий-в-среднем-чеке-заказа-между-группами-по-«очищенным»-данным\" data-toc-modified-id=\"Расчёт-статистической-значимости-различий-в-среднем-чеке-заказа-между-группами-по-«очищенным»-данным-3.13\"><span class=\"toc-item-num\">3.13&nbsp;&nbsp;</span>Расчёт статистической значимости различий в среднем чеке заказа между группами по «очищенным» данным</a></span></li><li><span><a href=\"#Выводы-по-результатам-A/B---теста\" data-toc-modified-id=\"Выводы-по-результатам-A/B---теста-3.14\"><span class=\"toc-item-num\">3.14&nbsp;&nbsp;</span>Выводы по результатам A/B - теста</a></span></li></ul></li><li><span><a href=\"#Общие-выводы-по-результатам-исследования\" data-toc-modified-id=\"Общие-выводы-по-результатам-исследования-4\"><span class=\"toc-item-num\">4&nbsp;&nbsp;</span>Общие выводы по результатам исследования</a></span></li></ul></div>"
   ]
  },
  {
   "cell_type": "markdown",
   "metadata": {},
   "source": [
    "# Проверка гипотез для увеличения продаж интернет-магазина"
   ]
  },
  {
   "cell_type": "markdown",
   "metadata": {},
   "source": [
    "**Исходные данные:**\n",
    "1. Файл с оценками гипотез.\n",
    "2. Файл с данными о заказах в период проведения A/B-теста.\n",
    "3. Файл с данными о осетителях интернет-магазина в период проведения A/B-теста.\n",
    "\n",
    "**Цели исследования:**\n",
    "1. Приоритизация гипотез.\n",
    "2. Анализ A/B-теста.\n",
    "\n",
    "**Задачи исследования:**\n",
    "1. Приоритизировать гипотезы с помощью фреймворков ICE и RICE, подвести итоги приоритизации.\n",
    "2. Проанализировать результаты A/B-теста, принять решение о результатах A/B-теста.\n",
    "\n",
    "**Описание исходных данных:**\n",
    "\n",
    "Файл hypothesis.csv содержит сведения о 9 гипотезах по увеличению выручки интернет-магазина с указанными параметрами Reach, Impact, Confidence, Effort:\n",
    "\n",
    "`Hypothesis` — краткое описание гипотезы; \\\n",
    "`Reach` — охват пользователей по 10-балльной шкале; \\\n",
    "`Impact` — влияние на пользователей по 10-балльной шкале; \\\n",
    "`Confidence` — уверенность в гипотезе по 10-балльной шкале; \\\n",
    "`Efforts` — затраты ресурсов на проверку гипотезы по 10-балльной шкале. Чем больше значение `Efforts`, тем дороже проверка гипотезы.\n",
    "\n",
    "Файл orders.csv - данные о заказах в период проведения A/B-теста:\n",
    "\n",
    "`transactionId` — идентификатор заказа; \\\n",
    "`visitorId` — идентификатор пользователя, совершившего заказ; \\\n",
    "`date` — дата, когда был совершён заказ; \\\n",
    "`revenue` — выручка заказа; \\\n",
    "`group` — группа A/B-теста, в которую попал заказ.\n",
    "\n",
    "Файл visitors.csv - данные о посетителях интернет-магазина в период проведения A/B-теста:\n",
    "\n",
    "`date` — дата; \\\n",
    "`group` — группа A/B-теста; \\\n",
    "`visitors` — количество пользователей в указанную дату в указанной группе A/B-теста.\n",
    "\n",
    "**План исследования:**\n",
    "1. Подготовка данных к анализу.\n",
    "2. Приоритизация гипотез.\n",
    "- применить фреймворк ICE для приоритизации гипотез. \n",
    "- применить фреймворк RICE для приоритизации гипотез.\n",
    "- сравнить результатов и подвести итоги приоритизации гипотез.\n",
    "3. Анализ A/B-теста.\n",
    "- построить график кумулятивной выручки по группам. \n",
    "- построить график кумулятивного среднего чека по группам.\n",
    "- построить график относительного изменения кумулятивного среднего чека группы B к группе A. \n",
    "- построить график кумулятивного среднего количества заказов по группам. \n",
    "- построить график относительного изменения кумулятивного среднего количества заказов группы B к группе A. \n",
    "- построить точечный график количества заказов по пользователям.\n",
    "- посчитать 95-й и 99-й перцентили количества заказов на пользователя, выбрать границу для определения аномальных пользователей.\n",
    "- построить точечный график стоимостей заказов. \n",
    "- посчитать 95-й и 99-й перцентили стоимости заказов, выбрать границу для определения аномальных заказов.\n",
    "- посчитать статистическую значимость различий в среднем количестве заказов между группами по «сырым» данным.\n",
    "- посчитать статистическую значимость различий в среднем чеке заказа между группами по «сырым» данным. \n",
    "- посчитать статистическую значимость различий в среднем количестве заказов между группами по «очищенным» данным. \n",
    "- посчитать статистическую значимость различий в среднем чеке заказа между группами по «очищенным» данным. \n",
    "- принять решение по результатам теста. "
   ]
  },
  {
   "cell_type": "markdown",
   "metadata": {},
   "source": [
    "*Импортируем все необходимые для работы библиотеки.*"
   ]
  },
  {
   "cell_type": "code",
   "execution_count": 1,
   "metadata": {},
   "outputs": [],
   "source": [
    "import pandas as pd\n",
    "import numpy as np\n",
    "import scipy.stats as stats\n",
    "import datetime as dt\n",
    "import matplotlib.pyplot as plt\n",
    "%matplotlib inline\n",
    "import warnings\n",
    "warnings.filterwarnings(\"ignore\")\n",
    "pd.options.display.max_colwidth = 150"
   ]
  },
  {
   "cell_type": "markdown",
   "metadata": {},
   "source": [
    "## Предобработка данных"
   ]
  },
  {
   "cell_type": "markdown",
   "metadata": {},
   "source": [
    " ### Общий обзор исходных данных"
   ]
  },
  {
   "cell_type": "markdown",
   "metadata": {},
   "source": [
    "*Открываем и записываем в переменную файл с данными о гипотезах.*"
   ]
  },
  {
   "cell_type": "code",
   "execution_count": 2,
   "metadata": {},
   "outputs": [],
   "source": [
    "hypotheses, orders, visitors = (\n",
    "    pd.read_csv('hypothesis.csv'),\n",
    "    pd.read_csv('orders.csv'),\n",
    "    pd.read_csv('visitors.csv')\n",
    ")   "
   ]
  },
  {
   "cell_type": "markdown",
   "metadata": {},
   "source": [
    "*Выводим датафрейм `hypotheses` на экран.*"
   ]
  },
  {
   "cell_type": "code",
   "execution_count": 3,
   "metadata": {},
   "outputs": [
    {
     "data": {
      "text/html": [
       "<div>\n",
       "<style scoped>\n",
       "    .dataframe tbody tr th:only-of-type {\n",
       "        vertical-align: middle;\n",
       "    }\n",
       "\n",
       "    .dataframe tbody tr th {\n",
       "        vertical-align: top;\n",
       "    }\n",
       "\n",
       "    .dataframe thead th {\n",
       "        text-align: right;\n",
       "    }\n",
       "</style>\n",
       "<table border=\"1\" class=\"dataframe\">\n",
       "  <thead>\n",
       "    <tr style=\"text-align: right;\">\n",
       "      <th></th>\n",
       "      <th>Hypothesis</th>\n",
       "      <th>Reach</th>\n",
       "      <th>Impact</th>\n",
       "      <th>Confidence</th>\n",
       "      <th>Efforts</th>\n",
       "    </tr>\n",
       "  </thead>\n",
       "  <tbody>\n",
       "    <tr>\n",
       "      <th>0</th>\n",
       "      <td>Добавить два новых канала привлечения трафика, что позволит привлекать на 30% больше пользователей</td>\n",
       "      <td>3</td>\n",
       "      <td>10</td>\n",
       "      <td>8</td>\n",
       "      <td>6</td>\n",
       "    </tr>\n",
       "    <tr>\n",
       "      <th>1</th>\n",
       "      <td>Запустить собственную службу доставки, что сократит срок доставки заказов</td>\n",
       "      <td>2</td>\n",
       "      <td>5</td>\n",
       "      <td>4</td>\n",
       "      <td>10</td>\n",
       "    </tr>\n",
       "    <tr>\n",
       "      <th>2</th>\n",
       "      <td>Добавить блоки рекомендаций товаров на сайт интернет магазина, чтобы повысить конверсию и средний чек заказа</td>\n",
       "      <td>8</td>\n",
       "      <td>3</td>\n",
       "      <td>7</td>\n",
       "      <td>3</td>\n",
       "    </tr>\n",
       "    <tr>\n",
       "      <th>3</th>\n",
       "      <td>Изменить структура категорий, что увеличит конверсию, т.к. пользователи быстрее найдут нужный товар</td>\n",
       "      <td>8</td>\n",
       "      <td>3</td>\n",
       "      <td>3</td>\n",
       "      <td>8</td>\n",
       "    </tr>\n",
       "    <tr>\n",
       "      <th>4</th>\n",
       "      <td>Изменить цвет фона главной страницы, чтобы увеличить вовлеченность пользователей</td>\n",
       "      <td>3</td>\n",
       "      <td>1</td>\n",
       "      <td>1</td>\n",
       "      <td>1</td>\n",
       "    </tr>\n",
       "    <tr>\n",
       "      <th>5</th>\n",
       "      <td>Добавить страницу отзывов клиентов о магазине, что позволит увеличить количество заказов</td>\n",
       "      <td>3</td>\n",
       "      <td>2</td>\n",
       "      <td>2</td>\n",
       "      <td>3</td>\n",
       "    </tr>\n",
       "    <tr>\n",
       "      <th>6</th>\n",
       "      <td>Показать на главной странице баннеры с актуальными акциями и распродажами, чтобы увеличить конверсию</td>\n",
       "      <td>5</td>\n",
       "      <td>3</td>\n",
       "      <td>8</td>\n",
       "      <td>3</td>\n",
       "    </tr>\n",
       "    <tr>\n",
       "      <th>7</th>\n",
       "      <td>Добавить форму подписки на все основные страницы, чтобы собрать базу клиентов для email-рассылок</td>\n",
       "      <td>10</td>\n",
       "      <td>7</td>\n",
       "      <td>8</td>\n",
       "      <td>5</td>\n",
       "    </tr>\n",
       "    <tr>\n",
       "      <th>8</th>\n",
       "      <td>Запустить акцию, дающую скидку на товар в день рождения</td>\n",
       "      <td>1</td>\n",
       "      <td>9</td>\n",
       "      <td>9</td>\n",
       "      <td>5</td>\n",
       "    </tr>\n",
       "  </tbody>\n",
       "</table>\n",
       "</div>"
      ],
      "text/plain": [
       "                                                                                                     Hypothesis  \\\n",
       "0            Добавить два новых канала привлечения трафика, что позволит привлекать на 30% больше пользователей   \n",
       "1                                     Запустить собственную службу доставки, что сократит срок доставки заказов   \n",
       "2  Добавить блоки рекомендаций товаров на сайт интернет магазина, чтобы повысить конверсию и средний чек заказа   \n",
       "3           Изменить структура категорий, что увеличит конверсию, т.к. пользователи быстрее найдут нужный товар   \n",
       "4                              Изменить цвет фона главной страницы, чтобы увеличить вовлеченность пользователей   \n",
       "5                      Добавить страницу отзывов клиентов о магазине, что позволит увеличить количество заказов   \n",
       "6          Показать на главной странице баннеры с актуальными акциями и распродажами, чтобы увеличить конверсию   \n",
       "7              Добавить форму подписки на все основные страницы, чтобы собрать базу клиентов для email-рассылок   \n",
       "8                                                       Запустить акцию, дающую скидку на товар в день рождения   \n",
       "\n",
       "   Reach  Impact  Confidence  Efforts  \n",
       "0      3      10           8        6  \n",
       "1      2       5           4       10  \n",
       "2      8       3           7        3  \n",
       "3      8       3           3        8  \n",
       "4      3       1           1        1  \n",
       "5      3       2           2        3  \n",
       "6      5       3           8        3  \n",
       "7     10       7           8        5  \n",
       "8      1       9           9        5  "
      ]
     },
     "execution_count": 3,
     "metadata": {},
     "output_type": "execute_result"
    }
   ],
   "source": [
    "hypotheses"
   ]
  },
  {
   "cell_type": "markdown",
   "metadata": {},
   "source": [
    "*Выводим основную информацию о датафрейме `hypotheses`.*"
   ]
  },
  {
   "cell_type": "code",
   "execution_count": 4,
   "metadata": {},
   "outputs": [
    {
     "name": "stdout",
     "output_type": "stream",
     "text": [
      "<class 'pandas.core.frame.DataFrame'>\n",
      "RangeIndex: 9 entries, 0 to 8\n",
      "Data columns (total 5 columns):\n",
      " #   Column      Non-Null Count  Dtype \n",
      "---  ------      --------------  ----- \n",
      " 0   Hypothesis  9 non-null      object\n",
      " 1   Reach       9 non-null      int64 \n",
      " 2   Impact      9 non-null      int64 \n",
      " 3   Confidence  9 non-null      int64 \n",
      " 4   Efforts     9 non-null      int64 \n",
      "dtypes: int64(4), object(1)\n",
      "memory usage: 488.0+ bytes\n"
     ]
    }
   ],
   "source": [
    "hypotheses.info()"
   ]
  },
  {
   "cell_type": "markdown",
   "metadata": {},
   "source": [
    "**Типы переменных в датафрейме `hypotheses` представлены верно. Названия столбцов начинаются с заглавных букв, что не очень удобно. Пропусков и дубликатов в данных нет.**"
   ]
  },
  {
   "cell_type": "markdown",
   "metadata": {},
   "source": [
    "*Выводим первые 5 строк датафрейма `orders` на экран.*"
   ]
  },
  {
   "cell_type": "code",
   "execution_count": 5,
   "metadata": {},
   "outputs": [
    {
     "data": {
      "text/html": [
       "<div>\n",
       "<style scoped>\n",
       "    .dataframe tbody tr th:only-of-type {\n",
       "        vertical-align: middle;\n",
       "    }\n",
       "\n",
       "    .dataframe tbody tr th {\n",
       "        vertical-align: top;\n",
       "    }\n",
       "\n",
       "    .dataframe thead th {\n",
       "        text-align: right;\n",
       "    }\n",
       "</style>\n",
       "<table border=\"1\" class=\"dataframe\">\n",
       "  <thead>\n",
       "    <tr style=\"text-align: right;\">\n",
       "      <th></th>\n",
       "      <th>transactionId</th>\n",
       "      <th>visitorId</th>\n",
       "      <th>date</th>\n",
       "      <th>revenue</th>\n",
       "      <th>group</th>\n",
       "    </tr>\n",
       "  </thead>\n",
       "  <tbody>\n",
       "    <tr>\n",
       "      <th>0</th>\n",
       "      <td>3667963787</td>\n",
       "      <td>3312258926</td>\n",
       "      <td>2019-08-15</td>\n",
       "      <td>1650</td>\n",
       "      <td>B</td>\n",
       "    </tr>\n",
       "    <tr>\n",
       "      <th>1</th>\n",
       "      <td>2804400009</td>\n",
       "      <td>3642806036</td>\n",
       "      <td>2019-08-15</td>\n",
       "      <td>730</td>\n",
       "      <td>B</td>\n",
       "    </tr>\n",
       "    <tr>\n",
       "      <th>2</th>\n",
       "      <td>2961555356</td>\n",
       "      <td>4069496402</td>\n",
       "      <td>2019-08-15</td>\n",
       "      <td>400</td>\n",
       "      <td>A</td>\n",
       "    </tr>\n",
       "    <tr>\n",
       "      <th>3</th>\n",
       "      <td>3797467345</td>\n",
       "      <td>1196621759</td>\n",
       "      <td>2019-08-15</td>\n",
       "      <td>9759</td>\n",
       "      <td>B</td>\n",
       "    </tr>\n",
       "    <tr>\n",
       "      <th>4</th>\n",
       "      <td>2282983706</td>\n",
       "      <td>2322279887</td>\n",
       "      <td>2019-08-15</td>\n",
       "      <td>2308</td>\n",
       "      <td>B</td>\n",
       "    </tr>\n",
       "  </tbody>\n",
       "</table>\n",
       "</div>"
      ],
      "text/plain": [
       "   transactionId   visitorId        date  revenue group\n",
       "0     3667963787  3312258926  2019-08-15     1650     B\n",
       "1     2804400009  3642806036  2019-08-15      730     B\n",
       "2     2961555356  4069496402  2019-08-15      400     A\n",
       "3     3797467345  1196621759  2019-08-15     9759     B\n",
       "4     2282983706  2322279887  2019-08-15     2308     B"
      ]
     },
     "execution_count": 5,
     "metadata": {},
     "output_type": "execute_result"
    }
   ],
   "source": [
    "orders.head()"
   ]
  },
  {
   "cell_type": "markdown",
   "metadata": {},
   "source": [
    "*Выводим основную информацию о датафрейме `orders`.*"
   ]
  },
  {
   "cell_type": "code",
   "execution_count": 6,
   "metadata": {},
   "outputs": [
    {
     "name": "stdout",
     "output_type": "stream",
     "text": [
      "<class 'pandas.core.frame.DataFrame'>\n",
      "RangeIndex: 1197 entries, 0 to 1196\n",
      "Data columns (total 5 columns):\n",
      " #   Column         Non-Null Count  Dtype \n",
      "---  ------         --------------  ----- \n",
      " 0   transactionId  1197 non-null   int64 \n",
      " 1   visitorId      1197 non-null   int64 \n",
      " 2   date           1197 non-null   object\n",
      " 3   revenue        1197 non-null   int64 \n",
      " 4   group          1197 non-null   object\n",
      "dtypes: int64(3), object(2)\n",
      "memory usage: 46.9+ KB\n"
     ]
    }
   ],
   "source": [
    "orders.info()"
   ]
  },
  {
   "cell_type": "markdown",
   "metadata": {},
   "source": [
    "*Проверим датафрейм `orders` на наличие дубликатов.*"
   ]
  },
  {
   "cell_type": "code",
   "execution_count": 7,
   "metadata": {},
   "outputs": [
    {
     "data": {
      "text/plain": [
       "0"
      ]
     },
     "execution_count": 7,
     "metadata": {},
     "output_type": "execute_result"
    }
   ],
   "source": [
    "orders.duplicated().sum()"
   ]
  },
  {
   "cell_type": "markdown",
   "metadata": {},
   "source": [
    "**Пропусков и дубликатов в данных датафрейма `orders` нет. Названия столбцов, кроме `transactionId` и `visitorId`, записаны в нижнем регистре. Типы данных во всех столбцах, кроме `date`, представлены верно.**"
   ]
  },
  {
   "cell_type": "markdown",
   "metadata": {},
   "source": [
    "*Выводим первые 5 строк датафрейма `visitors` на экран.*"
   ]
  },
  {
   "cell_type": "code",
   "execution_count": 8,
   "metadata": {},
   "outputs": [
    {
     "data": {
      "text/html": [
       "<div>\n",
       "<style scoped>\n",
       "    .dataframe tbody tr th:only-of-type {\n",
       "        vertical-align: middle;\n",
       "    }\n",
       "\n",
       "    .dataframe tbody tr th {\n",
       "        vertical-align: top;\n",
       "    }\n",
       "\n",
       "    .dataframe thead th {\n",
       "        text-align: right;\n",
       "    }\n",
       "</style>\n",
       "<table border=\"1\" class=\"dataframe\">\n",
       "  <thead>\n",
       "    <tr style=\"text-align: right;\">\n",
       "      <th></th>\n",
       "      <th>date</th>\n",
       "      <th>group</th>\n",
       "      <th>visitors</th>\n",
       "    </tr>\n",
       "  </thead>\n",
       "  <tbody>\n",
       "    <tr>\n",
       "      <th>0</th>\n",
       "      <td>2019-08-01</td>\n",
       "      <td>A</td>\n",
       "      <td>719</td>\n",
       "    </tr>\n",
       "    <tr>\n",
       "      <th>1</th>\n",
       "      <td>2019-08-02</td>\n",
       "      <td>A</td>\n",
       "      <td>619</td>\n",
       "    </tr>\n",
       "    <tr>\n",
       "      <th>2</th>\n",
       "      <td>2019-08-03</td>\n",
       "      <td>A</td>\n",
       "      <td>507</td>\n",
       "    </tr>\n",
       "    <tr>\n",
       "      <th>3</th>\n",
       "      <td>2019-08-04</td>\n",
       "      <td>A</td>\n",
       "      <td>717</td>\n",
       "    </tr>\n",
       "    <tr>\n",
       "      <th>4</th>\n",
       "      <td>2019-08-05</td>\n",
       "      <td>A</td>\n",
       "      <td>756</td>\n",
       "    </tr>\n",
       "  </tbody>\n",
       "</table>\n",
       "</div>"
      ],
      "text/plain": [
       "         date group  visitors\n",
       "0  2019-08-01     A       719\n",
       "1  2019-08-02     A       619\n",
       "2  2019-08-03     A       507\n",
       "3  2019-08-04     A       717\n",
       "4  2019-08-05     A       756"
      ]
     },
     "execution_count": 8,
     "metadata": {},
     "output_type": "execute_result"
    }
   ],
   "source": [
    "visitors.head()"
   ]
  },
  {
   "cell_type": "markdown",
   "metadata": {},
   "source": [
    "*Выводим основную информацию о датафрейме `visitors`.*"
   ]
  },
  {
   "cell_type": "code",
   "execution_count": 9,
   "metadata": {},
   "outputs": [
    {
     "name": "stdout",
     "output_type": "stream",
     "text": [
      "<class 'pandas.core.frame.DataFrame'>\n",
      "RangeIndex: 62 entries, 0 to 61\n",
      "Data columns (total 3 columns):\n",
      " #   Column    Non-Null Count  Dtype \n",
      "---  ------    --------------  ----- \n",
      " 0   date      62 non-null     object\n",
      " 1   group     62 non-null     object\n",
      " 2   visitors  62 non-null     int64 \n",
      "dtypes: int64(1), object(2)\n",
      "memory usage: 1.6+ KB\n"
     ]
    }
   ],
   "source": [
    "visitors.info()"
   ]
  },
  {
   "cell_type": "markdown",
   "metadata": {},
   "source": [
    "*Проверим датафрейм `visitors` на наличие дубликатов.*"
   ]
  },
  {
   "cell_type": "code",
   "execution_count": 10,
   "metadata": {},
   "outputs": [
    {
     "data": {
      "text/plain": [
       "0"
      ]
     },
     "execution_count": 10,
     "metadata": {},
     "output_type": "execute_result"
    }
   ],
   "source": [
    "visitors.duplicated().sum()"
   ]
  },
  {
   "cell_type": "markdown",
   "metadata": {},
   "source": [
    "**Пропусков и дубликатов в данных датафрейма `visitors` нет. Названия столбцов записаны в нижнем регистре. Типы данных во всех столбцах, кроме `date`, представлены верно.**"
   ]
  },
  {
   "cell_type": "markdown",
   "metadata": {},
   "source": [
    "### Переименование столбцов"
   ]
  },
  {
   "cell_type": "markdown",
   "metadata": {},
   "source": [
    "*Приведём названия столбцов датафрейма `hypotheses` к нижнему регистру.*"
   ]
  },
  {
   "cell_type": "code",
   "execution_count": 11,
   "metadata": {},
   "outputs": [],
   "source": [
    "hypotheses = hypotheses.rename(str.lower, axis='columns')"
   ]
  },
  {
   "cell_type": "markdown",
   "metadata": {},
   "source": [
    "*Проверим корректность проведённых замен.*"
   ]
  },
  {
   "cell_type": "code",
   "execution_count": 12,
   "metadata": {},
   "outputs": [
    {
     "data": {
      "text/html": [
       "<div>\n",
       "<style scoped>\n",
       "    .dataframe tbody tr th:only-of-type {\n",
       "        vertical-align: middle;\n",
       "    }\n",
       "\n",
       "    .dataframe tbody tr th {\n",
       "        vertical-align: top;\n",
       "    }\n",
       "\n",
       "    .dataframe thead th {\n",
       "        text-align: right;\n",
       "    }\n",
       "</style>\n",
       "<table border=\"1\" class=\"dataframe\">\n",
       "  <thead>\n",
       "    <tr style=\"text-align: right;\">\n",
       "      <th></th>\n",
       "      <th>hypothesis</th>\n",
       "      <th>reach</th>\n",
       "      <th>impact</th>\n",
       "      <th>confidence</th>\n",
       "      <th>efforts</th>\n",
       "    </tr>\n",
       "  </thead>\n",
       "  <tbody>\n",
       "  </tbody>\n",
       "</table>\n",
       "</div>"
      ],
      "text/plain": [
       "Empty DataFrame\n",
       "Columns: [hypothesis, reach, impact, confidence, efforts]\n",
       "Index: []"
      ]
     },
     "execution_count": 12,
     "metadata": {},
     "output_type": "execute_result"
    }
   ],
   "source": [
    "hypotheses.head(0)"
   ]
  },
  {
   "cell_type": "markdown",
   "metadata": {},
   "source": [
    "*Приведём названия столбцов `transactionId` и `visitorId` датафрейма `orders` к змеиному стилю.*"
   ]
  },
  {
   "cell_type": "code",
   "execution_count": 13,
   "metadata": {},
   "outputs": [],
   "source": [
    "orders = orders.rename(columns={'transactionId': 'transaction_id', 'visitorId': 'visitor_id'})"
   ]
  },
  {
   "cell_type": "code",
   "execution_count": 14,
   "metadata": {},
   "outputs": [
    {
     "data": {
      "text/html": [
       "<div>\n",
       "<style scoped>\n",
       "    .dataframe tbody tr th:only-of-type {\n",
       "        vertical-align: middle;\n",
       "    }\n",
       "\n",
       "    .dataframe tbody tr th {\n",
       "        vertical-align: top;\n",
       "    }\n",
       "\n",
       "    .dataframe thead th {\n",
       "        text-align: right;\n",
       "    }\n",
       "</style>\n",
       "<table border=\"1\" class=\"dataframe\">\n",
       "  <thead>\n",
       "    <tr style=\"text-align: right;\">\n",
       "      <th></th>\n",
       "      <th>transaction_id</th>\n",
       "      <th>visitor_id</th>\n",
       "      <th>date</th>\n",
       "      <th>revenue</th>\n",
       "      <th>group</th>\n",
       "    </tr>\n",
       "  </thead>\n",
       "  <tbody>\n",
       "  </tbody>\n",
       "</table>\n",
       "</div>"
      ],
      "text/plain": [
       "Empty DataFrame\n",
       "Columns: [transaction_id, visitor_id, date, revenue, group]\n",
       "Index: []"
      ]
     },
     "execution_count": 14,
     "metadata": {},
     "output_type": "execute_result"
    }
   ],
   "source": [
    "orders.head(0)"
   ]
  },
  {
   "cell_type": "markdown",
   "metadata": {},
   "source": [
    "### Преобразование типов данных"
   ]
  },
  {
   "cell_type": "markdown",
   "metadata": {},
   "source": [
    "*Приведём данные в столбцах `date` датафреймов `orders` и `visitors` к типу datetime.*"
   ]
  },
  {
   "cell_type": "code",
   "execution_count": 15,
   "metadata": {},
   "outputs": [],
   "source": [
    "orders['date'] = orders['date'].map(lambda x: dt.datetime.strptime(x, '%Y-%m-%d'))"
   ]
  },
  {
   "cell_type": "code",
   "execution_count": 16,
   "metadata": {},
   "outputs": [],
   "source": [
    "visitors['date'] = visitors['date'].map(lambda x: dt.datetime.strptime(x, '%Y-%m-%d'))"
   ]
  },
  {
   "cell_type": "markdown",
   "metadata": {},
   "source": [
    "*Проверим корректность изменения типа данных.*"
   ]
  },
  {
   "cell_type": "code",
   "execution_count": 17,
   "metadata": {},
   "outputs": [
    {
     "data": {
      "text/plain": [
       "transaction_id             int64\n",
       "visitor_id                 int64\n",
       "date              datetime64[ns]\n",
       "revenue                    int64\n",
       "group                     object\n",
       "dtype: object"
      ]
     },
     "execution_count": 17,
     "metadata": {},
     "output_type": "execute_result"
    }
   ],
   "source": [
    "orders.dtypes"
   ]
  },
  {
   "cell_type": "code",
   "execution_count": 18,
   "metadata": {},
   "outputs": [
    {
     "data": {
      "text/plain": [
       "date        datetime64[ns]\n",
       "group               object\n",
       "visitors             int64\n",
       "dtype: object"
      ]
     },
     "execution_count": 18,
     "metadata": {},
     "output_type": "execute_result"
    }
   ],
   "source": [
    "visitors.dtypes"
   ]
  },
  {
   "cell_type": "markdown",
   "metadata": {},
   "source": [
    "### Проверка на пересекающихся пользователей в группах A и B"
   ]
  },
  {
   "cell_type": "markdown",
   "metadata": {},
   "source": [
    "*Посчитаем, сколько пользователей в каждой из групп.*"
   ]
  },
  {
   "cell_type": "code",
   "execution_count": 19,
   "metadata": {},
   "outputs": [
    {
     "name": "stdout",
     "output_type": "stream",
     "text": [
      "В группе A 557 пользователей.\n"
     ]
    }
   ],
   "source": [
    "print('В группе A', len(orders.query('group == \"A\"')), 'пользователей.')"
   ]
  },
  {
   "cell_type": "code",
   "execution_count": 20,
   "metadata": {},
   "outputs": [
    {
     "name": "stdout",
     "output_type": "stream",
     "text": [
      "В группе B 640 пользователей.\n"
     ]
    }
   ],
   "source": [
    "print('В группе B', len(orders.query('group == \"B\"')), 'пользователей.')"
   ]
  },
  {
   "cell_type": "markdown",
   "metadata": {},
   "source": [
    "*Проверим, есть ли в датафрейме `orders` пользователи, попавшие в обе группы.*"
   ]
  },
  {
   "cell_type": "code",
   "execution_count": 21,
   "metadata": {},
   "outputs": [
    {
     "name": "stdout",
     "output_type": "stream",
     "text": [
      "58 пользователей попали в обе группы.\n"
     ]
    }
   ],
   "source": [
    "print(\n",
    "     len(orders.groupby('visitor_id').agg({'group': 'nunique'}).query('group == 2')),\n",
    "     'пользователей попали в обе группы.'\n",
    ")"
   ]
  },
  {
   "cell_type": "code",
   "execution_count": 22,
   "metadata": {},
   "outputs": [
    {
     "name": "stdout",
     "output_type": "stream",
     "text": [
      "4.8% пользователей попали в обе группы.\n"
     ]
    }
   ],
   "source": [
    "print(\n",
    "     '{:.1%}'.format(len(orders.groupby('visitor_id')\n",
    "             .agg({'group': 'nunique'})\n",
    "             .query('group == 2')) / len(orders)),\n",
    "     'пользователей попали в обе группы.'\n",
    ")"
   ]
  },
  {
   "cell_type": "markdown",
   "metadata": {},
   "source": [
    "*Да, и таких пользователей 58, что составляет менее 5 % от общего числа пользователей. Занесём пересекающихся пользователей в переменную.*"
   ]
  },
  {
   "cell_type": "code",
   "execution_count": 23,
   "metadata": {},
   "outputs": [],
   "source": [
    "visitors_A_and_B = orders.groupby('visitor_id') \\\n",
    "                         .agg({'group': 'nunique'}) \\\n",
    "                         .reset_index() \\\n",
    "                         .query('group == 2')"
   ]
  },
  {
   "cell_type": "markdown",
   "metadata": {},
   "source": [
    "*Исключим из датафрейма пользователей, попавших в обе группы.*"
   ]
  },
  {
   "cell_type": "code",
   "execution_count": 24,
   "metadata": {},
   "outputs": [],
   "source": [
    "orders = orders.query('visitor_id not in @visitors_A_and_B.visitor_id')"
   ]
  },
  {
   "cell_type": "code",
   "execution_count": 25,
   "metadata": {},
   "outputs": [
    {
     "data": {
      "text/plain": [
       "0"
      ]
     },
     "execution_count": 25,
     "metadata": {},
     "output_type": "execute_result"
    }
   ],
   "source": [
    "len(orders.groupby('visitor_id').agg({'group': 'nunique'}).query('group == 2'))"
   ]
  },
  {
   "cell_type": "markdown",
   "metadata": {},
   "source": [
    "**В ходе предобработки данных было произведено переименование столбцов датафреймов `hypotheses` и `orders`, изменен тип данных столбцов `date` датафреймов `orders` и `visitors`, а также из датафрейма `orders` удалены пользователи, попавшие в обе группы A/B - теста.**"
   ]
  },
  {
   "cell_type": "markdown",
   "metadata": {},
   "source": [
    "## Приоритизация гипотез"
   ]
  },
  {
   "cell_type": "markdown",
   "metadata": {},
   "source": [
    "### Приоритизация гипотез с помощью фреймворка ICE"
   ]
  },
  {
   "cell_type": "markdown",
   "metadata": {},
   "source": [
    "*Выведем таблицу с гипотезами.*"
   ]
  },
  {
   "cell_type": "code",
   "execution_count": 26,
   "metadata": {},
   "outputs": [
    {
     "data": {
      "text/html": [
       "<div>\n",
       "<style scoped>\n",
       "    .dataframe tbody tr th:only-of-type {\n",
       "        vertical-align: middle;\n",
       "    }\n",
       "\n",
       "    .dataframe tbody tr th {\n",
       "        vertical-align: top;\n",
       "    }\n",
       "\n",
       "    .dataframe thead th {\n",
       "        text-align: right;\n",
       "    }\n",
       "</style>\n",
       "<table border=\"1\" class=\"dataframe\">\n",
       "  <thead>\n",
       "    <tr style=\"text-align: right;\">\n",
       "      <th></th>\n",
       "      <th>hypothesis</th>\n",
       "      <th>reach</th>\n",
       "      <th>impact</th>\n",
       "      <th>confidence</th>\n",
       "      <th>efforts</th>\n",
       "    </tr>\n",
       "  </thead>\n",
       "  <tbody>\n",
       "    <tr>\n",
       "      <th>0</th>\n",
       "      <td>Добавить два новых канала привлечения трафика, что позволит привлекать на 30% больше пользователей</td>\n",
       "      <td>3</td>\n",
       "      <td>10</td>\n",
       "      <td>8</td>\n",
       "      <td>6</td>\n",
       "    </tr>\n",
       "    <tr>\n",
       "      <th>1</th>\n",
       "      <td>Запустить собственную службу доставки, что сократит срок доставки заказов</td>\n",
       "      <td>2</td>\n",
       "      <td>5</td>\n",
       "      <td>4</td>\n",
       "      <td>10</td>\n",
       "    </tr>\n",
       "    <tr>\n",
       "      <th>2</th>\n",
       "      <td>Добавить блоки рекомендаций товаров на сайт интернет магазина, чтобы повысить конверсию и средний чек заказа</td>\n",
       "      <td>8</td>\n",
       "      <td>3</td>\n",
       "      <td>7</td>\n",
       "      <td>3</td>\n",
       "    </tr>\n",
       "    <tr>\n",
       "      <th>3</th>\n",
       "      <td>Изменить структура категорий, что увеличит конверсию, т.к. пользователи быстрее найдут нужный товар</td>\n",
       "      <td>8</td>\n",
       "      <td>3</td>\n",
       "      <td>3</td>\n",
       "      <td>8</td>\n",
       "    </tr>\n",
       "    <tr>\n",
       "      <th>4</th>\n",
       "      <td>Изменить цвет фона главной страницы, чтобы увеличить вовлеченность пользователей</td>\n",
       "      <td>3</td>\n",
       "      <td>1</td>\n",
       "      <td>1</td>\n",
       "      <td>1</td>\n",
       "    </tr>\n",
       "    <tr>\n",
       "      <th>5</th>\n",
       "      <td>Добавить страницу отзывов клиентов о магазине, что позволит увеличить количество заказов</td>\n",
       "      <td>3</td>\n",
       "      <td>2</td>\n",
       "      <td>2</td>\n",
       "      <td>3</td>\n",
       "    </tr>\n",
       "    <tr>\n",
       "      <th>6</th>\n",
       "      <td>Показать на главной странице баннеры с актуальными акциями и распродажами, чтобы увеличить конверсию</td>\n",
       "      <td>5</td>\n",
       "      <td>3</td>\n",
       "      <td>8</td>\n",
       "      <td>3</td>\n",
       "    </tr>\n",
       "    <tr>\n",
       "      <th>7</th>\n",
       "      <td>Добавить форму подписки на все основные страницы, чтобы собрать базу клиентов для email-рассылок</td>\n",
       "      <td>10</td>\n",
       "      <td>7</td>\n",
       "      <td>8</td>\n",
       "      <td>5</td>\n",
       "    </tr>\n",
       "    <tr>\n",
       "      <th>8</th>\n",
       "      <td>Запустить акцию, дающую скидку на товар в день рождения</td>\n",
       "      <td>1</td>\n",
       "      <td>9</td>\n",
       "      <td>9</td>\n",
       "      <td>5</td>\n",
       "    </tr>\n",
       "  </tbody>\n",
       "</table>\n",
       "</div>"
      ],
      "text/plain": [
       "                                                                                                     hypothesis  \\\n",
       "0            Добавить два новых канала привлечения трафика, что позволит привлекать на 30% больше пользователей   \n",
       "1                                     Запустить собственную службу доставки, что сократит срок доставки заказов   \n",
       "2  Добавить блоки рекомендаций товаров на сайт интернет магазина, чтобы повысить конверсию и средний чек заказа   \n",
       "3           Изменить структура категорий, что увеличит конверсию, т.к. пользователи быстрее найдут нужный товар   \n",
       "4                              Изменить цвет фона главной страницы, чтобы увеличить вовлеченность пользователей   \n",
       "5                      Добавить страницу отзывов клиентов о магазине, что позволит увеличить количество заказов   \n",
       "6          Показать на главной странице баннеры с актуальными акциями и распродажами, чтобы увеличить конверсию   \n",
       "7              Добавить форму подписки на все основные страницы, чтобы собрать базу клиентов для email-рассылок   \n",
       "8                                                       Запустить акцию, дающую скидку на товар в день рождения   \n",
       "\n",
       "   reach  impact  confidence  efforts  \n",
       "0      3      10           8        6  \n",
       "1      2       5           4       10  \n",
       "2      8       3           7        3  \n",
       "3      8       3           3        8  \n",
       "4      3       1           1        1  \n",
       "5      3       2           2        3  \n",
       "6      5       3           8        3  \n",
       "7     10       7           8        5  \n",
       "8      1       9           9        5  "
      ]
     },
     "execution_count": 26,
     "metadata": {},
     "output_type": "execute_result"
    }
   ],
   "source": [
    "hypotheses"
   ]
  },
  {
   "cell_type": "markdown",
   "metadata": {},
   "source": [
    "*Посчитаем ICE для гипотез и добавим полученные значения ICE к таблице `hypotheses`.*"
   ]
  },
  {
   "cell_type": "code",
   "execution_count": 27,
   "metadata": {},
   "outputs": [],
   "source": [
    "hypotheses['ICE'] = round((hypotheses['impact'] * hypotheses['confidence']) / hypotheses['efforts'], 2)"
   ]
  },
  {
   "cell_type": "markdown",
   "metadata": {},
   "source": [
    "*Отсортируем гипотезы по убыванию приоритета.*"
   ]
  },
  {
   "cell_type": "code",
   "execution_count": 28,
   "metadata": {},
   "outputs": [
    {
     "data": {
      "text/html": [
       "<div>\n",
       "<style scoped>\n",
       "    .dataframe tbody tr th:only-of-type {\n",
       "        vertical-align: middle;\n",
       "    }\n",
       "\n",
       "    .dataframe tbody tr th {\n",
       "        vertical-align: top;\n",
       "    }\n",
       "\n",
       "    .dataframe thead th {\n",
       "        text-align: right;\n",
       "    }\n",
       "</style>\n",
       "<table border=\"1\" class=\"dataframe\">\n",
       "  <thead>\n",
       "    <tr style=\"text-align: right;\">\n",
       "      <th></th>\n",
       "      <th>hypothesis</th>\n",
       "      <th>ICE</th>\n",
       "    </tr>\n",
       "  </thead>\n",
       "  <tbody>\n",
       "    <tr>\n",
       "      <th>8</th>\n",
       "      <td>Запустить акцию, дающую скидку на товар в день рождения</td>\n",
       "      <td>16.20</td>\n",
       "    </tr>\n",
       "    <tr>\n",
       "      <th>0</th>\n",
       "      <td>Добавить два новых канала привлечения трафика, что позволит привлекать на 30% больше пользователей</td>\n",
       "      <td>13.33</td>\n",
       "    </tr>\n",
       "    <tr>\n",
       "      <th>7</th>\n",
       "      <td>Добавить форму подписки на все основные страницы, чтобы собрать базу клиентов для email-рассылок</td>\n",
       "      <td>11.20</td>\n",
       "    </tr>\n",
       "    <tr>\n",
       "      <th>6</th>\n",
       "      <td>Показать на главной странице баннеры с актуальными акциями и распродажами, чтобы увеличить конверсию</td>\n",
       "      <td>8.00</td>\n",
       "    </tr>\n",
       "    <tr>\n",
       "      <th>2</th>\n",
       "      <td>Добавить блоки рекомендаций товаров на сайт интернет магазина, чтобы повысить конверсию и средний чек заказа</td>\n",
       "      <td>7.00</td>\n",
       "    </tr>\n",
       "    <tr>\n",
       "      <th>1</th>\n",
       "      <td>Запустить собственную службу доставки, что сократит срок доставки заказов</td>\n",
       "      <td>2.00</td>\n",
       "    </tr>\n",
       "    <tr>\n",
       "      <th>5</th>\n",
       "      <td>Добавить страницу отзывов клиентов о магазине, что позволит увеличить количество заказов</td>\n",
       "      <td>1.33</td>\n",
       "    </tr>\n",
       "    <tr>\n",
       "      <th>3</th>\n",
       "      <td>Изменить структура категорий, что увеличит конверсию, т.к. пользователи быстрее найдут нужный товар</td>\n",
       "      <td>1.12</td>\n",
       "    </tr>\n",
       "    <tr>\n",
       "      <th>4</th>\n",
       "      <td>Изменить цвет фона главной страницы, чтобы увеличить вовлеченность пользователей</td>\n",
       "      <td>1.00</td>\n",
       "    </tr>\n",
       "  </tbody>\n",
       "</table>\n",
       "</div>"
      ],
      "text/plain": [
       "                                                                                                     hypothesis  \\\n",
       "8                                                       Запустить акцию, дающую скидку на товар в день рождения   \n",
       "0            Добавить два новых канала привлечения трафика, что позволит привлекать на 30% больше пользователей   \n",
       "7              Добавить форму подписки на все основные страницы, чтобы собрать базу клиентов для email-рассылок   \n",
       "6          Показать на главной странице баннеры с актуальными акциями и распродажами, чтобы увеличить конверсию   \n",
       "2  Добавить блоки рекомендаций товаров на сайт интернет магазина, чтобы повысить конверсию и средний чек заказа   \n",
       "1                                     Запустить собственную службу доставки, что сократит срок доставки заказов   \n",
       "5                      Добавить страницу отзывов клиентов о магазине, что позволит увеличить количество заказов   \n",
       "3           Изменить структура категорий, что увеличит конверсию, т.к. пользователи быстрее найдут нужный товар   \n",
       "4                              Изменить цвет фона главной страницы, чтобы увеличить вовлеченность пользователей   \n",
       "\n",
       "     ICE  \n",
       "8  16.20  \n",
       "0  13.33  \n",
       "7  11.20  \n",
       "6   8.00  \n",
       "2   7.00  \n",
       "1   2.00  \n",
       "5   1.33  \n",
       "3   1.12  \n",
       "4   1.00  "
      ]
     },
     "execution_count": 28,
     "metadata": {},
     "output_type": "execute_result"
    }
   ],
   "source": [
    "hypotheses[['hypothesis', 'ICE']].sort_values(by='ICE', ascending=False)"
   ]
  },
  {
   "cell_type": "markdown",
   "metadata": {},
   "source": [
    "**Наиболее перспективные гипотезы по ICE:** \n",
    "- \"Запустить акцию, дающую скидку на товар в день рождения\", \n",
    "- \"Добавить два новых канала привлечения трафика, что позволит привлекать на 30% больше пользователей\",\n",
    "- \"Добавить форму подписки на все основные страницы, чтобы собрать базу клиентов для email-рассылок\",\n",
    "- \"Показать на главной странице баннеры с актуальными акциями и распродажами, чтобы увеличить конверсию\",\n",
    "- \"Добавить блоки рекомендаций товаров на сайт интернет магазина, чтобы повысить конверсию и средний чек заказа\"."
   ]
  },
  {
   "cell_type": "markdown",
   "metadata": {},
   "source": [
    "### Приоритизация гипотез с помощью фреймворка RICE"
   ]
  },
  {
   "cell_type": "markdown",
   "metadata": {},
   "source": [
    "*Посчитаем RICE для гипотез и добавим полученные значения RICE к таблице `hypotheses`.*"
   ]
  },
  {
   "cell_type": "code",
   "execution_count": 29,
   "metadata": {},
   "outputs": [],
   "source": [
    "hypotheses['RICE'] = (hypotheses['reach'] * hypotheses['impact'] * hypotheses['confidence']) / hypotheses['efforts']"
   ]
  },
  {
   "cell_type": "code",
   "execution_count": 30,
   "metadata": {},
   "outputs": [
    {
     "data": {
      "text/html": [
       "<div>\n",
       "<style scoped>\n",
       "    .dataframe tbody tr th:only-of-type {\n",
       "        vertical-align: middle;\n",
       "    }\n",
       "\n",
       "    .dataframe tbody tr th {\n",
       "        vertical-align: top;\n",
       "    }\n",
       "\n",
       "    .dataframe thead th {\n",
       "        text-align: right;\n",
       "    }\n",
       "</style>\n",
       "<table border=\"1\" class=\"dataframe\">\n",
       "  <thead>\n",
       "    <tr style=\"text-align: right;\">\n",
       "      <th></th>\n",
       "      <th>hypothesis</th>\n",
       "      <th>RICE</th>\n",
       "    </tr>\n",
       "  </thead>\n",
       "  <tbody>\n",
       "    <tr>\n",
       "      <th>7</th>\n",
       "      <td>Добавить форму подписки на все основные страницы, чтобы собрать базу клиентов для email-рассылок</td>\n",
       "      <td>112.0</td>\n",
       "    </tr>\n",
       "    <tr>\n",
       "      <th>2</th>\n",
       "      <td>Добавить блоки рекомендаций товаров на сайт интернет магазина, чтобы повысить конверсию и средний чек заказа</td>\n",
       "      <td>56.0</td>\n",
       "    </tr>\n",
       "    <tr>\n",
       "      <th>0</th>\n",
       "      <td>Добавить два новых канала привлечения трафика, что позволит привлекать на 30% больше пользователей</td>\n",
       "      <td>40.0</td>\n",
       "    </tr>\n",
       "    <tr>\n",
       "      <th>6</th>\n",
       "      <td>Показать на главной странице баннеры с актуальными акциями и распродажами, чтобы увеличить конверсию</td>\n",
       "      <td>40.0</td>\n",
       "    </tr>\n",
       "    <tr>\n",
       "      <th>8</th>\n",
       "      <td>Запустить акцию, дающую скидку на товар в день рождения</td>\n",
       "      <td>16.2</td>\n",
       "    </tr>\n",
       "    <tr>\n",
       "      <th>3</th>\n",
       "      <td>Изменить структура категорий, что увеличит конверсию, т.к. пользователи быстрее найдут нужный товар</td>\n",
       "      <td>9.0</td>\n",
       "    </tr>\n",
       "    <tr>\n",
       "      <th>1</th>\n",
       "      <td>Запустить собственную службу доставки, что сократит срок доставки заказов</td>\n",
       "      <td>4.0</td>\n",
       "    </tr>\n",
       "    <tr>\n",
       "      <th>5</th>\n",
       "      <td>Добавить страницу отзывов клиентов о магазине, что позволит увеличить количество заказов</td>\n",
       "      <td>4.0</td>\n",
       "    </tr>\n",
       "    <tr>\n",
       "      <th>4</th>\n",
       "      <td>Изменить цвет фона главной страницы, чтобы увеличить вовлеченность пользователей</td>\n",
       "      <td>3.0</td>\n",
       "    </tr>\n",
       "  </tbody>\n",
       "</table>\n",
       "</div>"
      ],
      "text/plain": [
       "                                                                                                     hypothesis  \\\n",
       "7              Добавить форму подписки на все основные страницы, чтобы собрать базу клиентов для email-рассылок   \n",
       "2  Добавить блоки рекомендаций товаров на сайт интернет магазина, чтобы повысить конверсию и средний чек заказа   \n",
       "0            Добавить два новых канала привлечения трафика, что позволит привлекать на 30% больше пользователей   \n",
       "6          Показать на главной странице баннеры с актуальными акциями и распродажами, чтобы увеличить конверсию   \n",
       "8                                                       Запустить акцию, дающую скидку на товар в день рождения   \n",
       "3           Изменить структура категорий, что увеличит конверсию, т.к. пользователи быстрее найдут нужный товар   \n",
       "1                                     Запустить собственную службу доставки, что сократит срок доставки заказов   \n",
       "5                      Добавить страницу отзывов клиентов о магазине, что позволит увеличить количество заказов   \n",
       "4                              Изменить цвет фона главной страницы, чтобы увеличить вовлеченность пользователей   \n",
       "\n",
       "    RICE  \n",
       "7  112.0  \n",
       "2   56.0  \n",
       "0   40.0  \n",
       "6   40.0  \n",
       "8   16.2  \n",
       "3    9.0  \n",
       "1    4.0  \n",
       "5    4.0  \n",
       "4    3.0  "
      ]
     },
     "execution_count": 30,
     "metadata": {},
     "output_type": "execute_result"
    }
   ],
   "source": [
    "hypotheses[['hypothesis', 'RICE']].sort_values(by='RICE', ascending=False)"
   ]
  },
  {
   "cell_type": "markdown",
   "metadata": {},
   "source": [
    "**Наиболее перспективная гипотеза по RICE - \"Добавить форму подписки на все основные страницы, чтобы собрать базу клиентов для email-рассылок\".\n",
    "Менее перспективными оказались гипотезы:**\n",
    "- \"Добавить блоки рекомендаций товаров на сайт интернет магазина, чтобы повысить конверсию и средний чек заказа\",\n",
    "- \"Добавить два новых канала привлечения трафика, что позволит привлекать на 30% больше пользователей\",\n",
    "- \"Показать на главной странице баннеры с актуальными акциями и распродажами, чтобы увеличить конверсию\t\".\n",
    "- Ещё менее перспективной оказалась гипотеза \"Запустить акцию, дающую скидку на товар в день рождения\", которая была самой перспективной по ICE."
   ]
  },
  {
   "cell_type": "markdown",
   "metadata": {},
   "source": [
    "**Анализ приоритизации гипотез по двум фреймворкам**\n",
    "\n",
    "- гипотеза \"Запустить акцию, дающую скидку на товар в день рождения\" была самой перспективной по ICE, но заняла только 5-е место по RICE вследствие низкого параметра reach, не входящего в формулу ICE. Следовательно, это изменение затронет только 5 % пользователей. При этом у этой гипотезы высокие параметры impact и confidence, равные 9, что означает, что изменение довольно сильно повлияет на пользователей, а оценки параметров достаточно точны. Параметр efforts равен 6, т.е., это изменение требует затрат выше средних; \n",
    "- гипотеза \"Добавить форму подписки на все основные страницы, чтобы собрать базу клиентов для email-рассылок\" стала самой перспективной по RICE, т.к. её параметр reach, который входит в формулу RICE и не входит в формулу ICE, равен 10. Следовательно, это изменение затронет 50 % пользователей. Параметр confidence у этой гипотезы равен 8, следовательно, уверенность в оценках других параметров достаточно высока. Параметр efforts у гипотезы равен 5, значит, это изменение требует средних затрат; \n",
    "- гипотеза \"Добавить блоки рекомендаций товаров на сайт интернет магазина, чтобы повысить конверсию и средний чек заказа\" поднялась на 2-е место по RICE с 5-го по ICE, т.к. имеет значение reach, равное 8, а значит, это изменение затронет 40 % пользователей. Параметр efforts равен 3, т.е. это изменение стоит недорого. Параметр confidence равен 7, следовательно, уверенность в оценках других параметров ниже, чем у гипотезы \"Добавить форму подписки на все основные страницы, чтобы собрать базу клиентов для email-рассылок\", но достаточно высока; \n",
    "- для гипотезы \"Добавить два новых канала привлечения трафика, что позволит привлекать на 30% больше пользователей\" reach равен 3, следовательно, это изменение затрагивает небольшое количество пользователей (15 %), но имеет параметр impact, равный 10, т.е., оказывает максимальное влияние на этих пользователей. Параметр efforts равен 6, т.е., это изменение требует затрат больших, чем изменения \"Добавить форму подписки на все основные страницы, чтобы собрать базу клиентов для email-рассылок\" и \"Добавить блоки рекомендаций товаров на сайт интернет магазина, чтобы повысить конверсию и средний чек заказа\"; \n",
    "- гипотеза \"Показать на главной странице баннеры с актуальными акциями и распродажами, чтобы увеличить конверсию\" заняла 4-е место и по ICE, и по RICE. Параметр reach равен 5, т.е. затронет 25 % пользователей. Параметр efforts равен 3, т.е. это изменение стоит недорого. Параметр confidence у этой гипотезы равен 8, следовательно, уверенность в оценках других параметров достаточно высока.\n",
    "\n",
    "**Вывод: приоритизация гипотез показала, что следует проверить гипотезы:**\n",
    "- \"Добавить форму подписки на все основные страницы, чтобы собрать базу клиентов для email-рассылок\",\n",
    "- \"Добавить блоки рекомендаций товаров на сайт интернет магазина, чтобы повысить конверсию и средний чек заказа\",\n",
    "- \"Показать на главной странице баннеры с актуальными акциями и распродажами, чтобы увеличить конверсию\",\n",
    "- \"Добавить два новых канала привлечения трафика, что позволит привлекать на 30% больше пользователей\", \\\n",
    "поскольку эти изменения затронут от 15 до 50 % пользователей и потребуют от небольшого до среднего количества затрат. \\\n",
    "Гипотезу \"Запустить акцию, дающую скидку на товар в день рождения\" отбрасываем, т.к. она охватывает только 5 % пользователей."
   ]
  },
  {
   "cell_type": "markdown",
   "metadata": {},
   "source": [
    "## Анализ A/B-теста"
   ]
  },
  {
   "cell_type": "markdown",
   "metadata": {},
   "source": [
    "### График кумулятивной выручки по группам"
   ]
  },
  {
   "cell_type": "markdown",
   "metadata": {},
   "source": [
    "*Создадим датафрейм `dates_groups`, куда войдут уникальные пары значений `date` и `group` из датафрейма `orders`.*"
   ]
  },
  {
   "cell_type": "code",
   "execution_count": 31,
   "metadata": {},
   "outputs": [],
   "source": [
    "dates_groups = orders[['date', 'group']].drop_duplicates()"
   ]
  },
  {
   "cell_type": "markdown",
   "metadata": {},
   "source": [
    "*Объявим переменную `orders_aggregated`, в которую занесём агрегированные кумулятивные по дням данные о заказах.*"
   ]
  },
  {
   "cell_type": "code",
   "execution_count": 32,
   "metadata": {},
   "outputs": [],
   "source": [
    "orders_aggregated = (dates_groups\n",
    "    #получим строки таблицы orders, дата которых меньше или равна дате элемента из dates_groups, \n",
    "    #а группа теста равна группе из dates_groups\n",
    "    .apply(lambda x: orders[np.logical_and(orders['date'] <= x['date'], orders['group'] == x['group'])]\n",
    "    #агрегируем значения; вычислим максимальную дату; для группы тоже рассчитаем максимум, \n",
    "    #чтобы столбец 'group' не пропал из итогового вывода; найдём число уникальных ID транзакций и посетителей;\n",
    "    #подсчитаем сумму средних чеков; применим методы к каждой строке датафрейма\n",
    "    .agg({'date' : 'max', \n",
    "          'group' : 'max', \n",
    "          'transaction_id' : 'nunique', \n",
    "          'visitor_id' : 'nunique', \n",
    "          'revenue' : 'sum'}), \n",
    "           axis=1)\n",
    "    #отсортируем результаты по столбцам 'date' и 'group'\n",
    "    .sort_values(by=['date','group'])\n",
    ")"
   ]
  },
  {
   "cell_type": "markdown",
   "metadata": {},
   "source": [
    "*Объявим переменную `visitors_aggregated`, в которую занесём кумулятивные по дням данные о посетителях интернет-магазина.*"
   ]
  },
  {
   "cell_type": "code",
   "execution_count": 33,
   "metadata": {},
   "outputs": [],
   "source": [
    "visitors_aggregated = (dates_groups\n",
    "        .apply(lambda x: visitors[np.logical_and(visitors['date'] <= x['date'], visitors['group'] == x['group'])]\n",
    "        .agg({'date' : 'max', \n",
    "              'group' : 'max', \n",
    "              'visitors' : 'sum'}), \n",
    "               axis=1)\n",
    "        .sort_values(by=['date', 'group'])\n",
    ")"
   ]
  },
  {
   "cell_type": "markdown",
   "metadata": {},
   "source": [
    "*Объединим таблицы `orders_aggregated` и `visitors_aggregated` в одну.*"
   ]
  },
  {
   "cell_type": "code",
   "execution_count": 34,
   "metadata": {},
   "outputs": [],
   "source": [
    "cumulative_data = orders_aggregated.merge(visitors_aggregated, left_on=['date', 'group'], right_on=['date', 'group'])"
   ]
  },
  {
   "cell_type": "markdown",
   "metadata": {},
   "source": [
    "*Присвоим столбцам таблицы `cumulative_data` названия.*"
   ]
  },
  {
   "cell_type": "code",
   "execution_count": 35,
   "metadata": {},
   "outputs": [],
   "source": [
    "cumulative_data.columns = ['date', 'group', 'orders', 'buyers', 'revenue', 'visitors']"
   ]
  },
  {
   "cell_type": "markdown",
   "metadata": {},
   "source": [
    "*Выведем первые 5 строк таблицы `cumulative_data`.*"
   ]
  },
  {
   "cell_type": "code",
   "execution_count": 36,
   "metadata": {},
   "outputs": [
    {
     "data": {
      "text/html": [
       "<div>\n",
       "<style scoped>\n",
       "    .dataframe tbody tr th:only-of-type {\n",
       "        vertical-align: middle;\n",
       "    }\n",
       "\n",
       "    .dataframe tbody tr th {\n",
       "        vertical-align: top;\n",
       "    }\n",
       "\n",
       "    .dataframe thead th {\n",
       "        text-align: right;\n",
       "    }\n",
       "</style>\n",
       "<table border=\"1\" class=\"dataframe\">\n",
       "  <thead>\n",
       "    <tr style=\"text-align: right;\">\n",
       "      <th></th>\n",
       "      <th>date</th>\n",
       "      <th>group</th>\n",
       "      <th>orders</th>\n",
       "      <th>buyers</th>\n",
       "      <th>revenue</th>\n",
       "      <th>visitors</th>\n",
       "    </tr>\n",
       "  </thead>\n",
       "  <tbody>\n",
       "    <tr>\n",
       "      <th>0</th>\n",
       "      <td>2019-08-01</td>\n",
       "      <td>A</td>\n",
       "      <td>23</td>\n",
       "      <td>19</td>\n",
       "      <td>142779</td>\n",
       "      <td>719</td>\n",
       "    </tr>\n",
       "    <tr>\n",
       "      <th>1</th>\n",
       "      <td>2019-08-01</td>\n",
       "      <td>B</td>\n",
       "      <td>17</td>\n",
       "      <td>17</td>\n",
       "      <td>59758</td>\n",
       "      <td>713</td>\n",
       "    </tr>\n",
       "    <tr>\n",
       "      <th>2</th>\n",
       "      <td>2019-08-02</td>\n",
       "      <td>A</td>\n",
       "      <td>42</td>\n",
       "      <td>36</td>\n",
       "      <td>234381</td>\n",
       "      <td>1338</td>\n",
       "    </tr>\n",
       "    <tr>\n",
       "      <th>3</th>\n",
       "      <td>2019-08-02</td>\n",
       "      <td>B</td>\n",
       "      <td>40</td>\n",
       "      <td>39</td>\n",
       "      <td>221801</td>\n",
       "      <td>1294</td>\n",
       "    </tr>\n",
       "    <tr>\n",
       "      <th>4</th>\n",
       "      <td>2019-08-03</td>\n",
       "      <td>A</td>\n",
       "      <td>66</td>\n",
       "      <td>60</td>\n",
       "      <td>346854</td>\n",
       "      <td>1845</td>\n",
       "    </tr>\n",
       "  </tbody>\n",
       "</table>\n",
       "</div>"
      ],
      "text/plain": [
       "        date group  orders  buyers  revenue  visitors\n",
       "0 2019-08-01     A      23      19   142779       719\n",
       "1 2019-08-01     B      17      17    59758       713\n",
       "2 2019-08-02     A      42      36   234381      1338\n",
       "3 2019-08-02     B      40      39   221801      1294\n",
       "4 2019-08-03     A      66      60   346854      1845"
      ]
     },
     "execution_count": 36,
     "metadata": {},
     "output_type": "execute_result"
    }
   ],
   "source": [
    "cumulative_data.head()"
   ]
  },
  {
   "cell_type": "markdown",
   "metadata": {},
   "source": [
    "*Из таблицы `cumulative_data` выделим данные с кумулятивным количеством заказов и кумулятивной выручкой по дням в группе А и запишем их в новый датафрейм `cumulative_revenue_A`.*"
   ]
  },
  {
   "cell_type": "code",
   "execution_count": 37,
   "metadata": {},
   "outputs": [],
   "source": [
    "cumulative_revenue_A = cumulative_data[cumulative_data['group']=='A'][['date','revenue', 'orders']]"
   ]
  },
  {
   "cell_type": "markdown",
   "metadata": {},
   "source": [
    "*Из таблицы `cumulative_data` выделим данные с кумулятивным количеством заказов и кумулятивной выручкой по дням в группе B и запишем их в новый датафрейм `cumulative_revenue_B`.*"
   ]
  },
  {
   "cell_type": "code",
   "execution_count": 38,
   "metadata": {},
   "outputs": [],
   "source": [
    "cumulative_revenue_B = cumulative_data[cumulative_data['group']=='B'][['date','revenue', 'orders']]"
   ]
  },
  {
   "cell_type": "markdown",
   "metadata": {},
   "source": [
    "*Построим график кумулятивной выручки по группам.*"
   ]
  },
  {
   "cell_type": "code",
   "execution_count": 39,
   "metadata": {},
   "outputs": [
    {
     "data": {
      "image/png": "[encoded data removed]",
      "text/plain": [
       "<Figure size 720x432 with 1 Axes>"
      ]
     },
     "metadata": {
      "needs_background": "light"
     },
     "output_type": "display_data"
    }
   ],
   "source": [
    "plt.figure(figsize = (10, 6))\n",
    "plt.plot(cumulative_revenue_A['date'], cumulative_revenue_A['revenue'], label='A')\n",
    "plt.plot(cumulative_revenue_B['date'], cumulative_revenue_B['revenue'], label='B')\n",
    "plt.xlabel('Дата', fontsize=12)\n",
    "plt.ylabel('Выручка', fontsize=12)\n",
    "plt.title('Кумулятивная выручка по группам', fontsize=14)\n",
    "plt.legend() \n",
    "plt.show()"
   ]
  },
  {
   "cell_type": "markdown",
   "metadata": {},
   "source": [
    "**Выручка по группе A практически равномерно увеличивается в течение всего теста. Выручка по группе B равномерно увеличивается примерно до 18.08.19, затем происходит резкий скачок роста выручки в течение 1-2 дней, что может свидетельствовать о всплеске числа заказов или о появлении очень дорогих заказов в выборке. Затем рост выручки снова стабилизируется.**"
   ]
  },
  {
   "cell_type": "markdown",
   "metadata": {},
   "source": [
    "### График кумулятивного среднего чека по группам"
   ]
  },
  {
   "cell_type": "markdown",
   "metadata": {},
   "source": [
    "*Построим графики среднего чека по группам, разделив кумулятивную выручку на кумулятивное число заказов.*"
   ]
  },
  {
   "cell_type": "code",
   "execution_count": 40,
   "metadata": {},
   "outputs": [
    {
     "data": {
      "image/png": "[encoded data removed]",
      "text/plain": [
       "<Figure size 720x432 with 1 Axes>"
      ]
     },
     "metadata": {
      "needs_background": "light"
     },
     "output_type": "display_data"
    }
   ],
   "source": [
    "plt.figure(figsize = (10, 6))\n",
    "plt.plot(cumulative_revenue_A['date'], cumulative_revenue_A['revenue']/cumulative_revenue_A['orders'], label='A')\n",
    "plt.plot(cumulative_revenue_B['date'], cumulative_revenue_B['revenue']/cumulative_revenue_B['orders'], label='B')\n",
    "plt.xlabel('Дата', fontsize=12)\n",
    "plt.ylabel('Средний чек', fontsize=12)\n",
    "plt.title('Кумулятивный средний чек по группам', fontsize=14)\n",
    "plt.legend() \n",
    "plt.show() "
   ]
  },
  {
   "cell_type": "markdown",
   "metadata": {},
   "source": [
    "**Для группы A кумулятивный средний чек уменьшается в начале теста примерно до 06.08.2019, затем увеличивается до 13.08.2019, после чего немного уменьшается и остаётся практически неизменным с небольшим повышением к концу теста. Средний чек для группы B отличается двухступенчатым увеличением в начале теста, примерно равномерным значением в середине теста, затем происходит резкое кратковременное увеличение, по времени совпадающее со скачком выручки, после чего происходит плавное уменьшение. По-видимому, в заказы группы B попал дорогой товар.**"
   ]
  },
  {
   "cell_type": "markdown",
   "metadata": {},
   "source": [
    "### График относительного изменения кумулятивного среднего чека группы B к группе A"
   ]
  },
  {
   "cell_type": "markdown",
   "metadata": {},
   "source": [
    "*Объединим данные в один датафрейм.*"
   ]
  },
  {
   "cell_type": "code",
   "execution_count": 41,
   "metadata": {},
   "outputs": [],
   "source": [
    "merged_cumulative_revenue = cumulative_revenue_A.merge(\n",
    "                            cumulative_revenue_B, left_on='date', right_on='date', how='left', suffixes=['A', 'B'])"
   ]
  },
  {
   "cell_type": "code",
   "execution_count": 42,
   "metadata": {},
   "outputs": [
    {
     "data": {
      "text/html": [
       "<div>\n",
       "<style scoped>\n",
       "    .dataframe tbody tr th:only-of-type {\n",
       "        vertical-align: middle;\n",
       "    }\n",
       "\n",
       "    .dataframe tbody tr th {\n",
       "        vertical-align: top;\n",
       "    }\n",
       "\n",
       "    .dataframe thead th {\n",
       "        text-align: right;\n",
       "    }\n",
       "</style>\n",
       "<table border=\"1\" class=\"dataframe\">\n",
       "  <thead>\n",
       "    <tr style=\"text-align: right;\">\n",
       "      <th></th>\n",
       "      <th>date</th>\n",
       "      <th>revenueA</th>\n",
       "      <th>ordersA</th>\n",
       "      <th>revenueB</th>\n",
       "      <th>ordersB</th>\n",
       "    </tr>\n",
       "  </thead>\n",
       "  <tbody>\n",
       "    <tr>\n",
       "      <th>0</th>\n",
       "      <td>2019-08-01</td>\n",
       "      <td>142779</td>\n",
       "      <td>23</td>\n",
       "      <td>59758</td>\n",
       "      <td>17</td>\n",
       "    </tr>\n",
       "    <tr>\n",
       "      <th>1</th>\n",
       "      <td>2019-08-02</td>\n",
       "      <td>234381</td>\n",
       "      <td>42</td>\n",
       "      <td>221801</td>\n",
       "      <td>40</td>\n",
       "    </tr>\n",
       "    <tr>\n",
       "      <th>2</th>\n",
       "      <td>2019-08-03</td>\n",
       "      <td>346854</td>\n",
       "      <td>66</td>\n",
       "      <td>288850</td>\n",
       "      <td>54</td>\n",
       "    </tr>\n",
       "    <tr>\n",
       "      <th>3</th>\n",
       "      <td>2019-08-04</td>\n",
       "      <td>388030</td>\n",
       "      <td>77</td>\n",
       "      <td>385740</td>\n",
       "      <td>68</td>\n",
       "    </tr>\n",
       "    <tr>\n",
       "      <th>4</th>\n",
       "      <td>2019-08-05</td>\n",
       "      <td>474413</td>\n",
       "      <td>99</td>\n",
       "      <td>475648</td>\n",
       "      <td>89</td>\n",
       "    </tr>\n",
       "  </tbody>\n",
       "</table>\n",
       "</div>"
      ],
      "text/plain": [
       "        date  revenueA  ordersA  revenueB  ordersB\n",
       "0 2019-08-01    142779       23     59758       17\n",
       "1 2019-08-02    234381       42    221801       40\n",
       "2 2019-08-03    346854       66    288850       54\n",
       "3 2019-08-04    388030       77    385740       68\n",
       "4 2019-08-05    474413       99    475648       89"
      ]
     },
     "execution_count": 42,
     "metadata": {},
     "output_type": "execute_result"
    }
   ],
   "source": [
    "merged_cumulative_revenue.head()"
   ]
  },
  {
   "cell_type": "markdown",
   "metadata": {},
   "source": [
    "*Построим график относительного различия для среднего чека. Добавим горизонтальную ось методом axhline().*"
   ]
  },
  {
   "cell_type": "code",
   "execution_count": 43,
   "metadata": {},
   "outputs": [
    {
     "data": {
      "image/png": "[encoded data removed]",
      "text/plain": [
       "<Figure size 720x432 with 1 Axes>"
      ]
     },
     "metadata": {
      "needs_background": "light"
     },
     "output_type": "display_data"
    }
   ],
   "source": [
    "plt.figure(figsize = (10, 6))\n",
    "plt.plot(merged_cumulative_revenue['date'], \n",
    "        (merged_cumulative_revenue['revenueB']/merged_cumulative_revenue['ordersB'])/\n",
    "        (merged_cumulative_revenue['revenueA']/merged_cumulative_revenue['ordersA'])-1)\n",
    "plt.axhline(y=0, color='black', linestyle='--') \n",
    "plt.xlabel('Дата', fontsize=12)\n",
    "plt.ylabel('Относительное изменение среднего чека', fontsize=12)\n",
    "plt.title('Относительное изменение кумулятивного среднего чека группы B к группе A', fontsize=14)\n",
    "plt.show() "
   ]
  },
  {
   "cell_type": "markdown",
   "metadata": {},
   "source": [
    "**График кумулятивного среднего чека резко меняется в нескольких точках, что может свидетельствовать о наличии выбросов.**"
   ]
  },
  {
   "cell_type": "markdown",
   "metadata": {},
   "source": [
    "### График кумулятивного среднего количества заказов по группам"
   ]
  },
  {
   "cell_type": "markdown",
   "metadata": {},
   "source": [
    "*Считаем кумулятивное среднее количество заказов по группам.*"
   ]
  },
  {
   "cell_type": "code",
   "execution_count": 44,
   "metadata": {},
   "outputs": [
    {
     "data": {
      "image/png": "[encoded data removed]",
      "text/plain": [
       "<Figure size 720x432 with 1 Axes>"
      ]
     },
     "metadata": {
      "needs_background": "light"
     },
     "output_type": "display_data"
    }
   ],
   "source": [
    "plt.figure(figsize = (10, 6))\n",
    "plt.plot(cumulative_revenue_A['date'], cumulative_revenue_A['orders'], label='A')\n",
    "plt.plot(cumulative_revenue_B['date'], cumulative_revenue_B['orders'], label='B')\n",
    "plt.xlabel('Дата', fontsize=12)\n",
    "plt.ylabel('Среднее количество заказов', fontsize=12)\n",
    "plt.title('Кумулятивное среднее количество заказов по группам', fontsize=14)\n",
    "plt.legend() \n",
    "plt.show()"
   ]
  },
  {
   "cell_type": "markdown",
   "metadata": {},
   "source": [
    "**Кумулятивные средние количества заказов по группам почти одинаковые в начале, затем кумулятивное среднее количество заказов группы B превышает кумулятивное среднее количество заказов группы A.**"
   ]
  },
  {
   "cell_type": "markdown",
   "metadata": {},
   "source": [
    "### График относительного изменения кумулятивного среднего количества заказов группы B к группе A"
   ]
  },
  {
   "cell_type": "markdown",
   "metadata": {},
   "source": [
    "*Считаем относительное изменение кумулятивного среднего количества заказов по группам.*"
   ]
  },
  {
   "cell_type": "code",
   "execution_count": 45,
   "metadata": {},
   "outputs": [
    {
     "data": {
      "image/png": "[encoded data removed]",
      "text/plain": [
       "<Figure size 720x432 with 1 Axes>"
      ]
     },
     "metadata": {
      "needs_background": "light"
     },
     "output_type": "display_data"
    }
   ],
   "source": [
    "plt.figure(figsize = (10, 6))\n",
    "plt.plot(merged_cumulative_revenue['date'], \n",
    "        (merged_cumulative_revenue['ordersB']/merged_cumulative_revenue['ordersA'])-1)\n",
    "plt.axhline(y=0, color='black', linestyle='--') \n",
    "plt.xlabel('Дата', fontsize=12)\n",
    "plt.ylabel('Относительное изменение среднего количества заказов', fontsize=12)\n",
    "plt.title('Относительное изменение кумулятивного среднего количества заказов группы B к группе A', fontsize=14)\n",
    "plt.show() "
   ]
  },
  {
   "cell_type": "markdown",
   "metadata": {},
   "source": [
    "**Из этого графика видно, среднее количество заказов группы B значительно превышает таковое группы A на большей части теста.**"
   ]
  },
  {
   "cell_type": "markdown",
   "metadata": {},
   "source": [
    "*Посчитаем кумулятивную конверсию.*"
   ]
  },
  {
   "cell_type": "code",
   "execution_count": 46,
   "metadata": {},
   "outputs": [],
   "source": [
    "cumulative_data['conversion'] = cumulative_data['orders']/cumulative_data['visitors']"
   ]
  },
  {
   "cell_type": "markdown",
   "metadata": {},
   "source": [
    "*Отделяем данные по группе A.*"
   ]
  },
  {
   "cell_type": "code",
   "execution_count": 47,
   "metadata": {},
   "outputs": [],
   "source": [
    "cumulative_data_A = cumulative_data[cumulative_data['group']=='A']"
   ]
  },
  {
   "cell_type": "markdown",
   "metadata": {},
   "source": [
    "*Отделяем данные по группе B.*"
   ]
  },
  {
   "cell_type": "code",
   "execution_count": 48,
   "metadata": {},
   "outputs": [],
   "source": [
    "cumulative_data_B = cumulative_data[cumulative_data['group']=='B']"
   ]
  },
  {
   "cell_type": "markdown",
   "metadata": {},
   "source": [
    "*Строим график кумулятивной конверсии.*"
   ]
  },
  {
   "cell_type": "code",
   "execution_count": 49,
   "metadata": {},
   "outputs": [
    {
     "data": {
      "image/png": "[encoded data removed]",
      "text/plain": [
       "<Figure size 720x432 with 1 Axes>"
      ]
     },
     "metadata": {
      "needs_background": "light"
     },
     "output_type": "display_data"
    }
   ],
   "source": [
    "plt.figure(figsize = (10, 6))\n",
    "plt.plot(cumulative_data_A['date'], cumulative_data_A['conversion'], label='A')\n",
    "plt.plot(cumulative_data_B['date'], cumulative_data_B['conversion'], label='B')\n",
    "plt.xlabel('Дата', fontsize=12)\n",
    "plt.ylabel('Кумулятивная конверсия', fontsize=12)\n",
    "plt.title('Кумулятивное конверсия по группам', fontsize=14)\n",
    "plt.legend() \n",
    "plt.show() "
   ]
  },
  {
   "cell_type": "markdown",
   "metadata": {},
   "source": [
    "**В начале теста конверсия группы A превышает конверсию группы B, а затем конверсия группы B увеличивается и остальную часть теста превышает конверсию группы A.**"
   ]
  },
  {
   "cell_type": "markdown",
   "metadata": {},
   "source": [
    "*Построим график относительного различия кумулятивных конверсий.*"
   ]
  },
  {
   "cell_type": "code",
   "execution_count": 50,
   "metadata": {},
   "outputs": [
    {
     "data": {
      "image/png": "[encoded data removed]",
      "text/plain": [
       "<Figure size 720x432 with 1 Axes>"
      ]
     },
     "metadata": {
      "needs_background": "light"
     },
     "output_type": "display_data"
    }
   ],
   "source": [
    "merged_cumulative_conversions = (\n",
    "    cumulative_data_A[['date','conversion']]\n",
    "        .merge(cumulative_data_B[['date','conversion']], left_on='date', right_on='date', how='left', suffixes=['A', 'B'])\n",
    ")\n",
    "\n",
    "plt.figure(figsize = (10, 6))\n",
    "plt.plot(\n",
    "         merged_cumulative_conversions['date'], \n",
    "         merged_cumulative_conversions['conversionB']/merged_cumulative_conversions['conversionA']-1, \n",
    ")\n",
    "\n",
    "plt.axhline(y=0, color='black', linestyle='--')\n",
    "plt.axhline(y=0.1, color='grey', linestyle='--')\n",
    "plt.xlabel('Дата', fontsize=12)\n",
    "plt.ylabel('Относительная кумулятивная конверсия', fontsize=12)\n",
    "plt.title('Относительный прирост конверсии группы B относительно группы A', fontsize=14)\n",
    "plt.show() "
   ]
  },
  {
   "cell_type": "markdown",
   "metadata": {},
   "source": [
    "**График относительного прироста конверсии также демонстрирует превышение конверсии группы B над группой A.**"
   ]
  },
  {
   "cell_type": "markdown",
   "metadata": {},
   "source": [
    "### Точечный график количества заказов по пользователям"
   ]
  },
  {
   "cell_type": "markdown",
   "metadata": {},
   "source": [
    "*Подсчитаем количество заказов по пользователям.*"
   ]
  },
  {
   "cell_type": "code",
   "execution_count": 51,
   "metadata": {},
   "outputs": [],
   "source": [
    "orders_by_users = (\n",
    "    orders.groupby('visitor_id', as_index=False)\n",
    "    .agg({'transaction_id': 'nunique'})\n",
    ")\n",
    "\n",
    "orders_by_users.columns = ['visitor_id', 'orders']"
   ]
  },
  {
   "cell_type": "markdown",
   "metadata": {},
   "source": [
    "*Построим точечную диаграмму числа заказов на одного пользователя.*"
   ]
  },
  {
   "cell_type": "code",
   "execution_count": 52,
   "metadata": {},
   "outputs": [
    {
     "data": {
      "image/png": "[encoded data removed]",
      "text/plain": [
       "<Figure size 720x432 with 1 Axes>"
      ]
     },
     "metadata": {
      "needs_background": "light"
     },
     "output_type": "display_data"
    }
   ],
   "source": [
    "x_values = pd.Series(range(0,len(orders_by_users)))\n",
    "\n",
    "plt.figure(figsize = (10, 6))\n",
    "plt.scatter(x_values, orders_by_users['orders']) \n",
    "plt.xlabel('Пользователи', fontsize=12)\n",
    "plt.ylabel('Количество заказов', fontsize=12)\n",
    "plt.title('Количество заказов по пользователям', fontsize=14)\n",
    "plt.show() "
   ]
  },
  {
   "cell_type": "markdown",
   "metadata": {},
   "source": [
    "**Больше всего пользователей с одним заказом, довольно много пользователей с 2-мя заказами. Количество пользователей с 3-мя заказами невелико, по-видимому, их можно будет считать выбросами.**"
   ]
  },
  {
   "cell_type": "markdown",
   "metadata": {},
   "source": [
    "### Расчёт 95-й и 99-й перцентилей количества заказов на пользователя"
   ]
  },
  {
   "cell_type": "markdown",
   "metadata": {},
   "source": [
    "*Посчитаем выборочные перцентили количества заказов на одного пользователя.*"
   ]
  },
  {
   "cell_type": "code",
   "execution_count": 53,
   "metadata": {},
   "outputs": [
    {
     "name": "stdout",
     "output_type": "stream",
     "text": [
      "[1. 2.]\n"
     ]
    }
   ],
   "source": [
    "print(np.percentile(orders_by_users['orders'], [95, 99])) "
   ]
  },
  {
   "cell_type": "markdown",
   "metadata": {},
   "source": [
    "**Не более 1 % пользователей оформляли больше чем 2 заказа. Только 5 % пользователей делали более одного заказа. По-видимому,  за верхнюю границу числа заказов можно будет принять количество заказов больше 2-х.**"
   ]
  },
  {
   "cell_type": "markdown",
   "metadata": {},
   "source": [
    "### Точечный график стоимостей заказов"
   ]
  },
  {
   "cell_type": "markdown",
   "metadata": {},
   "source": [
    "*Оценим стоимость заказов.*"
   ]
  },
  {
   "cell_type": "code",
   "execution_count": 54,
   "metadata": {},
   "outputs": [
    {
     "data": {
      "image/png": "[encoded data removed]",
      "text/plain": [
       "<Figure size 720x432 with 1 Axes>"
      ]
     },
     "metadata": {
      "needs_background": "light"
     },
     "output_type": "display_data"
    }
   ],
   "source": [
    "x_values = pd.Series(range(0,len(orders['revenue'])))\n",
    "plt.figure(figsize = (10, 6))\n",
    "plt.scatter(x_values, orders['revenue']) \n",
    "plt.xlabel('Заказы', fontsize=12)\n",
    "plt.ylabel('Стоимость заказов', fontsize=12)\n",
    "plt.title('Стоимость заказов', fontsize=14)\n",
    "plt.show() "
   ]
  },
  {
   "cell_type": "markdown",
   "metadata": {},
   "source": [
    "*Ограничим ось ординат, исключив самый большой выброс.*"
   ]
  },
  {
   "cell_type": "code",
   "execution_count": 55,
   "metadata": {},
   "outputs": [
    {
     "data": {
      "image/png": "[encoded data removed]",
      "text/plain": [
       "<Figure size 720x432 with 1 Axes>"
      ]
     },
     "metadata": {
      "needs_background": "light"
     },
     "output_type": "display_data"
    }
   ],
   "source": [
    "x_values = pd.Series(range(0,len(orders['revenue'])))\n",
    "plt.figure(figsize = (10, 6))\n",
    "plt.ylim([0, 300000])\n",
    "plt.axhline(y=50000, color='grey', linestyle='--')\n",
    "plt.scatter(x_values, orders['revenue']) \n",
    "plt.xlabel('Заказы', fontsize=12)\n",
    "plt.ylabel('Стоимость заказов', fontsize=12)\n",
    "plt.title('Стоимость заказов', fontsize=14)\n",
    "plt.show() "
   ]
  },
  {
   "cell_type": "markdown",
   "metadata": {},
   "source": [
    "**Стоимость большинства заказов не превышает 50 000 руб. Наблюдается значительный выброс стоимостью более 1 млн руб.**"
   ]
  },
  {
   "cell_type": "markdown",
   "metadata": {},
   "source": [
    "### Расчёт 95-й и 99-й перцентилей стоимости заказов"
   ]
  },
  {
   "cell_type": "markdown",
   "metadata": {},
   "source": [
    "*Посчитаем выборочные перцентили стоимости заказов.*"
   ]
  },
  {
   "cell_type": "code",
   "execution_count": 56,
   "metadata": {},
   "outputs": [
    {
     "name": "stdout",
     "output_type": "stream",
     "text": [
      "[26785. 53904.]\n"
     ]
    }
   ],
   "source": [
    "print(np.percentile(orders['revenue'], [95, 99])) "
   ]
  },
  {
   "cell_type": "markdown",
   "metadata": {},
   "source": [
    "**Не более 5 % заказов дороже 26785 руб. и не более 1 % дороже 53904 руб. Примем стоимость заказа в 53904 руб. за верхнюю границу.**"
   ]
  },
  {
   "cell_type": "markdown",
   "metadata": {},
   "source": [
    "### Расчёт статистической значимости различий в среднем количестве заказов между группами по «сырым» данным"
   ]
  },
  {
   "cell_type": "markdown",
   "metadata": {},
   "source": [
    "*Создадим переменную `visitors_A_daily`, куда занесём количество посетителей на каждый день из группы A.*"
   ]
  },
  {
   "cell_type": "code",
   "execution_count": 57,
   "metadata": {},
   "outputs": [],
   "source": [
    "visitors_A_daily = visitors[visitors['group'] == 'A'][['date', 'visitors']]"
   ]
  },
  {
   "cell_type": "markdown",
   "metadata": {},
   "source": [
    "*Создадим переменную `visitors_B_daily`, куда занесём количество посетителей на каждый день из группы B.*"
   ]
  },
  {
   "cell_type": "code",
   "execution_count": 58,
   "metadata": {},
   "outputs": [],
   "source": [
    "visitors_B_daily = visitors[visitors['group'] == 'B'][['date', 'visitors']]"
   ]
  },
  {
   "cell_type": "markdown",
   "metadata": {},
   "source": [
    "*Создадим переменные `orders_by_users_A` и `orders_by_users_B` со столбцами `visitor_id`, `orders`. В них для пользователей, которые заказывали хотя бы 1 раз, укажем число совершённых заказов.*"
   ]
  },
  {
   "cell_type": "code",
   "execution_count": 59,
   "metadata": {},
   "outputs": [],
   "source": [
    "orders_by_users_A = (\n",
    "    orders[orders['group'] == 'A']\n",
    "    .groupby('visitor_id', as_index=False)\n",
    "    .agg({'transaction_id': pd.Series.nunique})\n",
    ")\n",
    "orders_by_users_A.columns = ['visitor_id', 'orders']"
   ]
  },
  {
   "cell_type": "code",
   "execution_count": 60,
   "metadata": {},
   "outputs": [],
   "source": [
    "orders_by_users_B = (\n",
    "    orders[orders['group'] == 'B']\n",
    "    .groupby('visitor_id', as_index=False)\n",
    "    .agg({'transaction_id': pd.Series.nunique})\n",
    ")\n",
    "orders_by_users_B.columns = ['visitor_id', 'orders']"
   ]
  },
  {
   "cell_type": "markdown",
   "metadata": {},
   "source": [
    "*Объявим переменные sampleA и sampleB, в которых пользователям из разных групп будет соответствовать количество заказов. Тем, кто ничего не заказал, будут соответствовать нули.*"
   ]
  },
  {
   "cell_type": "code",
   "execution_count": 61,
   "metadata": {},
   "outputs": [],
   "source": [
    "sampleA = pd.concat(\n",
    "    [orders_by_users_A['orders'],\n",
    "     pd.Series(\n",
    "               0,\n",
    "               index=np.arange(\n",
    "                    visitors_A_daily['visitors'].sum() - len(orders_by_users_A['orders'])\n",
    "                    ),\n",
    "               name='orders',\n",
    "               ),\n",
    "    ],\n",
    "    axis=0,\n",
    ")"
   ]
  },
  {
   "cell_type": "code",
   "execution_count": 62,
   "metadata": {},
   "outputs": [],
   "source": [
    "sampleB = pd.concat(\n",
    "    [orders_by_users_B['orders'],\n",
    "     pd.Series(\n",
    "               0,\n",
    "               index=np.arange(\n",
    "                    visitors_B_daily['visitors'].sum() - len(orders_by_users_B['orders'])\n",
    "                    ),\n",
    "               name='orders',\n",
    "               ),\n",
    "    ],\n",
    "    axis=0,\n",
    ")"
   ]
  },
  {
   "cell_type": "markdown",
   "metadata": {},
   "source": [
    "Сформулируем гипотезы. \\\n",
    "Нулевая: различий в среднем количестве заказов между группами нет. \\\n",
    "Альтернативная: различия в среднем количестве заказов между группами есть."
   ]
  },
  {
   "cell_type": "markdown",
   "metadata": {},
   "source": [
    "*Посчитаем статистическую значимость различия среднего количества заказов посетителей из двух групп. Применим тест Манна-Уитни.*"
   ]
  },
  {
   "cell_type": "code",
   "execution_count": 63,
   "metadata": {},
   "outputs": [
    {
     "name": "stdout",
     "output_type": "stream",
     "text": [
      "p-value = 0.01102\n",
      "Относительный прирост среднего числа заказов группы B по сравнению с A составляет 16.0%\n"
     ]
    }
   ],
   "source": [
    "print('p-value =', \"{0:.5f}\".format(stats.mannwhitneyu(sampleA, sampleB)[1]))\n",
    "    \n",
    "print('Относительный прирост среднего числа заказов группы B по сравнению с A составляет', \n",
    "      \"{0:.1%}\".format(sampleB.mean() / sampleA.mean() - 1))"
   ]
  },
  {
   "cell_type": "markdown",
   "metadata": {},
   "source": [
    "**p-value = 0.01102, что меньше критического уровня значимости в 0.05, следовательно, у нас есть основания отвергнуть нулевую гипотезу о равенстве среднего количества заказов в двух группах и принять альтернативную гипотезу о том, что различия в среднем количестве заказов между группами есть. Среднее количество заказов в группе B превышает среднее количество заказов в группе A на 16 %.**"
   ]
  },
  {
   "cell_type": "markdown",
   "metadata": {},
   "source": [
    "### Расчёт статистической значимости различий в среднем чеке заказа между группами по «сырым» данным"
   ]
  },
  {
   "cell_type": "markdown",
   "metadata": {},
   "source": [
    "Сформулируем гипотезы. \\\n",
    "Нулевая: различий в среднем чеке между группами нет. \\\n",
    "Альтернативная: различия в среднем чеке между группами есть."
   ]
  },
  {
   "cell_type": "markdown",
   "metadata": {},
   "source": [
    "*Чтобы рассчитать статистическую значимость различий в среднем чеке, передадим критерию mannwhitneyu() данные о выручке с заказов и найдём относительные различия в среднем чеке между группами.*"
   ]
  },
  {
   "cell_type": "code",
   "execution_count": 64,
   "metadata": {},
   "outputs": [
    {
     "name": "stdout",
     "output_type": "stream",
     "text": [
      "p-value = 0.82949\n",
      "Относительный прирост среднего чека группы B по сравнению с A составляет 28.7%\n"
     ]
    }
   ],
   "source": [
    "print('p-value =', '{0:.5f}'.format(stats.mannwhitneyu(orders[orders['group']=='A']['revenue'], orders[orders['group']=='B']['revenue'])[1]))\n",
    "\n",
    "print('Относительный прирост среднего чека группы B по сравнению с A составляет',\n",
    "      '{0:.1%}'.format(orders[orders['group']=='B']['revenue']\n",
    "                       .mean()/orders[orders['group']=='A']['revenue'].mean()-1)\n",
    "     ) "
   ]
  },
  {
   "cell_type": "markdown",
   "metadata": {},
   "source": [
    "**p-value = 0.82949, что превышает критический уровень значимости в 0.05, следовательно, у нас нет оснований отвергнуть нулевую гипотезу о различии в среднем чеке между группами. При этом, средний чек в группе B превышает средний чек в группе A на 28.7 %.**"
   ]
  },
  {
   "cell_type": "markdown",
   "metadata": {},
   "source": [
    "### Расчёт статистической значимости различий в среднем количестве заказов между группами по «очищенным» данным"
   ]
  },
  {
   "cell_type": "markdown",
   "metadata": {},
   "source": [
    "*Найденные ранее 95-й и 99-й перцентили количества заказов на одного пользователя равны 1 и 2 заказа на пользователя, а 95-й и 99-й перцентили средних чеков равны 26785 и 53904 рублям. Примем за аномальных пользователей тех, кто совершил более 2-х заказов или совершил заказ дороже 53904 рублей. Так мы уберём 1 % пользователей с наибольшим числом заказов и 1 %  пользователей с дорогими заказами.*"
   ]
  },
  {
   "cell_type": "markdown",
   "metadata": {},
   "source": [
    "*Узнаем, сколько всего аномальных пользователей атрибутом shape.*"
   ]
  },
  {
   "cell_type": "code",
   "execution_count": 65,
   "metadata": {},
   "outputs": [
    {
     "name": "stdout",
     "output_type": "stream",
     "text": [
      "1099    148427295\n",
      "33      249864742\n",
      "58      611059232\n",
      "949     887908475\n",
      "744     888512513\n",
      "Name: visitor_id, dtype: int64\n",
      "16\n"
     ]
    }
   ],
   "source": [
    "users_with_many_orders = pd.concat(\n",
    "    [\n",
    "        orders_by_users_A[orders_by_users_A['orders'] > 2]['visitor_id'],\n",
    "        orders_by_users_B[orders_by_users_B['orders'] > 2]['visitor_id'],\n",
    "    ],\n",
    "    axis=0,\n",
    ")\n",
    "\n",
    "users_with_expensive_orders = orders[orders['revenue'] > 53904]['visitor_id']\n",
    "abnormal_users = (\n",
    "    pd.concat([users_with_many_orders, users_with_expensive_orders], axis=0)\n",
    "    .drop_duplicates()\n",
    "    .sort_values()\n",
    ")\n",
    "\n",
    "print(abnormal_users.head(5))\n",
    "print(abnormal_users.shape[0]) "
   ]
  },
  {
   "cell_type": "markdown",
   "metadata": {},
   "source": [
    "*Всего 16 аномальных пользователей.\n",
    "Узнаем, как их действия повлияли на результаты теста. Посчитаем статистическую значимость различий в среднем количестве заказов между группами теста по очищенным данным. Сначала подготовим выборки количества заказов по пользователям по группам теста.*"
   ]
  },
  {
   "cell_type": "code",
   "execution_count": 66,
   "metadata": {},
   "outputs": [],
   "source": [
    "sampleA_filtered = pd.concat(\n",
    "    [orders_by_users_A[\n",
    "            np.logical_not(orders_by_users_A['visitor_id'].isin(abnormal_users))\n",
    "        ]['orders'],\n",
    "        pd.Series(\n",
    "            0,\n",
    "            index=np.arange(\n",
    "                visitors_A_daily['visitors'].sum() - len(orders_by_users_A['orders'])\n",
    "            ),\n",
    "            name='orders',\n",
    "        ),\n",
    "    ],\n",
    "    axis=0,\n",
    ")\n",
    "\n",
    "sampleB_filtered = pd.concat(\n",
    "    [orders_by_users_B[\n",
    "            np.logical_not(orders_by_users_B['visitor_id'].isin(abnormal_users))\n",
    "        ]['orders'],\n",
    "        pd.Series(\n",
    "            0,\n",
    "            index=np.arange(\n",
    "                visitors_B_daily['visitors'].sum() - len(orders_by_users_B['orders'])\n",
    "            ),\n",
    "            name='orders',\n",
    "        ),\n",
    "    ],\n",
    "    axis=0,\n",
    ") "
   ]
  },
  {
   "cell_type": "markdown",
   "metadata": {},
   "source": [
    "Повторим формулировки гипотез. \\\n",
    "Нулевая: различий в среднем количестве заказов между группами нет. \\\n",
    "Альтернативная: различия в среднем количестве заказов между группами есть."
   ]
  },
  {
   "cell_type": "markdown",
   "metadata": {},
   "source": [
    "*Применим статистический критерий Манна-Уитни к полученным выборкам.*"
   ]
  },
  {
   "cell_type": "code",
   "execution_count": 67,
   "metadata": {},
   "outputs": [
    {
     "name": "stdout",
     "output_type": "stream",
     "text": [
      "p-value = 0.00702\n",
      "Относительный прирост среднего числа заказов группы B по сравнению с A составляет 18.9%\n"
     ]
    }
   ],
   "source": [
    "print('p-value =', '{0:.5f}'.format(stats.mannwhitneyu(sampleA_filtered, sampleB_filtered)[1]))\n",
    "\n",
    "print('Относительный прирост среднего числа заказов группы B по сравнению с A составляет',\n",
    "      '{0:.1%}'.format(sampleB_filtered.mean()/sampleA_filtered.mean()-1)) "
   ]
  },
  {
   "cell_type": "markdown",
   "metadata": {},
   "source": [
    "**p-value стало ещё меньше, чем было по \"сырым\" данным, следовательно, отвергаем нулевую гипотезу о равенстве среднего количества заказов в двух группах и примаем альтернативную гипотезу о том, что различия в среднем количестве заказов между группами есть. Среднее количество заказов в группе B превышает среднее количество заказов в группе A на 18.9 %.**"
   ]
  },
  {
   "cell_type": "markdown",
   "metadata": {},
   "source": [
    "### Расчёт статистической значимости различий в среднем чеке заказа между группами по «очищенным» данным"
   ]
  },
  {
   "cell_type": "markdown",
   "metadata": {},
   "source": [
    "Повторим формулировки гипотез.  \\\n",
    "Нулевая: различий в среднем чеке между группами нет. \\\n",
    "Альтернативная: различия в среднем чеке между группами есть."
   ]
  },
  {
   "cell_type": "code",
   "execution_count": 68,
   "metadata": {},
   "outputs": [
    {
     "name": "stdout",
     "output_type": "stream",
     "text": [
      "p-value = 0.78770\n",
      "Относительный прирост среднего чека группы B по сравнению с A составляет -3.2%\n"
     ]
    }
   ],
   "source": [
    "print(\n",
    "    'p-value =', '{0:.5f}'.format(\n",
    "        stats.mannwhitneyu(\n",
    "            orders[\n",
    "                np.logical_and(\n",
    "                    orders['group'] == 'A',\n",
    "                    np.logical_not(orders['visitor_id'].isin(abnormal_users)),\n",
    "                )\n",
    "            ]['revenue'],\n",
    "            orders[\n",
    "                np.logical_and(\n",
    "                    orders['group'] == 'B',\n",
    "                    np.logical_not(orders['visitor_id'].isin(abnormal_users)),\n",
    "                )\n",
    "            ]['revenue'],\n",
    "        )[1]\n",
    "    )\n",
    ")\n",
    "\n",
    "print(\n",
    "    'Относительный прирост среднего чека группы B по сравнению с A составляет', \"{0:.1%}\".format(\n",
    "        orders[\n",
    "            np.logical_and(\n",
    "                orders['group'] == 'B',\n",
    "                np.logical_not(orders['visitor_id'].isin(abnormal_users)),\n",
    "            )\n",
    "        ]['revenue'].mean()\n",
    "        / orders[\n",
    "            np.logical_and(\n",
    "                orders['group'] == 'A',\n",
    "                np.logical_not(orders['visitor_id'].isin(abnormal_users)),\n",
    "            )\n",
    "        ]['revenue'].mean()\n",
    "        - 1\n",
    "    )\n",
    ") "
   ]
  },
  {
   "cell_type": "markdown",
   "metadata": {},
   "source": [
    "**p-value уменьшился, но всё равно не превысил критический уровень значимости, а значит, разницу в среднем чеке можно считать несущественной. Разница между группами A и B сократилась, теперь средний чек в группе B стал меньше среднего чека в группе A на 3.2 %.**"
   ]
  },
  {
   "cell_type": "markdown",
   "metadata": {},
   "source": [
    "### Выводы по результатам A/B - теста"
   ]
  },
  {
   "cell_type": "markdown",
   "metadata": {},
   "source": [
    "1. Присутствует статистически значимое различие по среднему количеству заказов между группами A и B как по «сырым» данным, так и по данным после фильтрации аномалий. \n",
    "2. Отсутствует статистически значимое различие по среднему чеку между группами A и B как по «сырым» данным, так и по данным после фильтрации аномалий.\n",
    "3. Тест следует остановить, признать успешным и зафиксировать победу группы B, поскольку в группе B удалось достигнуть статистически значимого увеличения количества заказов."
   ]
  },
  {
   "cell_type": "markdown",
   "metadata": {},
   "source": [
    "## Общие выводы по результатам исследования"
   ]
  },
  {
   "cell_type": "markdown",
   "metadata": {},
   "source": [
    "**Приоритизация гипотез показала, что следует проверить гипотезы:**\n",
    "- \"Добавить форму подписки на все основные страницы, чтобы собрать базу клиентов для email-рассылок\",\n",
    "- \"Добавить блоки рекомендаций товаров на сайт интернет магазина, чтобы повысить конверсию и средний чек заказа\",\n",
    "- \"Показать на главной странице баннеры с актуальными акциями и распродажами, чтобы увеличить конверсию\",\n",
    "- \"Добавить два новых канала привлечения трафика, что позволит привлекать на 30% больше пользователей\", \\\n",
    "поскольку эти изменения затронут от 15 до 50 % пользователей и потребуют от небольшого до среднего количества затрат. \\\n",
    "Гипотезу \"Запустить акцию, дающую скидку на товар в день рождения\" отбрасываем, т.к. она охватывает только 5 % пользователей.\n",
    "\n",
    "**A/B - тест следует остановить, признать успешным и зафиксировать победу группы B, поскольку в группе B удалось достигнуть статистически значимого увеличения количества заказов.**"
   ]
  },
  {
   "cell_type": "markdown",
   "metadata": {},
   "source": [
    "**В ходе исследования предприняты следующие действия:**\n",
    "1. Выполнены общий обзор данных и их предобработка (переименование столбцов, изменение типов данных, удаление пользователей. попавших в обе группы A/B - теста).\n",
    "2. Осуществлена приоритизация гипотез.\n",
    "- применён фреймворк ICE для приоритизации гипотез. \n",
    "- применён фреймворк RICE для приоритизации гипотез.\n",
    "- проведено сравнение результатов и подведены итоги приоритизации гипотез.\n",
    "3. Произведён анализ результатов A/B-теста.\n",
    "- построен график кумулятивной выручки по группам, сделаны промежуточные выводы. \n",
    "- построен график кумулятивного среднего чека по группам, сделаны промежуточные выводы.\n",
    "- построен график относительного изменения кумулятивного среднего чека группы B к группе A, сделаны промежуточные выводы. \n",
    "- построен график кумулятивного среднего количества заказов по группам, сделаны промежуточные выводы. \n",
    "- построен график относительного изменения кумулятивного среднего количества заказов группы B к группе A, сделаны промежуточные выводы. \n",
    "- построен точечный график количества заказов по пользователям, сделаны промежуточные выводы.\n",
    "- посчитаны 95-й и 99-й перцентили количества заказов на пользователя, выбрана граница для определения аномальных пользователей.\n",
    "- построен точечный график стоимостей заказов, сделаны промежуточные выводы. \n",
    "- посчитаны 95-й и 99-й перцентили стоимости заказов, выбрана граница для определения аномальных заказов.\n",
    "- посчитана статистическая значимость различий в среднем количестве заказов между группами по «сырым» данным, сделаны промежуточные выводы.\n",
    "- посчитана статистическая значимость различий в среднем чеке заказа между группами по «сырым» данным, сделаны промежуточные выводы. \n",
    "- посчитана статистическая значимость различий в среднем количестве заказов между группами по «очищенным» данным. \n",
    "- посчитана статистическая значимость различий в среднем чеке заказа между группами по «очищенным» данным. \n",
    "- принято решение по результатам теста. "
   ]
  }
 ],
 "metadata": {
  "ExecuteTimeLog": [
   {
    "duration": 1148,
    "start_time": "2022-11-05T18:45:33.509Z"
   },
   {
    "duration": 128,
    "start_time": "2022-11-05T18:50:20.867Z"
   },
   {
    "duration": 12,
    "start_time": "2022-11-05T18:50:56.974Z"
   },
   {
    "duration": 9,
    "start_time": "2022-11-05T18:51:10.969Z"
   },
   {
    "duration": 10,
    "start_time": "2022-11-05T18:51:24.895Z"
   },
   {
    "duration": 26,
    "start_time": "2022-11-05T18:52:24.288Z"
   },
   {
    "duration": 9,
    "start_time": "2022-11-05T18:52:25.231Z"
   },
   {
    "duration": 12,
    "start_time": "2022-11-05T18:53:20.332Z"
   },
   {
    "duration": 4,
    "start_time": "2022-11-05T18:59:31.010Z"
   },
   {
    "duration": 8,
    "start_time": "2022-11-05T18:59:39.092Z"
   },
   {
    "duration": 10,
    "start_time": "2022-11-05T19:04:18.804Z"
   },
   {
    "duration": 9,
    "start_time": "2022-11-05T19:04:27.906Z"
   },
   {
    "duration": 7,
    "start_time": "2022-11-05T19:04:33.782Z"
   },
   {
    "duration": 6,
    "start_time": "2022-11-05T19:07:10.834Z"
   },
   {
    "duration": 12,
    "start_time": "2022-11-05T19:07:43.162Z"
   },
   {
    "duration": 5,
    "start_time": "2022-11-05T19:08:05.852Z"
   },
   {
    "duration": 9,
    "start_time": "2022-11-05T19:08:06.727Z"
   },
   {
    "duration": 10,
    "start_time": "2022-11-05T19:08:46.958Z"
   },
   {
    "duration": 9,
    "start_time": "2022-11-05T19:09:36.127Z"
   },
   {
    "duration": 4,
    "start_time": "2022-11-05T19:17:38.598Z"
   },
   {
    "duration": 5,
    "start_time": "2022-11-05T19:18:16.546Z"
   },
   {
    "duration": 4,
    "start_time": "2022-11-05T19:18:48.882Z"
   },
   {
    "duration": 4,
    "start_time": "2022-11-05T19:18:49.313Z"
   },
   {
    "duration": 4,
    "start_time": "2022-11-05T19:18:49.710Z"
   },
   {
    "duration": 4,
    "start_time": "2022-11-05T19:24:42.193Z"
   },
   {
    "duration": 11,
    "start_time": "2022-11-05T19:25:11.258Z"
   },
   {
    "duration": 40,
    "start_time": "2022-11-08T08:30:09.397Z"
   },
   {
    "duration": 1127,
    "start_time": "2022-11-08T08:30:13.972Z"
   },
   {
    "duration": 54,
    "start_time": "2022-11-08T08:30:15.593Z"
   },
   {
    "duration": 56,
    "start_time": "2022-11-08T08:30:16.448Z"
   },
   {
    "duration": 10,
    "start_time": "2022-11-08T08:30:17.376Z"
   },
   {
    "duration": 3,
    "start_time": "2022-11-08T08:30:18.768Z"
   },
   {
    "duration": 6,
    "start_time": "2022-11-08T08:30:19.647Z"
   },
   {
    "duration": 69,
    "start_time": "2022-11-08T08:30:21.275Z"
   },
   {
    "duration": 37,
    "start_time": "2022-11-08T08:30:46.768Z"
   },
   {
    "duration": 6,
    "start_time": "2022-11-08T08:31:06.823Z"
   },
   {
    "duration": 9,
    "start_time": "2022-11-08T08:32:23.945Z"
   },
   {
    "duration": 7,
    "start_time": "2022-11-08T08:34:45.104Z"
   },
   {
    "duration": 6,
    "start_time": "2022-11-08T08:35:27.537Z"
   },
   {
    "duration": 10,
    "start_time": "2022-11-08T08:41:39.007Z"
   },
   {
    "duration": 10,
    "start_time": "2022-11-08T08:41:45.708Z"
   },
   {
    "duration": 62,
    "start_time": "2022-11-08T08:43:12.081Z"
   },
   {
    "duration": 6,
    "start_time": "2022-11-08T08:43:34.720Z"
   },
   {
    "duration": 84,
    "start_time": "2022-11-08T08:43:55.809Z"
   },
   {
    "duration": 8,
    "start_time": "2022-11-08T08:44:11.321Z"
   },
   {
    "duration": 4,
    "start_time": "2022-11-08T08:44:49.745Z"
   },
   {
    "duration": 10,
    "start_time": "2022-11-08T08:45:55.753Z"
   },
   {
    "duration": 8,
    "start_time": "2022-11-08T08:46:02.881Z"
   },
   {
    "duration": 37,
    "start_time": "2022-11-08T08:52:23.489Z"
   },
   {
    "duration": 7,
    "start_time": "2022-11-08T08:52:40.224Z"
   },
   {
    "duration": 10,
    "start_time": "2022-11-08T08:53:05.521Z"
   },
   {
    "duration": 4,
    "start_time": "2022-11-08T08:53:37.596Z"
   },
   {
    "duration": 10,
    "start_time": "2022-11-08T08:55:01.499Z"
   },
   {
    "duration": 21,
    "start_time": "2022-11-08T08:55:30.234Z"
   },
   {
    "duration": 6,
    "start_time": "2022-11-08T08:55:52.786Z"
   },
   {
    "duration": 5,
    "start_time": "2022-11-08T08:56:30.938Z"
   },
   {
    "duration": 4,
    "start_time": "2022-11-08T08:57:24.898Z"
   },
   {
    "duration": 5,
    "start_time": "2022-11-08T09:08:33.921Z"
   },
   {
    "duration": 175,
    "start_time": "2022-11-08T09:09:59.618Z"
   },
   {
    "duration": 150,
    "start_time": "2022-11-08T09:11:01.467Z"
   },
   {
    "duration": 149,
    "start_time": "2022-11-08T09:11:22.130Z"
   },
   {
    "duration": 102,
    "start_time": "2022-11-08T09:12:12.875Z"
   },
   {
    "duration": 7,
    "start_time": "2022-11-08T09:12:41.867Z"
   },
   {
    "duration": 3,
    "start_time": "2022-11-08T09:12:54.011Z"
   },
   {
    "duration": 8,
    "start_time": "2022-11-08T09:13:08.019Z"
   },
   {
    "duration": 5,
    "start_time": "2022-11-08T09:13:42.891Z"
   },
   {
    "duration": 241,
    "start_time": "2022-11-08T09:13:58.995Z"
   },
   {
    "duration": 73,
    "start_time": "2022-11-08T09:14:31.861Z"
   },
   {
    "duration": 222,
    "start_time": "2022-11-08T09:16:54.573Z"
   },
   {
    "duration": 162,
    "start_time": "2022-11-08T09:17:32.407Z"
   },
   {
    "duration": 148,
    "start_time": "2022-11-08T09:24:24.189Z"
   },
   {
    "duration": 183,
    "start_time": "2022-11-08T09:24:47.684Z"
   },
   {
    "duration": 223,
    "start_time": "2022-11-08T09:24:53.245Z"
   },
   {
    "duration": 165,
    "start_time": "2022-11-08T09:27:41.302Z"
   },
   {
    "duration": 168,
    "start_time": "2022-11-08T09:27:50.901Z"
   },
   {
    "duration": 184,
    "start_time": "2022-11-08T09:28:25.445Z"
   },
   {
    "duration": 129,
    "start_time": "2022-11-08T09:29:13.228Z"
   },
   {
    "duration": 219,
    "start_time": "2022-11-08T09:30:17.493Z"
   },
   {
    "duration": 207,
    "start_time": "2022-11-08T09:30:25.053Z"
   },
   {
    "duration": 200,
    "start_time": "2022-11-08T09:30:32.966Z"
   },
   {
    "duration": 10,
    "start_time": "2022-11-08T09:43:06.134Z"
   },
   {
    "duration": 4,
    "start_time": "2022-11-08T09:43:09.694Z"
   },
   {
    "duration": 146,
    "start_time": "2022-11-08T09:43:11.383Z"
   },
   {
    "duration": 99,
    "start_time": "2022-11-08T09:46:28.272Z"
   },
   {
    "duration": 8,
    "start_time": "2022-11-08T09:46:37.180Z"
   },
   {
    "duration": 117,
    "start_time": "2022-11-08T09:46:40.712Z"
   },
   {
    "duration": 5,
    "start_time": "2022-11-08T09:46:41.988Z"
   },
   {
    "duration": 116,
    "start_time": "2022-11-08T09:47:30.840Z"
   },
   {
    "duration": 3,
    "start_time": "2022-11-08T09:49:24.981Z"
   },
   {
    "duration": 9,
    "start_time": "2022-11-08T09:49:54.985Z"
   },
   {
    "duration": 17,
    "start_time": "2022-11-08T09:50:06.152Z"
   },
   {
    "duration": 3,
    "start_time": "2022-11-08T09:50:11.534Z"
   },
   {
    "duration": 9,
    "start_time": "2022-11-08T09:50:12.424Z"
   },
   {
    "duration": 8,
    "start_time": "2022-11-08T09:52:43.574Z"
   },
   {
    "duration": 5,
    "start_time": "2022-11-08T09:53:09.928Z"
   },
   {
    "duration": 5,
    "start_time": "2022-11-08T09:53:10.691Z"
   },
   {
    "duration": 199,
    "start_time": "2022-11-08T09:53:22.181Z"
   },
   {
    "duration": 190,
    "start_time": "2022-11-08T09:53:33.993Z"
   },
   {
    "duration": 8,
    "start_time": "2022-11-08T10:01:06.875Z"
   },
   {
    "duration": 4,
    "start_time": "2022-11-08T10:01:57.914Z"
   },
   {
    "duration": 4,
    "start_time": "2022-11-08T10:01:58.570Z"
   },
   {
    "duration": 174,
    "start_time": "2022-11-08T10:01:59.394Z"
   },
   {
    "duration": 144,
    "start_time": "2022-11-08T10:02:01.490Z"
   },
   {
    "duration": 175,
    "start_time": "2022-11-08T10:02:38.682Z"
   },
   {
    "duration": 175,
    "start_time": "2022-11-08T10:03:35.770Z"
   },
   {
    "duration": 5,
    "start_time": "2022-11-08T10:16:30.572Z"
   },
   {
    "duration": 6,
    "start_time": "2022-11-08T10:16:41.036Z"
   },
   {
    "duration": 5,
    "start_time": "2022-11-08T10:18:17.589Z"
   },
   {
    "duration": 284,
    "start_time": "2022-11-08T10:18:18.071Z"
   },
   {
    "duration": 390,
    "start_time": "2022-11-08T10:19:08.684Z"
   },
   {
    "duration": 249,
    "start_time": "2022-11-08T10:19:19.886Z"
   },
   {
    "duration": 275,
    "start_time": "2022-11-08T10:20:38.782Z"
   },
   {
    "duration": 7,
    "start_time": "2022-11-08T10:22:17.590Z"
   },
   {
    "duration": 3,
    "start_time": "2022-11-08T10:27:57.768Z"
   },
   {
    "duration": 4,
    "start_time": "2022-11-08T10:28:14.366Z"
   },
   {
    "duration": 4,
    "start_time": "2022-11-08T10:28:52.527Z"
   },
   {
    "duration": 3,
    "start_time": "2022-11-08T10:29:55.615Z"
   },
   {
    "duration": 91,
    "start_time": "2022-11-08T10:29:55.958Z"
   },
   {
    "duration": 3,
    "start_time": "2022-11-08T10:29:59.838Z"
   },
   {
    "duration": 153,
    "start_time": "2022-11-08T10:31:25.384Z"
   },
   {
    "duration": 185,
    "start_time": "2022-11-08T10:41:10.342Z"
   },
   {
    "duration": 165,
    "start_time": "2022-11-08T10:41:32.676Z"
   },
   {
    "duration": 187,
    "start_time": "2022-11-08T11:17:05.801Z"
   },
   {
    "duration": 5,
    "start_time": "2022-11-08T11:17:23.863Z"
   },
   {
    "duration": 4,
    "start_time": "2022-11-08T11:17:24.766Z"
   },
   {
    "duration": 4,
    "start_time": "2022-11-08T11:17:25.702Z"
   },
   {
    "duration": 293,
    "start_time": "2022-11-08T11:17:26.984Z"
   },
   {
    "duration": 47,
    "start_time": "2022-11-08T16:48:14.186Z"
   },
   {
    "duration": 1246,
    "start_time": "2022-11-08T16:48:20.949Z"
   },
   {
    "duration": 135,
    "start_time": "2022-11-08T16:48:22.197Z"
   },
   {
    "duration": 12,
    "start_time": "2022-11-08T16:48:22.334Z"
   },
   {
    "duration": 13,
    "start_time": "2022-11-08T16:48:22.348Z"
   },
   {
    "duration": 14,
    "start_time": "2022-11-08T16:48:22.364Z"
   },
   {
    "duration": 55,
    "start_time": "2022-11-08T16:48:22.379Z"
   },
   {
    "duration": 16,
    "start_time": "2022-11-08T16:48:22.437Z"
   },
   {
    "duration": 21,
    "start_time": "2022-11-08T16:48:22.456Z"
   },
   {
    "duration": 11,
    "start_time": "2022-11-08T16:48:22.481Z"
   },
   {
    "duration": 11,
    "start_time": "2022-11-08T16:48:22.494Z"
   },
   {
    "duration": 11,
    "start_time": "2022-11-08T16:48:22.507Z"
   },
   {
    "duration": 14,
    "start_time": "2022-11-08T16:48:22.520Z"
   },
   {
    "duration": 16,
    "start_time": "2022-11-08T16:48:22.536Z"
   },
   {
    "duration": 94,
    "start_time": "2022-11-08T16:48:22.556Z"
   },
   {
    "duration": 11,
    "start_time": "2022-11-08T16:48:22.652Z"
   },
   {
    "duration": 16,
    "start_time": "2022-11-08T16:48:22.665Z"
   },
   {
    "duration": 10,
    "start_time": "2022-11-08T16:48:22.682Z"
   },
   {
    "duration": 20,
    "start_time": "2022-11-08T16:48:22.694Z"
   },
   {
    "duration": 62,
    "start_time": "2022-11-08T16:48:22.715Z"
   },
   {
    "duration": 8,
    "start_time": "2022-11-08T16:48:22.778Z"
   },
   {
    "duration": 9,
    "start_time": "2022-11-08T16:48:22.788Z"
   },
   {
    "duration": 15,
    "start_time": "2022-11-08T16:48:22.799Z"
   },
   {
    "duration": 8,
    "start_time": "2022-11-08T16:48:22.816Z"
   },
   {
    "duration": 166,
    "start_time": "2022-11-08T16:48:22.825Z"
   },
   {
    "duration": 115,
    "start_time": "2022-11-08T16:48:22.993Z"
   },
   {
    "duration": 7,
    "start_time": "2022-11-08T16:48:23.109Z"
   },
   {
    "duration": 11,
    "start_time": "2022-11-08T16:48:23.118Z"
   },
   {
    "duration": 14,
    "start_time": "2022-11-08T16:48:23.131Z"
   },
   {
    "duration": 19,
    "start_time": "2022-11-08T16:48:23.147Z"
   },
   {
    "duration": 9,
    "start_time": "2022-11-08T16:48:23.168Z"
   },
   {
    "duration": 295,
    "start_time": "2022-11-08T16:48:23.180Z"
   },
   {
    "duration": 240,
    "start_time": "2022-11-08T16:48:23.480Z"
   },
   {
    "duration": 8,
    "start_time": "2022-11-08T16:48:23.722Z"
   },
   {
    "duration": 23,
    "start_time": "2022-11-08T16:48:23.732Z"
   },
   {
    "duration": 378,
    "start_time": "2022-11-08T16:48:23.757Z"
   },
   {
    "duration": 4,
    "start_time": "2022-11-08T16:48:24.137Z"
   },
   {
    "duration": 16,
    "start_time": "2022-11-08T16:48:24.142Z"
   },
   {
    "duration": 8,
    "start_time": "2022-11-08T16:48:24.160Z"
   },
   {
    "duration": 238,
    "start_time": "2022-11-08T16:48:24.169Z"
   },
   {
    "duration": 246,
    "start_time": "2022-11-08T16:48:24.409Z"
   },
   {
    "duration": 51,
    "start_time": "2022-11-08T16:54:39.873Z"
   },
   {
    "duration": 891,
    "start_time": "2022-11-08T16:54:51.000Z"
   },
   {
    "duration": 346,
    "start_time": "2022-11-08T16:55:30.356Z"
   },
   {
    "duration": 9,
    "start_time": "2022-11-08T17:01:18.026Z"
   },
   {
    "duration": 5,
    "start_time": "2022-11-08T17:04:19.726Z"
   },
   {
    "duration": 6,
    "start_time": "2022-11-08T17:04:36.800Z"
   },
   {
    "duration": 739,
    "start_time": "2022-11-08T17:04:37.415Z"
   },
   {
    "duration": 206,
    "start_time": "2022-11-08T17:06:38.704Z"
   },
   {
    "duration": 7,
    "start_time": "2022-11-08T17:06:43.941Z"
   },
   {
    "duration": 236,
    "start_time": "2022-11-08T17:06:44.820Z"
   },
   {
    "duration": 9,
    "start_time": "2022-11-08T17:07:29.769Z"
   },
   {
    "duration": 6,
    "start_time": "2022-11-08T17:08:07.979Z"
   },
   {
    "duration": 8,
    "start_time": "2022-11-08T17:08:08.520Z"
   },
   {
    "duration": 345,
    "start_time": "2022-11-08T17:08:10.218Z"
   },
   {
    "duration": 6,
    "start_time": "2022-11-08T17:09:25.528Z"
   },
   {
    "duration": 8,
    "start_time": "2022-11-08T17:09:25.962Z"
   },
   {
    "duration": 49,
    "start_time": "2022-11-08T17:15:13.201Z"
   },
   {
    "duration": 4,
    "start_time": "2022-11-08T17:15:27.203Z"
   },
   {
    "duration": 12,
    "start_time": "2022-11-08T17:15:33.461Z"
   },
   {
    "duration": 6,
    "start_time": "2022-11-08T17:15:59.373Z"
   },
   {
    "duration": 10,
    "start_time": "2022-11-08T17:15:59.894Z"
   },
   {
    "duration": 6,
    "start_time": "2022-11-08T17:16:59.205Z"
   },
   {
    "duration": 11,
    "start_time": "2022-11-08T17:16:59.995Z"
   },
   {
    "duration": 3,
    "start_time": "2022-11-08T17:17:04.329Z"
   },
   {
    "duration": 3,
    "start_time": "2022-11-08T17:17:12.596Z"
   },
   {
    "duration": 135,
    "start_time": "2022-11-08T17:17:17.711Z"
   },
   {
    "duration": 148,
    "start_time": "2022-11-08T17:19:35.074Z"
   },
   {
    "duration": 4,
    "start_time": "2022-11-08T17:25:40.733Z"
   },
   {
    "duration": 251,
    "start_time": "2022-11-08T18:12:17.074Z"
   },
   {
    "duration": 179,
    "start_time": "2022-11-08T18:14:04.072Z"
   },
   {
    "duration": 12,
    "start_time": "2022-11-08T18:16:57.090Z"
   },
   {
    "duration": 12,
    "start_time": "2022-11-08T18:17:11.851Z"
   },
   {
    "duration": 7,
    "start_time": "2022-11-08T18:19:36.232Z"
   },
   {
    "duration": 278,
    "start_time": "2022-11-08T18:53:03.148Z"
   },
   {
    "duration": 976,
    "start_time": "2022-11-08T18:57:58.427Z"
   },
   {
    "duration": 77,
    "start_time": "2022-11-08T18:57:59.405Z"
   },
   {
    "duration": 15,
    "start_time": "2022-11-08T18:57:59.486Z"
   },
   {
    "duration": 14,
    "start_time": "2022-11-08T18:57:59.503Z"
   },
   {
    "duration": 8,
    "start_time": "2022-11-08T18:57:59.519Z"
   },
   {
    "duration": 9,
    "start_time": "2022-11-08T18:57:59.529Z"
   },
   {
    "duration": 43,
    "start_time": "2022-11-08T18:57:59.540Z"
   },
   {
    "duration": 13,
    "start_time": "2022-11-08T18:57:59.585Z"
   },
   {
    "duration": 11,
    "start_time": "2022-11-08T18:57:59.601Z"
   },
   {
    "duration": 7,
    "start_time": "2022-11-08T18:57:59.613Z"
   },
   {
    "duration": 8,
    "start_time": "2022-11-08T18:57:59.621Z"
   },
   {
    "duration": 10,
    "start_time": "2022-11-08T18:57:59.631Z"
   },
   {
    "duration": 14,
    "start_time": "2022-11-08T18:57:59.643Z"
   },
   {
    "duration": 56,
    "start_time": "2022-11-08T18:57:59.658Z"
   },
   {
    "duration": 8,
    "start_time": "2022-11-08T18:57:59.716Z"
   },
   {
    "duration": 18,
    "start_time": "2022-11-08T18:57:59.726Z"
   },
   {
    "duration": 25,
    "start_time": "2022-11-08T18:57:59.746Z"
   },
   {
    "duration": 11,
    "start_time": "2022-11-08T18:57:59.773Z"
   },
   {
    "duration": 17,
    "start_time": "2022-11-08T18:57:59.786Z"
   },
   {
    "duration": 19,
    "start_time": "2022-11-08T18:57:59.804Z"
   },
   {
    "duration": 8,
    "start_time": "2022-11-08T18:57:59.825Z"
   },
   {
    "duration": 8,
    "start_time": "2022-11-08T18:57:59.835Z"
   },
   {
    "duration": 6,
    "start_time": "2022-11-08T18:57:59.844Z"
   },
   {
    "duration": 8,
    "start_time": "2022-11-08T18:57:59.852Z"
   },
   {
    "duration": 128,
    "start_time": "2022-11-08T18:57:59.862Z"
   },
   {
    "duration": 0,
    "start_time": "2022-11-08T18:57:59.992Z"
   },
   {
    "duration": 0,
    "start_time": "2022-11-08T18:57:59.994Z"
   },
   {
    "duration": 0,
    "start_time": "2022-11-08T18:57:59.995Z"
   },
   {
    "duration": 0,
    "start_time": "2022-11-08T18:57:59.996Z"
   },
   {
    "duration": 0,
    "start_time": "2022-11-08T18:57:59.997Z"
   },
   {
    "duration": 0,
    "start_time": "2022-11-08T18:57:59.999Z"
   },
   {
    "duration": 0,
    "start_time": "2022-11-08T18:58:00.000Z"
   },
   {
    "duration": 0,
    "start_time": "2022-11-08T18:58:00.001Z"
   },
   {
    "duration": 0,
    "start_time": "2022-11-08T18:58:00.002Z"
   },
   {
    "duration": 0,
    "start_time": "2022-11-08T18:58:00.003Z"
   },
   {
    "duration": 0,
    "start_time": "2022-11-08T18:58:00.004Z"
   },
   {
    "duration": 0,
    "start_time": "2022-11-08T18:58:00.005Z"
   },
   {
    "duration": 0,
    "start_time": "2022-11-08T18:58:00.006Z"
   },
   {
    "duration": 0,
    "start_time": "2022-11-08T18:58:00.007Z"
   },
   {
    "duration": 0,
    "start_time": "2022-11-08T18:58:00.009Z"
   },
   {
    "duration": 0,
    "start_time": "2022-11-08T18:58:00.010Z"
   },
   {
    "duration": 0,
    "start_time": "2022-11-08T18:58:00.011Z"
   },
   {
    "duration": 0,
    "start_time": "2022-11-08T18:58:00.013Z"
   },
   {
    "duration": 0,
    "start_time": "2022-11-08T18:58:00.014Z"
   },
   {
    "duration": 0,
    "start_time": "2022-11-08T18:58:00.015Z"
   },
   {
    "duration": 0,
    "start_time": "2022-11-08T18:58:00.016Z"
   },
   {
    "duration": 0,
    "start_time": "2022-11-08T18:58:00.018Z"
   },
   {
    "duration": 0,
    "start_time": "2022-11-08T18:58:00.019Z"
   },
   {
    "duration": 0,
    "start_time": "2022-11-08T18:58:00.020Z"
   },
   {
    "duration": 0,
    "start_time": "2022-11-08T18:58:00.021Z"
   },
   {
    "duration": 1184,
    "start_time": "2022-11-09T14:44:31.194Z"
   },
   {
    "duration": 126,
    "start_time": "2022-11-09T14:44:32.380Z"
   },
   {
    "duration": 10,
    "start_time": "2022-11-09T14:44:32.508Z"
   },
   {
    "duration": 37,
    "start_time": "2022-11-09T14:44:32.520Z"
   },
   {
    "duration": 19,
    "start_time": "2022-11-09T14:44:32.558Z"
   },
   {
    "duration": 62,
    "start_time": "2022-11-09T14:44:32.579Z"
   },
   {
    "duration": 30,
    "start_time": "2022-11-09T14:44:32.642Z"
   },
   {
    "duration": 27,
    "start_time": "2022-11-09T14:44:32.674Z"
   },
   {
    "duration": 25,
    "start_time": "2022-11-09T14:44:32.703Z"
   },
   {
    "duration": 14,
    "start_time": "2022-11-09T14:44:32.730Z"
   },
   {
    "duration": 17,
    "start_time": "2022-11-09T14:44:32.745Z"
   },
   {
    "duration": 8,
    "start_time": "2022-11-09T14:44:32.763Z"
   },
   {
    "duration": 22,
    "start_time": "2022-11-09T14:44:32.772Z"
   },
   {
    "duration": 89,
    "start_time": "2022-11-09T14:44:32.796Z"
   },
   {
    "duration": 7,
    "start_time": "2022-11-09T14:44:32.886Z"
   },
   {
    "duration": 18,
    "start_time": "2022-11-09T14:44:32.895Z"
   },
   {
    "duration": 24,
    "start_time": "2022-11-09T14:44:32.914Z"
   },
   {
    "duration": 34,
    "start_time": "2022-11-09T14:44:32.940Z"
   },
   {
    "duration": 26,
    "start_time": "2022-11-09T14:44:32.975Z"
   },
   {
    "duration": 61,
    "start_time": "2022-11-09T14:44:33.003Z"
   },
   {
    "duration": 7,
    "start_time": "2022-11-09T14:44:33.066Z"
   },
   {
    "duration": 18,
    "start_time": "2022-11-09T14:44:33.074Z"
   },
   {
    "duration": 16,
    "start_time": "2022-11-09T14:44:33.093Z"
   },
   {
    "duration": 37,
    "start_time": "2022-11-09T14:44:33.110Z"
   },
   {
    "duration": 118,
    "start_time": "2022-11-09T14:44:33.148Z"
   },
   {
    "duration": 0,
    "start_time": "2022-11-09T14:44:33.268Z"
   },
   {
    "duration": 0,
    "start_time": "2022-11-09T14:44:33.270Z"
   },
   {
    "duration": 0,
    "start_time": "2022-11-09T14:44:33.270Z"
   },
   {
    "duration": 0,
    "start_time": "2022-11-09T14:44:33.272Z"
   },
   {
    "duration": 0,
    "start_time": "2022-11-09T14:44:33.272Z"
   },
   {
    "duration": 0,
    "start_time": "2022-11-09T14:44:33.273Z"
   },
   {
    "duration": 0,
    "start_time": "2022-11-09T14:44:33.274Z"
   },
   {
    "duration": 0,
    "start_time": "2022-11-09T14:44:33.275Z"
   },
   {
    "duration": 0,
    "start_time": "2022-11-09T14:44:33.276Z"
   },
   {
    "duration": 0,
    "start_time": "2022-11-09T14:44:33.277Z"
   },
   {
    "duration": 0,
    "start_time": "2022-11-09T14:44:33.278Z"
   },
   {
    "duration": 0,
    "start_time": "2022-11-09T14:44:33.279Z"
   },
   {
    "duration": 0,
    "start_time": "2022-11-09T14:44:33.280Z"
   },
   {
    "duration": 0,
    "start_time": "2022-11-09T14:44:33.281Z"
   },
   {
    "duration": 0,
    "start_time": "2022-11-09T14:44:33.282Z"
   },
   {
    "duration": 0,
    "start_time": "2022-11-09T14:44:33.283Z"
   },
   {
    "duration": 0,
    "start_time": "2022-11-09T14:44:33.284Z"
   },
   {
    "duration": 0,
    "start_time": "2022-11-09T14:44:33.285Z"
   },
   {
    "duration": 0,
    "start_time": "2022-11-09T14:44:33.286Z"
   },
   {
    "duration": 0,
    "start_time": "2022-11-09T14:44:33.287Z"
   },
   {
    "duration": 0,
    "start_time": "2022-11-09T14:44:33.288Z"
   },
   {
    "duration": 0,
    "start_time": "2022-11-09T14:44:33.289Z"
   },
   {
    "duration": 0,
    "start_time": "2022-11-09T14:44:33.290Z"
   },
   {
    "duration": 0,
    "start_time": "2022-11-09T14:44:33.292Z"
   },
   {
    "duration": 0,
    "start_time": "2022-11-09T14:44:33.292Z"
   },
   {
    "duration": 165,
    "start_time": "2022-11-09T14:45:17.252Z"
   },
   {
    "duration": 128,
    "start_time": "2022-11-09T14:45:22.538Z"
   },
   {
    "duration": 6,
    "start_time": "2022-11-09T14:45:23.433Z"
   },
   {
    "duration": 3,
    "start_time": "2022-11-09T14:45:24.370Z"
   },
   {
    "duration": 8,
    "start_time": "2022-11-09T14:45:25.257Z"
   },
   {
    "duration": 5,
    "start_time": "2022-11-09T14:45:26.160Z"
   },
   {
    "duration": 4,
    "start_time": "2022-11-09T14:45:27.641Z"
   },
   {
    "duration": 289,
    "start_time": "2022-11-09T14:45:28.770Z"
   },
   {
    "duration": 210,
    "start_time": "2022-11-09T14:45:32.217Z"
   },
   {
    "duration": 7,
    "start_time": "2022-11-09T14:45:35.264Z"
   },
   {
    "duration": 8,
    "start_time": "2022-11-09T14:45:35.657Z"
   },
   {
    "duration": 376,
    "start_time": "2022-11-09T14:45:36.713Z"
   },
   {
    "duration": 5,
    "start_time": "2022-11-09T14:45:40.024Z"
   },
   {
    "duration": 4,
    "start_time": "2022-11-09T14:45:40.840Z"
   },
   {
    "duration": 3,
    "start_time": "2022-11-09T14:45:41.585Z"
   },
   {
    "duration": 218,
    "start_time": "2022-11-09T14:45:44.393Z"
   },
   {
    "duration": 194,
    "start_time": "2022-11-09T14:45:44.874Z"
   },
   {
    "duration": 322,
    "start_time": "2022-11-09T14:45:47.330Z"
   },
   {
    "duration": 6,
    "start_time": "2022-11-09T14:45:50.401Z"
   },
   {
    "duration": 11,
    "start_time": "2022-11-09T14:45:50.787Z"
   },
   {
    "duration": 3,
    "start_time": "2022-11-09T14:45:51.201Z"
   },
   {
    "duration": 139,
    "start_time": "2022-11-09T14:45:51.601Z"
   },
   {
    "duration": 4,
    "start_time": "2022-11-09T14:45:54.644Z"
   },
   {
    "duration": 160,
    "start_time": "2022-11-09T14:45:56.353Z"
   },
   {
    "duration": 8,
    "start_time": "2022-11-09T14:45:59.225Z"
   },
   {
    "duration": 5,
    "start_time": "2022-11-09T14:46:01.793Z"
   },
   {
    "duration": 64,
    "start_time": "2022-11-09T14:46:58.395Z"
   },
   {
    "duration": 4,
    "start_time": "2022-11-09T14:46:58.881Z"
   },
   {
    "duration": 4,
    "start_time": "2022-11-09T14:47:03.633Z"
   },
   {
    "duration": 17,
    "start_time": "2022-11-09T14:51:40.916Z"
   },
   {
    "duration": 133,
    "start_time": "2022-11-09T14:52:07.605Z"
   },
   {
    "duration": 5,
    "start_time": "2022-11-09T15:15:32.950Z"
   },
   {
    "duration": 53,
    "start_time": "2022-11-09T15:16:42.464Z"
   },
   {
    "duration": 5,
    "start_time": "2022-11-09T15:17:09.648Z"
   },
   {
    "duration": 44,
    "start_time": "2022-11-09T15:18:00.048Z"
   },
   {
    "duration": 15,
    "start_time": "2022-11-09T15:21:03.041Z"
   },
   {
    "duration": 13,
    "start_time": "2022-11-09T15:21:22.929Z"
   },
   {
    "duration": 49,
    "start_time": "2022-11-09T15:21:23.808Z"
   },
   {
    "duration": 13,
    "start_time": "2022-11-09T15:22:35.617Z"
   },
   {
    "duration": 50,
    "start_time": "2022-11-09T15:23:27.946Z"
   },
   {
    "duration": 26,
    "start_time": "2022-11-09T15:24:13.129Z"
   },
   {
    "duration": 28,
    "start_time": "2022-11-09T15:24:24.618Z"
   },
   {
    "duration": 1289,
    "start_time": "2022-11-09T20:12:50.692Z"
   },
   {
    "duration": 104,
    "start_time": "2022-11-09T20:12:51.983Z"
   },
   {
    "duration": 10,
    "start_time": "2022-11-09T20:12:52.089Z"
   },
   {
    "duration": 14,
    "start_time": "2022-11-09T20:12:52.101Z"
   },
   {
    "duration": 6,
    "start_time": "2022-11-09T20:12:52.116Z"
   },
   {
    "duration": 7,
    "start_time": "2022-11-09T20:12:52.123Z"
   },
   {
    "duration": 7,
    "start_time": "2022-11-09T20:12:52.132Z"
   },
   {
    "duration": 9,
    "start_time": "2022-11-09T20:12:52.140Z"
   },
   {
    "duration": 7,
    "start_time": "2022-11-09T20:12:52.151Z"
   },
   {
    "duration": 5,
    "start_time": "2022-11-09T20:12:52.160Z"
   },
   {
    "duration": 6,
    "start_time": "2022-11-09T20:12:52.166Z"
   },
   {
    "duration": 4,
    "start_time": "2022-11-09T20:12:52.197Z"
   },
   {
    "duration": 11,
    "start_time": "2022-11-09T20:12:52.203Z"
   },
   {
    "duration": 61,
    "start_time": "2022-11-09T20:12:52.216Z"
   },
   {
    "duration": 8,
    "start_time": "2022-11-09T20:12:52.278Z"
   },
   {
    "duration": 12,
    "start_time": "2022-11-09T20:12:52.288Z"
   },
   {
    "duration": 7,
    "start_time": "2022-11-09T20:12:52.302Z"
   },
   {
    "duration": 7,
    "start_time": "2022-11-09T20:12:52.310Z"
   },
   {
    "duration": 17,
    "start_time": "2022-11-09T20:12:52.318Z"
   },
   {
    "duration": 50,
    "start_time": "2022-11-09T20:12:52.337Z"
   },
   {
    "duration": 6,
    "start_time": "2022-11-09T20:12:52.390Z"
   },
   {
    "duration": 8,
    "start_time": "2022-11-09T20:12:52.398Z"
   },
   {
    "duration": 7,
    "start_time": "2022-11-09T20:12:52.408Z"
   },
   {
    "duration": 10,
    "start_time": "2022-11-09T20:12:52.417Z"
   },
   {
    "duration": 173,
    "start_time": "2022-11-09T20:12:52.429Z"
   },
   {
    "duration": 142,
    "start_time": "2022-11-09T20:12:52.603Z"
   },
   {
    "duration": 23,
    "start_time": "2022-11-09T20:12:52.748Z"
   },
   {
    "duration": 20,
    "start_time": "2022-11-09T20:12:52.776Z"
   },
   {
    "duration": 29,
    "start_time": "2022-11-09T20:12:52.798Z"
   },
   {
    "duration": 20,
    "start_time": "2022-11-09T20:12:52.829Z"
   },
   {
    "duration": 17,
    "start_time": "2022-11-09T20:12:52.851Z"
   },
   {
    "duration": 308,
    "start_time": "2022-11-09T20:12:52.870Z"
   },
   {
    "duration": 208,
    "start_time": "2022-11-09T20:12:53.180Z"
   },
   {
    "duration": 6,
    "start_time": "2022-11-09T20:12:53.397Z"
   },
   {
    "duration": 36,
    "start_time": "2022-11-09T20:12:53.404Z"
   },
   {
    "duration": 406,
    "start_time": "2022-11-09T20:12:53.441Z"
   },
   {
    "duration": 3,
    "start_time": "2022-11-09T20:12:53.849Z"
   },
   {
    "duration": 26,
    "start_time": "2022-11-09T20:12:53.854Z"
   },
   {
    "duration": 31,
    "start_time": "2022-11-09T20:12:53.882Z"
   },
   {
    "duration": 219,
    "start_time": "2022-11-09T20:12:53.915Z"
   },
   {
    "duration": 204,
    "start_time": "2022-11-09T20:12:54.135Z"
   },
   {
    "duration": 302,
    "start_time": "2022-11-09T20:12:54.341Z"
   },
   {
    "duration": 7,
    "start_time": "2022-11-09T20:12:54.645Z"
   },
   {
    "duration": 32,
    "start_time": "2022-11-09T20:12:54.653Z"
   },
   {
    "duration": 24,
    "start_time": "2022-11-09T20:12:54.686Z"
   },
   {
    "duration": 152,
    "start_time": "2022-11-09T20:12:54.712Z"
   },
   {
    "duration": 4,
    "start_time": "2022-11-09T20:12:54.865Z"
   },
   {
    "duration": 167,
    "start_time": "2022-11-09T20:12:54.870Z"
   },
   {
    "duration": 7,
    "start_time": "2022-11-09T20:12:55.039Z"
   },
   {
    "duration": 102,
    "start_time": "2022-11-09T20:12:55.048Z"
   },
   {
    "duration": 91,
    "start_time": "2022-11-09T20:12:55.152Z"
   },
   {
    "duration": 61,
    "start_time": "2022-11-09T20:12:55.245Z"
   },
   {
    "duration": 18,
    "start_time": "2022-11-09T20:12:55.308Z"
   },
   {
    "duration": 60,
    "start_time": "2022-11-09T20:12:55.328Z"
   },
   {
    "duration": 23,
    "start_time": "2022-11-09T20:12:55.389Z"
   },
   {
    "duration": 58,
    "start_time": "2022-11-09T20:12:55.414Z"
   },
   {
    "duration": 31,
    "start_time": "2022-11-09T20:12:55.474Z"
   },
   {
    "duration": 55,
    "start_time": "2022-11-09T20:12:55.507Z"
   },
   {
    "duration": 812,
    "start_time": "2022-11-09T20:12:55.564Z"
   },
   {
    "duration": 171,
    "start_time": "2022-11-09T20:12:56.378Z"
   },
   {
    "duration": 6,
    "start_time": "2022-11-09T20:12:56.551Z"
   },
   {
    "duration": 11,
    "start_time": "2022-11-09T20:14:14.517Z"
   },
   {
    "duration": 9,
    "start_time": "2022-11-09T20:16:35.023Z"
   },
   {
    "duration": 49,
    "start_time": "2022-11-09T20:17:57.730Z"
   },
   {
    "duration": 47,
    "start_time": "2022-11-09T20:19:23.551Z"
   },
   {
    "duration": 18,
    "start_time": "2022-11-09T20:20:25.521Z"
   },
   {
    "duration": 53,
    "start_time": "2022-11-09T20:22:03.550Z"
   },
   {
    "duration": 52,
    "start_time": "2022-11-09T20:24:09.085Z"
   },
   {
    "duration": 144,
    "start_time": "2022-11-09T20:29:03.102Z"
   },
   {
    "duration": 132,
    "start_time": "2022-11-09T20:29:24.364Z"
   },
   {
    "duration": 125,
    "start_time": "2022-11-09T20:29:48.858Z"
   },
   {
    "duration": 5,
    "start_time": "2022-11-09T20:33:33.346Z"
   },
   {
    "duration": 98,
    "start_time": "2022-11-09T20:40:05.953Z"
   },
   {
    "duration": 69,
    "start_time": "2022-11-09T20:40:29.998Z"
   },
   {
    "duration": 63,
    "start_time": "2022-11-09T20:40:46.616Z"
   },
   {
    "duration": 71,
    "start_time": "2022-11-09T20:41:45.055Z"
   },
   {
    "duration": 4,
    "start_time": "2022-11-09T20:42:58.839Z"
   },
   {
    "duration": 5,
    "start_time": "2022-11-09T20:43:46.611Z"
   },
   {
    "duration": 23,
    "start_time": "2022-11-09T20:44:32.999Z"
   },
   {
    "duration": 8,
    "start_time": "2022-11-10T08:03:06.263Z"
   },
   {
    "duration": 88,
    "start_time": "2022-11-10T08:07:37.792Z"
   },
   {
    "duration": 62,
    "start_time": "2022-11-10T08:08:20.166Z"
   },
   {
    "duration": 1707,
    "start_time": "2022-11-10T08:09:42.709Z"
   },
   {
    "duration": 151,
    "start_time": "2022-11-10T08:09:44.418Z"
   },
   {
    "duration": 17,
    "start_time": "2022-11-10T08:09:44.572Z"
   },
   {
    "duration": 15,
    "start_time": "2022-11-10T08:09:44.592Z"
   },
   {
    "duration": 10,
    "start_time": "2022-11-10T08:09:44.609Z"
   },
   {
    "duration": 10,
    "start_time": "2022-11-10T08:09:44.621Z"
   },
   {
    "duration": 11,
    "start_time": "2022-11-10T08:09:44.652Z"
   },
   {
    "duration": 15,
    "start_time": "2022-11-10T08:09:44.665Z"
   },
   {
    "duration": 19,
    "start_time": "2022-11-10T08:09:44.683Z"
   },
   {
    "duration": 20,
    "start_time": "2022-11-10T08:09:44.707Z"
   },
   {
    "duration": 25,
    "start_time": "2022-11-10T08:09:44.730Z"
   },
   {
    "duration": 8,
    "start_time": "2022-11-10T08:09:44.758Z"
   },
   {
    "duration": 32,
    "start_time": "2022-11-10T08:09:44.768Z"
   },
   {
    "duration": 76,
    "start_time": "2022-11-10T08:09:44.802Z"
   },
   {
    "duration": 10,
    "start_time": "2022-11-10T08:09:44.882Z"
   },
   {
    "duration": 22,
    "start_time": "2022-11-10T08:09:44.894Z"
   },
   {
    "duration": 24,
    "start_time": "2022-11-10T08:09:44.917Z"
   },
   {
    "duration": 21,
    "start_time": "2022-11-10T08:09:44.943Z"
   },
   {
    "duration": 36,
    "start_time": "2022-11-10T08:09:44.969Z"
   },
   {
    "duration": 82,
    "start_time": "2022-11-10T08:09:45.008Z"
   },
   {
    "duration": 11,
    "start_time": "2022-11-10T08:09:45.092Z"
   },
   {
    "duration": 18,
    "start_time": "2022-11-10T08:09:45.106Z"
   },
   {
    "duration": 27,
    "start_time": "2022-11-10T08:09:45.127Z"
   },
   {
    "duration": 23,
    "start_time": "2022-11-10T08:09:45.156Z"
   },
   {
    "duration": 223,
    "start_time": "2022-11-10T08:09:45.181Z"
   },
   {
    "duration": 170,
    "start_time": "2022-11-10T08:09:45.406Z"
   },
   {
    "duration": 14,
    "start_time": "2022-11-10T08:09:45.578Z"
   },
   {
    "duration": 5,
    "start_time": "2022-11-10T08:09:45.598Z"
   },
   {
    "duration": 21,
    "start_time": "2022-11-10T08:09:45.607Z"
   },
   {
    "duration": 27,
    "start_time": "2022-11-10T08:09:45.630Z"
   },
   {
    "duration": 27,
    "start_time": "2022-11-10T08:09:45.660Z"
   },
   {
    "duration": 492,
    "start_time": "2022-11-10T08:09:45.689Z"
   },
   {
    "duration": 313,
    "start_time": "2022-11-10T08:09:46.185Z"
   },
   {
    "duration": 11,
    "start_time": "2022-11-10T08:09:46.501Z"
   },
   {
    "duration": 26,
    "start_time": "2022-11-10T08:09:46.514Z"
   },
   {
    "duration": 499,
    "start_time": "2022-11-10T08:09:46.552Z"
   },
   {
    "duration": 5,
    "start_time": "2022-11-10T08:09:47.053Z"
   },
   {
    "duration": 34,
    "start_time": "2022-11-10T08:09:47.062Z"
   },
   {
    "duration": 11,
    "start_time": "2022-11-10T08:09:47.099Z"
   },
   {
    "duration": 303,
    "start_time": "2022-11-10T08:09:47.114Z"
   },
   {
    "duration": 283,
    "start_time": "2022-11-10T08:09:47.420Z"
   },
   {
    "duration": 437,
    "start_time": "2022-11-10T08:09:47.707Z"
   },
   {
    "duration": 9,
    "start_time": "2022-11-10T08:09:48.147Z"
   },
   {
    "duration": 41,
    "start_time": "2022-11-10T08:09:48.160Z"
   },
   {
    "duration": 20,
    "start_time": "2022-11-10T08:09:48.203Z"
   },
   {
    "duration": 185,
    "start_time": "2022-11-10T08:09:48.227Z"
   },
   {
    "duration": 6,
    "start_time": "2022-11-10T08:09:48.416Z"
   },
   {
    "duration": 218,
    "start_time": "2022-11-10T08:09:48.424Z"
   },
   {
    "duration": 11,
    "start_time": "2022-11-10T08:09:48.652Z"
   },
   {
    "duration": 18,
    "start_time": "2022-11-10T08:09:48.666Z"
   },
   {
    "duration": 16,
    "start_time": "2022-11-10T08:09:48.686Z"
   },
   {
    "duration": 95,
    "start_time": "2022-11-10T08:09:48.704Z"
   },
   {
    "duration": 28,
    "start_time": "2022-11-10T08:09:48.802Z"
   },
   {
    "duration": 106,
    "start_time": "2022-11-10T08:09:48.832Z"
   },
   {
    "duration": 45,
    "start_time": "2022-11-10T08:09:48.941Z"
   },
   {
    "duration": 130,
    "start_time": "2022-11-10T08:09:48.988Z"
   },
   {
    "duration": 37,
    "start_time": "2022-11-10T08:09:49.120Z"
   },
   {
    "duration": 114,
    "start_time": "2022-11-10T08:09:49.160Z"
   },
   {
    "duration": 52,
    "start_time": "2022-11-10T08:09:49.276Z"
   },
   {
    "duration": 181,
    "start_time": "2022-11-10T08:09:49.330Z"
   },
   {
    "duration": 186,
    "start_time": "2022-11-10T08:09:49.514Z"
   },
   {
    "duration": 7,
    "start_time": "2022-11-10T08:09:49.703Z"
   },
   {
    "duration": 21,
    "start_time": "2022-11-10T08:09:49.712Z"
   },
   {
    "duration": 17,
    "start_time": "2022-11-10T08:09:49.735Z"
   },
   {
    "duration": 230,
    "start_time": "2022-11-10T08:09:49.755Z"
   },
   {
    "duration": 54,
    "start_time": "2022-11-10T08:20:52.140Z"
   },
   {
    "duration": 27,
    "start_time": "2022-11-10T08:21:47.123Z"
   },
   {
    "duration": 16,
    "start_time": "2022-11-10T08:47:35.135Z"
   },
   {
    "duration": 1197,
    "start_time": "2022-11-10T08:59:00.538Z"
   },
   {
    "duration": 11,
    "start_time": "2022-11-10T08:59:25.693Z"
   },
   {
    "duration": 10,
    "start_time": "2022-11-10T09:00:16.921Z"
   },
   {
    "duration": 15,
    "start_time": "2022-11-10T09:01:26.290Z"
   },
   {
    "duration": 1217,
    "start_time": "2022-11-10T09:01:43.509Z"
   },
   {
    "duration": 84,
    "start_time": "2022-11-10T09:01:44.728Z"
   },
   {
    "duration": 12,
    "start_time": "2022-11-10T09:01:44.813Z"
   },
   {
    "duration": 27,
    "start_time": "2022-11-10T09:01:44.828Z"
   },
   {
    "duration": 11,
    "start_time": "2022-11-10T09:01:44.857Z"
   },
   {
    "duration": 27,
    "start_time": "2022-11-10T09:01:44.870Z"
   },
   {
    "duration": 22,
    "start_time": "2022-11-10T09:01:44.900Z"
   },
   {
    "duration": 17,
    "start_time": "2022-11-10T09:01:44.924Z"
   },
   {
    "duration": 17,
    "start_time": "2022-11-10T09:01:44.942Z"
   },
   {
    "duration": 15,
    "start_time": "2022-11-10T09:01:44.963Z"
   },
   {
    "duration": 21,
    "start_time": "2022-11-10T09:01:44.980Z"
   },
   {
    "duration": 30,
    "start_time": "2022-11-10T09:01:45.004Z"
   },
   {
    "duration": 27,
    "start_time": "2022-11-10T09:01:45.036Z"
   },
   {
    "duration": 41,
    "start_time": "2022-11-10T09:01:45.064Z"
   },
   {
    "duration": 10,
    "start_time": "2022-11-10T09:01:45.106Z"
   },
   {
    "duration": 22,
    "start_time": "2022-11-10T09:01:45.117Z"
   },
   {
    "duration": 13,
    "start_time": "2022-11-10T09:01:45.141Z"
   },
   {
    "duration": 16,
    "start_time": "2022-11-10T09:01:45.156Z"
   },
   {
    "duration": 23,
    "start_time": "2022-11-10T09:01:45.173Z"
   },
   {
    "duration": 35,
    "start_time": "2022-11-10T09:01:45.197Z"
   },
   {
    "duration": 11,
    "start_time": "2022-11-10T09:01:45.234Z"
   },
   {
    "duration": 30,
    "start_time": "2022-11-10T09:01:45.247Z"
   },
   {
    "duration": 20,
    "start_time": "2022-11-10T09:01:45.279Z"
   },
   {
    "duration": 21,
    "start_time": "2022-11-10T09:01:45.301Z"
   },
   {
    "duration": 16,
    "start_time": "2022-11-10T09:01:45.324Z"
   },
   {
    "duration": 193,
    "start_time": "2022-11-10T09:01:45.342Z"
   },
   {
    "duration": 166,
    "start_time": "2022-11-10T09:01:45.537Z"
   },
   {
    "duration": 8,
    "start_time": "2022-11-10T09:01:45.709Z"
   },
   {
    "duration": 28,
    "start_time": "2022-11-10T09:01:45.719Z"
   },
   {
    "duration": 44,
    "start_time": "2022-11-10T09:01:45.749Z"
   },
   {
    "duration": 35,
    "start_time": "2022-11-10T09:01:45.795Z"
   },
   {
    "duration": 14,
    "start_time": "2022-11-10T09:01:45.832Z"
   },
   {
    "duration": 335,
    "start_time": "2022-11-10T09:01:45.849Z"
   },
   {
    "duration": 258,
    "start_time": "2022-11-10T09:01:46.187Z"
   },
   {
    "duration": 8,
    "start_time": "2022-11-10T09:01:46.447Z"
   },
   {
    "duration": 41,
    "start_time": "2022-11-10T09:01:46.457Z"
   },
   {
    "duration": 477,
    "start_time": "2022-11-10T09:01:46.501Z"
   },
   {
    "duration": 6,
    "start_time": "2022-11-10T09:01:46.980Z"
   },
   {
    "duration": 29,
    "start_time": "2022-11-10T09:01:46.988Z"
   },
   {
    "duration": 35,
    "start_time": "2022-11-10T09:01:47.019Z"
   },
   {
    "duration": 368,
    "start_time": "2022-11-10T09:01:47.056Z"
   },
   {
    "duration": 359,
    "start_time": "2022-11-10T09:01:47.427Z"
   },
   {
    "duration": 359,
    "start_time": "2022-11-10T09:01:47.788Z"
   },
   {
    "duration": 10,
    "start_time": "2022-11-10T09:01:48.149Z"
   },
   {
    "duration": 36,
    "start_time": "2022-11-10T09:01:48.161Z"
   },
   {
    "duration": 33,
    "start_time": "2022-11-10T09:01:48.200Z"
   },
   {
    "duration": 215,
    "start_time": "2022-11-10T09:01:48.236Z"
   },
   {
    "duration": 7,
    "start_time": "2022-11-10T09:01:48.453Z"
   },
   {
    "duration": 217,
    "start_time": "2022-11-10T09:01:48.461Z"
   },
   {
    "duration": 11,
    "start_time": "2022-11-10T09:01:48.680Z"
   },
   {
    "duration": 25,
    "start_time": "2022-11-10T09:01:48.694Z"
   },
   {
    "duration": 28,
    "start_time": "2022-11-10T09:01:48.722Z"
   },
   {
    "duration": 59,
    "start_time": "2022-11-10T09:01:48.751Z"
   },
   {
    "duration": 35,
    "start_time": "2022-11-10T09:01:48.812Z"
   },
   {
    "duration": 85,
    "start_time": "2022-11-10T09:01:48.849Z"
   },
   {
    "duration": 34,
    "start_time": "2022-11-10T09:01:48.936Z"
   },
   {
    "duration": 80,
    "start_time": "2022-11-10T09:01:48.973Z"
   },
   {
    "duration": 27,
    "start_time": "2022-11-10T09:01:49.056Z"
   },
   {
    "duration": 86,
    "start_time": "2022-11-10T09:01:49.086Z"
   },
   {
    "duration": 49,
    "start_time": "2022-11-10T09:01:49.174Z"
   },
   {
    "duration": 120,
    "start_time": "2022-11-10T09:01:49.228Z"
   },
   {
    "duration": 119,
    "start_time": "2022-11-10T09:01:49.351Z"
   },
   {
    "duration": 6,
    "start_time": "2022-11-10T09:01:49.472Z"
   },
   {
    "duration": 7,
    "start_time": "2022-11-10T09:01:49.480Z"
   },
   {
    "duration": 21,
    "start_time": "2022-11-10T09:01:49.489Z"
   },
   {
    "duration": 69,
    "start_time": "2022-11-10T09:01:49.512Z"
   },
   {
    "duration": 28,
    "start_time": "2022-11-10T09:01:49.584Z"
   },
   {
    "duration": 18,
    "start_time": "2022-11-10T09:01:49.614Z"
   },
   {
    "duration": 11,
    "start_time": "2022-11-10T09:04:23.182Z"
   },
   {
    "duration": 14,
    "start_time": "2022-11-10T09:07:40.595Z"
   },
   {
    "duration": 10,
    "start_time": "2022-11-10T09:07:46.787Z"
   },
   {
    "duration": 1364,
    "start_time": "2022-11-10T09:15:16.181Z"
   },
   {
    "duration": 12,
    "start_time": "2022-11-10T09:15:41.261Z"
   },
   {
    "duration": 9,
    "start_time": "2022-11-10T09:16:24.086Z"
   },
   {
    "duration": 27,
    "start_time": "2022-11-10T09:16:39.484Z"
   },
   {
    "duration": 1305,
    "start_time": "2022-11-10T09:20:13.416Z"
   },
   {
    "duration": 19,
    "start_time": "2022-11-10T09:20:34.006Z"
   },
   {
    "duration": 10,
    "start_time": "2022-11-10T09:51:08.545Z"
   },
   {
    "duration": 12,
    "start_time": "2022-11-10T09:52:21.354Z"
   },
   {
    "duration": 9,
    "start_time": "2022-11-10T09:52:48.163Z"
   },
   {
    "duration": 10,
    "start_time": "2022-11-10T09:54:05.371Z"
   },
   {
    "duration": 12,
    "start_time": "2022-11-10T09:54:23.484Z"
   },
   {
    "duration": 6,
    "start_time": "2022-11-10T09:54:47.267Z"
   },
   {
    "duration": 3,
    "start_time": "2022-11-10T09:55:39.172Z"
   },
   {
    "duration": 82,
    "start_time": "2022-11-10T09:57:57.020Z"
   },
   {
    "duration": 12,
    "start_time": "2022-11-10T09:58:00.490Z"
   },
   {
    "duration": 15,
    "start_time": "2022-11-10T09:58:01.619Z"
   },
   {
    "duration": 11,
    "start_time": "2022-11-10T09:58:04.971Z"
   },
   {
    "duration": 12,
    "start_time": "2022-11-10T09:58:06.987Z"
   },
   {
    "duration": 7,
    "start_time": "2022-11-10T09:58:10.579Z"
   },
   {
    "duration": 1154,
    "start_time": "2022-11-10T09:58:31.298Z"
   },
   {
    "duration": 75,
    "start_time": "2022-11-10T09:58:32.454Z"
   },
   {
    "duration": 0,
    "start_time": "2022-11-10T09:58:32.599Z"
   },
   {
    "duration": 0,
    "start_time": "2022-11-10T09:58:32.600Z"
   },
   {
    "duration": 0,
    "start_time": "2022-11-10T09:58:32.605Z"
   },
   {
    "duration": 0,
    "start_time": "2022-11-10T09:58:32.607Z"
   },
   {
    "duration": 0,
    "start_time": "2022-11-10T09:58:32.615Z"
   },
   {
    "duration": 0,
    "start_time": "2022-11-10T09:58:32.617Z"
   },
   {
    "duration": 0,
    "start_time": "2022-11-10T09:58:32.619Z"
   },
   {
    "duration": 0,
    "start_time": "2022-11-10T09:58:32.620Z"
   },
   {
    "duration": 0,
    "start_time": "2022-11-10T09:58:32.622Z"
   },
   {
    "duration": 0,
    "start_time": "2022-11-10T09:58:32.623Z"
   },
   {
    "duration": 0,
    "start_time": "2022-11-10T09:58:32.652Z"
   },
   {
    "duration": 0,
    "start_time": "2022-11-10T09:58:32.654Z"
   },
   {
    "duration": 0,
    "start_time": "2022-11-10T09:58:32.655Z"
   },
   {
    "duration": 0,
    "start_time": "2022-11-10T09:58:32.656Z"
   },
   {
    "duration": 0,
    "start_time": "2022-11-10T09:58:32.658Z"
   },
   {
    "duration": 0,
    "start_time": "2022-11-10T09:58:32.659Z"
   },
   {
    "duration": 0,
    "start_time": "2022-11-10T09:58:32.660Z"
   },
   {
    "duration": 0,
    "start_time": "2022-11-10T09:58:32.662Z"
   },
   {
    "duration": 0,
    "start_time": "2022-11-10T09:58:32.664Z"
   },
   {
    "duration": 0,
    "start_time": "2022-11-10T09:58:32.665Z"
   },
   {
    "duration": 0,
    "start_time": "2022-11-10T09:58:32.667Z"
   },
   {
    "duration": 0,
    "start_time": "2022-11-10T09:58:32.668Z"
   },
   {
    "duration": 0,
    "start_time": "2022-11-10T09:58:32.669Z"
   },
   {
    "duration": 0,
    "start_time": "2022-11-10T09:58:32.670Z"
   },
   {
    "duration": 0,
    "start_time": "2022-11-10T09:58:32.671Z"
   },
   {
    "duration": 0,
    "start_time": "2022-11-10T09:58:32.673Z"
   },
   {
    "duration": 0,
    "start_time": "2022-11-10T09:58:32.674Z"
   },
   {
    "duration": 0,
    "start_time": "2022-11-10T09:58:32.676Z"
   },
   {
    "duration": 0,
    "start_time": "2022-11-10T09:58:32.677Z"
   },
   {
    "duration": 0,
    "start_time": "2022-11-10T09:58:32.678Z"
   },
   {
    "duration": 0,
    "start_time": "2022-11-10T09:58:32.680Z"
   },
   {
    "duration": 0,
    "start_time": "2022-11-10T09:58:32.681Z"
   },
   {
    "duration": 0,
    "start_time": "2022-11-10T09:58:32.682Z"
   },
   {
    "duration": 0,
    "start_time": "2022-11-10T09:58:32.683Z"
   },
   {
    "duration": 0,
    "start_time": "2022-11-10T09:58:32.684Z"
   },
   {
    "duration": 0,
    "start_time": "2022-11-10T09:58:32.686Z"
   },
   {
    "duration": 0,
    "start_time": "2022-11-10T09:58:32.687Z"
   },
   {
    "duration": 0,
    "start_time": "2022-11-10T09:58:32.751Z"
   },
   {
    "duration": 0,
    "start_time": "2022-11-10T09:58:32.752Z"
   },
   {
    "duration": 0,
    "start_time": "2022-11-10T09:58:32.754Z"
   },
   {
    "duration": 0,
    "start_time": "2022-11-10T09:58:32.755Z"
   },
   {
    "duration": 0,
    "start_time": "2022-11-10T09:58:32.757Z"
   },
   {
    "duration": 0,
    "start_time": "2022-11-10T09:58:32.759Z"
   },
   {
    "duration": 0,
    "start_time": "2022-11-10T09:58:32.760Z"
   },
   {
    "duration": 0,
    "start_time": "2022-11-10T09:58:32.762Z"
   },
   {
    "duration": 0,
    "start_time": "2022-11-10T09:58:32.763Z"
   },
   {
    "duration": 0,
    "start_time": "2022-11-10T09:58:32.764Z"
   },
   {
    "duration": 0,
    "start_time": "2022-11-10T09:58:32.765Z"
   },
   {
    "duration": 0,
    "start_time": "2022-11-10T09:58:32.766Z"
   },
   {
    "duration": 0,
    "start_time": "2022-11-10T09:58:32.767Z"
   },
   {
    "duration": 0,
    "start_time": "2022-11-10T09:58:32.768Z"
   },
   {
    "duration": 0,
    "start_time": "2022-11-10T09:58:32.770Z"
   },
   {
    "duration": 0,
    "start_time": "2022-11-10T09:58:32.771Z"
   },
   {
    "duration": 0,
    "start_time": "2022-11-10T09:58:32.772Z"
   },
   {
    "duration": 0,
    "start_time": "2022-11-10T09:58:32.774Z"
   },
   {
    "duration": 0,
    "start_time": "2022-11-10T09:58:32.774Z"
   },
   {
    "duration": 0,
    "start_time": "2022-11-10T09:58:32.776Z"
   },
   {
    "duration": 0,
    "start_time": "2022-11-10T09:58:32.777Z"
   },
   {
    "duration": 0,
    "start_time": "2022-11-10T09:58:32.779Z"
   },
   {
    "duration": 0,
    "start_time": "2022-11-10T09:58:32.781Z"
   },
   {
    "duration": 0,
    "start_time": "2022-11-10T09:58:32.782Z"
   },
   {
    "duration": 0,
    "start_time": "2022-11-10T09:58:32.783Z"
   },
   {
    "duration": 0,
    "start_time": "2022-11-10T09:58:32.785Z"
   },
   {
    "duration": 203,
    "start_time": "2022-11-10T09:58:32.874Z"
   },
   {
    "duration": 12,
    "start_time": "2022-11-10T09:58:33.366Z"
   },
   {
    "duration": 0,
    "start_time": "2022-11-10T09:58:33.380Z"
   },
   {
    "duration": 0,
    "start_time": "2022-11-10T09:58:33.381Z"
   },
   {
    "duration": 12,
    "start_time": "2022-11-10T09:58:33.394Z"
   },
   {
    "duration": 77,
    "start_time": "2022-11-10T09:58:49.345Z"
   },
   {
    "duration": 13,
    "start_time": "2022-11-10T09:58:50.721Z"
   },
   {
    "duration": 12,
    "start_time": "2022-11-10T09:58:51.585Z"
   },
   {
    "duration": 12,
    "start_time": "2022-11-10T09:58:52.881Z"
   },
   {
    "duration": 12,
    "start_time": "2022-11-10T09:58:58.090Z"
   },
   {
    "duration": 10,
    "start_time": "2022-11-10T09:58:59.241Z"
   },
   {
    "duration": 10,
    "start_time": "2022-11-10T09:59:29.723Z"
   },
   {
    "duration": 12,
    "start_time": "2022-11-10T09:59:32.762Z"
   },
   {
    "duration": 7,
    "start_time": "2022-11-10T09:59:36.609Z"
   },
   {
    "duration": 4,
    "start_time": "2022-11-10T09:59:42.393Z"
   },
   {
    "duration": 7,
    "start_time": "2022-11-10T09:59:43.948Z"
   },
   {
    "duration": 15,
    "start_time": "2022-11-10T10:01:27.292Z"
   },
   {
    "duration": 6,
    "start_time": "2022-11-10T10:01:27.641Z"
   },
   {
    "duration": 5,
    "start_time": "2022-11-10T10:02:51.020Z"
   },
   {
    "duration": 1330,
    "start_time": "2022-11-10T10:04:42.612Z"
   },
   {
    "duration": 128,
    "start_time": "2022-11-10T10:04:43.945Z"
   },
   {
    "duration": 567,
    "start_time": "2022-11-10T10:04:44.076Z"
   },
   {
    "duration": 16,
    "start_time": "2022-11-10T10:04:44.646Z"
   },
   {
    "duration": 15,
    "start_time": "2022-11-10T10:04:44.665Z"
   },
   {
    "duration": 26,
    "start_time": "2022-11-10T10:04:44.682Z"
   },
   {
    "duration": 14,
    "start_time": "2022-11-10T10:04:44.710Z"
   },
   {
    "duration": 32,
    "start_time": "2022-11-10T10:04:44.726Z"
   },
   {
    "duration": 14,
    "start_time": "2022-11-10T10:04:44.761Z"
   },
   {
    "duration": 7,
    "start_time": "2022-11-10T10:04:44.779Z"
   },
   {
    "duration": 6,
    "start_time": "2022-11-10T10:04:44.787Z"
   },
   {
    "duration": 58,
    "start_time": "2022-11-10T10:04:44.794Z"
   },
   {
    "duration": 8,
    "start_time": "2022-11-10T10:04:44.855Z"
   },
   {
    "duration": 20,
    "start_time": "2022-11-10T10:04:44.865Z"
   },
   {
    "duration": 10,
    "start_time": "2022-11-10T10:04:44.888Z"
   },
   {
    "duration": 17,
    "start_time": "2022-11-10T10:04:44.900Z"
   },
   {
    "duration": 37,
    "start_time": "2022-11-10T10:04:44.919Z"
   },
   {
    "duration": 10,
    "start_time": "2022-11-10T10:04:44.958Z"
   },
   {
    "duration": 7,
    "start_time": "2022-11-10T10:04:44.971Z"
   },
   {
    "duration": 8,
    "start_time": "2022-11-10T10:04:44.980Z"
   },
   {
    "duration": 14,
    "start_time": "2022-11-10T10:04:44.990Z"
   },
   {
    "duration": 53,
    "start_time": "2022-11-10T10:04:45.006Z"
   },
   {
    "duration": 17,
    "start_time": "2022-11-10T10:04:45.062Z"
   },
   {
    "duration": 209,
    "start_time": "2022-11-10T10:04:45.082Z"
   },
   {
    "duration": 142,
    "start_time": "2022-11-10T10:04:45.293Z"
   },
   {
    "duration": 9,
    "start_time": "2022-11-10T10:04:45.452Z"
   },
   {
    "duration": 5,
    "start_time": "2022-11-10T10:04:45.464Z"
   },
   {
    "duration": 17,
    "start_time": "2022-11-10T10:04:45.476Z"
   },
   {
    "duration": 11,
    "start_time": "2022-11-10T10:04:45.494Z"
   },
   {
    "duration": 45,
    "start_time": "2022-11-10T10:04:45.507Z"
   },
   {
    "duration": 417,
    "start_time": "2022-11-10T10:04:45.554Z"
   },
   {
    "duration": 351,
    "start_time": "2022-11-10T10:04:45.973Z"
   },
   {
    "duration": 8,
    "start_time": "2022-11-10T10:04:46.326Z"
   },
   {
    "duration": 9,
    "start_time": "2022-11-10T10:04:46.352Z"
   },
   {
    "duration": 364,
    "start_time": "2022-11-10T10:04:46.363Z"
   },
   {
    "duration": 6,
    "start_time": "2022-11-10T10:04:46.729Z"
   },
   {
    "duration": 6,
    "start_time": "2022-11-10T10:04:46.752Z"
   },
   {
    "duration": 15,
    "start_time": "2022-11-10T10:04:46.760Z"
   },
   {
    "duration": 349,
    "start_time": "2022-11-10T10:04:46.777Z"
   },
   {
    "duration": 260,
    "start_time": "2022-11-10T10:04:47.129Z"
   },
   {
    "duration": 337,
    "start_time": "2022-11-10T10:04:47.391Z"
   },
   {
    "duration": 7,
    "start_time": "2022-11-10T10:04:47.730Z"
   },
   {
    "duration": 11,
    "start_time": "2022-11-10T10:04:47.751Z"
   },
   {
    "duration": 5,
    "start_time": "2022-11-10T10:04:47.764Z"
   },
   {
    "duration": 219,
    "start_time": "2022-11-10T10:04:47.771Z"
   },
   {
    "duration": 5,
    "start_time": "2022-11-10T10:04:47.992Z"
   },
   {
    "duration": 234,
    "start_time": "2022-11-10T10:04:47.999Z"
   },
   {
    "duration": 19,
    "start_time": "2022-11-10T10:04:48.236Z"
   },
   {
    "duration": 11,
    "start_time": "2022-11-10T10:04:48.257Z"
   },
   {
    "duration": 15,
    "start_time": "2022-11-10T10:04:48.270Z"
   },
   {
    "duration": 92,
    "start_time": "2022-11-10T10:04:48.287Z"
   },
   {
    "duration": 12,
    "start_time": "2022-11-10T10:04:48.381Z"
   },
   {
    "duration": 78,
    "start_time": "2022-11-10T10:04:48.395Z"
   },
   {
    "duration": 30,
    "start_time": "2022-11-10T10:04:48.475Z"
   },
   {
    "duration": 89,
    "start_time": "2022-11-10T10:04:48.508Z"
   },
   {
    "duration": 21,
    "start_time": "2022-11-10T10:04:48.599Z"
   },
   {
    "duration": 86,
    "start_time": "2022-11-10T10:04:48.623Z"
   },
   {
    "duration": 73,
    "start_time": "2022-11-10T10:04:48.711Z"
   },
   {
    "duration": 120,
    "start_time": "2022-11-10T10:04:48.787Z"
   },
   {
    "duration": 119,
    "start_time": "2022-11-10T10:04:48.909Z"
   },
   {
    "duration": 7,
    "start_time": "2022-11-10T10:04:49.031Z"
   },
   {
    "duration": 8,
    "start_time": "2022-11-10T10:04:49.051Z"
   },
   {
    "duration": 13,
    "start_time": "2022-11-10T10:04:49.062Z"
   },
   {
    "duration": 53,
    "start_time": "2022-11-10T10:04:49.078Z"
   },
   {
    "duration": 18,
    "start_time": "2022-11-10T10:04:49.152Z"
   },
   {
    "duration": 27,
    "start_time": "2022-11-10T10:04:49.172Z"
   },
   {
    "duration": 20,
    "start_time": "2022-11-10T10:04:49.201Z"
   },
   {
    "duration": 69,
    "start_time": "2022-11-10T10:04:49.223Z"
   },
   {
    "duration": 20,
    "start_time": "2022-11-10T10:04:49.295Z"
   },
   {
    "duration": 7,
    "start_time": "2022-11-10T10:06:41.186Z"
   },
   {
    "duration": 5,
    "start_time": "2022-11-10T10:07:50.378Z"
   },
   {
    "duration": 9,
    "start_time": "2022-11-10T10:08:08.647Z"
   },
   {
    "duration": 388,
    "start_time": "2022-11-10T10:08:33.186Z"
   },
   {
    "duration": 330,
    "start_time": "2022-11-10T10:08:33.810Z"
   },
   {
    "duration": 1330,
    "start_time": "2022-11-10T10:08:48.636Z"
   },
   {
    "duration": 125,
    "start_time": "2022-11-10T10:08:49.968Z"
   },
   {
    "duration": 14,
    "start_time": "2022-11-10T10:08:50.095Z"
   },
   {
    "duration": 21,
    "start_time": "2022-11-10T10:08:50.112Z"
   },
   {
    "duration": 13,
    "start_time": "2022-11-10T10:08:50.136Z"
   },
   {
    "duration": 23,
    "start_time": "2022-11-10T10:08:50.154Z"
   },
   {
    "duration": 17,
    "start_time": "2022-11-10T10:08:50.179Z"
   },
   {
    "duration": 25,
    "start_time": "2022-11-10T10:08:50.198Z"
   },
   {
    "duration": 27,
    "start_time": "2022-11-10T10:08:50.225Z"
   },
   {
    "duration": 12,
    "start_time": "2022-11-10T10:08:50.255Z"
   },
   {
    "duration": 8,
    "start_time": "2022-11-10T10:08:50.268Z"
   },
   {
    "duration": 11,
    "start_time": "2022-11-10T10:08:50.277Z"
   },
   {
    "duration": 5,
    "start_time": "2022-11-10T10:08:50.291Z"
   },
   {
    "duration": 9,
    "start_time": "2022-11-10T10:08:50.298Z"
   },
   {
    "duration": 15,
    "start_time": "2022-11-10T10:08:50.350Z"
   },
   {
    "duration": 11,
    "start_time": "2022-11-10T10:08:50.367Z"
   },
   {
    "duration": 13,
    "start_time": "2022-11-10T10:08:50.380Z"
   },
   {
    "duration": 25,
    "start_time": "2022-11-10T10:08:50.395Z"
   },
   {
    "duration": 31,
    "start_time": "2022-11-10T10:08:50.422Z"
   },
   {
    "duration": 18,
    "start_time": "2022-11-10T10:08:50.454Z"
   },
   {
    "duration": 10,
    "start_time": "2022-11-10T10:08:50.474Z"
   },
   {
    "duration": 16,
    "start_time": "2022-11-10T10:08:50.486Z"
   },
   {
    "duration": 24,
    "start_time": "2022-11-10T10:08:50.504Z"
   },
   {
    "duration": 31,
    "start_time": "2022-11-10T10:08:50.530Z"
   },
   {
    "duration": 235,
    "start_time": "2022-11-10T10:08:50.564Z"
   },
   {
    "duration": 163,
    "start_time": "2022-11-10T10:08:50.801Z"
   },
   {
    "duration": 8,
    "start_time": "2022-11-10T10:08:50.966Z"
   },
   {
    "duration": 12,
    "start_time": "2022-11-10T10:08:50.978Z"
   },
   {
    "duration": 34,
    "start_time": "2022-11-10T10:08:50.991Z"
   },
   {
    "duration": 36,
    "start_time": "2022-11-10T10:08:51.026Z"
   },
   {
    "duration": 21,
    "start_time": "2022-11-10T10:08:51.064Z"
   },
   {
    "duration": 350,
    "start_time": "2022-11-10T10:08:51.087Z"
   },
   {
    "duration": 269,
    "start_time": "2022-11-10T10:08:51.439Z"
   },
   {
    "duration": 9,
    "start_time": "2022-11-10T10:08:51.710Z"
   },
   {
    "duration": 31,
    "start_time": "2022-11-10T10:08:51.721Z"
   },
   {
    "duration": 382,
    "start_time": "2022-11-10T10:08:51.754Z"
   },
   {
    "duration": 25,
    "start_time": "2022-11-10T10:08:52.138Z"
   },
   {
    "duration": 13,
    "start_time": "2022-11-10T10:08:52.166Z"
   },
   {
    "duration": 15,
    "start_time": "2022-11-10T10:08:52.181Z"
   },
   {
    "duration": 294,
    "start_time": "2022-11-10T10:08:52.198Z"
   },
   {
    "duration": 266,
    "start_time": "2022-11-10T10:08:52.494Z"
   },
   {
    "duration": 349,
    "start_time": "2022-11-10T10:08:52.762Z"
   },
   {
    "duration": 8,
    "start_time": "2022-11-10T10:08:53.112Z"
   },
   {
    "duration": 32,
    "start_time": "2022-11-10T10:08:53.122Z"
   },
   {
    "duration": 25,
    "start_time": "2022-11-10T10:08:53.157Z"
   },
   {
    "duration": 159,
    "start_time": "2022-11-10T10:08:53.184Z"
   },
   {
    "duration": 7,
    "start_time": "2022-11-10T10:08:53.345Z"
   },
   {
    "duration": 184,
    "start_time": "2022-11-10T10:08:53.354Z"
   },
   {
    "duration": 19,
    "start_time": "2022-11-10T10:08:53.541Z"
   },
   {
    "duration": 6,
    "start_time": "2022-11-10T10:08:53.562Z"
   },
   {
    "duration": 16,
    "start_time": "2022-11-10T10:08:53.569Z"
   },
   {
    "duration": 92,
    "start_time": "2022-11-10T10:08:53.588Z"
   },
   {
    "duration": 12,
    "start_time": "2022-11-10T10:08:53.682Z"
   },
   {
    "duration": 83,
    "start_time": "2022-11-10T10:08:53.696Z"
   },
   {
    "duration": 28,
    "start_time": "2022-11-10T10:08:53.782Z"
   },
   {
    "duration": 84,
    "start_time": "2022-11-10T10:08:53.812Z"
   },
   {
    "duration": 23,
    "start_time": "2022-11-10T10:08:53.898Z"
   },
   {
    "duration": 90,
    "start_time": "2022-11-10T10:08:53.923Z"
   },
   {
    "duration": 45,
    "start_time": "2022-11-10T10:08:54.015Z"
   },
   {
    "duration": 132,
    "start_time": "2022-11-10T10:08:54.063Z"
   },
   {
    "duration": 103,
    "start_time": "2022-11-10T10:08:54.197Z"
   },
   {
    "duration": 4,
    "start_time": "2022-11-10T10:08:54.303Z"
   },
   {
    "duration": 8,
    "start_time": "2022-11-10T10:08:54.309Z"
   },
   {
    "duration": 6,
    "start_time": "2022-11-10T10:08:54.319Z"
   },
   {
    "duration": 28,
    "start_time": "2022-11-10T10:08:54.350Z"
   },
   {
    "duration": 16,
    "start_time": "2022-11-10T10:08:54.381Z"
   },
   {
    "duration": 10,
    "start_time": "2022-11-10T10:08:54.400Z"
   },
   {
    "duration": 42,
    "start_time": "2022-11-10T10:08:54.412Z"
   },
   {
    "duration": 29,
    "start_time": "2022-11-10T10:08:54.456Z"
   },
   {
    "duration": 19,
    "start_time": "2022-11-10T10:08:54.487Z"
   },
   {
    "duration": 7,
    "start_time": "2022-11-10T10:10:00.493Z"
   },
   {
    "duration": 172,
    "start_time": "2022-11-10T10:10:13.724Z"
   },
   {
    "duration": 10,
    "start_time": "2022-11-10T10:10:31.852Z"
   },
   {
    "duration": 5,
    "start_time": "2022-11-10T10:11:37.748Z"
   },
   {
    "duration": 10,
    "start_time": "2022-11-10T10:11:45.539Z"
   },
   {
    "duration": 5,
    "start_time": "2022-11-10T10:12:30.058Z"
   },
   {
    "duration": 4,
    "start_time": "2022-11-10T10:14:15.244Z"
   },
   {
    "duration": 7,
    "start_time": "2022-11-10T10:14:20.604Z"
   },
   {
    "duration": 7,
    "start_time": "2022-11-10T10:14:45.452Z"
   },
   {
    "duration": 5,
    "start_time": "2022-11-10T10:15:08.620Z"
   },
   {
    "duration": 12,
    "start_time": "2022-11-10T10:20:19.556Z"
   },
   {
    "duration": 250,
    "start_time": "2022-11-10T12:29:03.241Z"
   },
   {
    "duration": 459,
    "start_time": "2022-11-10T12:34:13.123Z"
   },
   {
    "duration": 220,
    "start_time": "2022-11-10T12:39:19.609Z"
   },
   {
    "duration": 228,
    "start_time": "2022-11-10T12:42:39.466Z"
   },
   {
    "duration": 13,
    "start_time": "2022-11-10T12:51:12.652Z"
   },
   {
    "duration": 16,
    "start_time": "2022-11-10T12:51:21.012Z"
   },
   {
    "duration": 12,
    "start_time": "2022-11-10T12:52:23.148Z"
   },
   {
    "duration": 333,
    "start_time": "2022-11-10T13:15:04.676Z"
   },
   {
    "duration": 262,
    "start_time": "2022-11-10T13:15:58.868Z"
   },
   {
    "duration": 6,
    "start_time": "2022-11-10T13:20:08.464Z"
   },
   {
    "duration": 13,
    "start_time": "2022-11-10T13:20:16.849Z"
   },
   {
    "duration": 19,
    "start_time": "2022-11-10T13:20:31.624Z"
   },
   {
    "duration": 358,
    "start_time": "2022-11-10T13:20:44.825Z"
   },
   {
    "duration": 341,
    "start_time": "2022-11-10T13:22:10.011Z"
   },
   {
    "duration": 414,
    "start_time": "2022-11-10T13:22:22.427Z"
   },
   {
    "duration": 402,
    "start_time": "2022-11-10T13:22:41.843Z"
   },
   {
    "duration": 374,
    "start_time": "2022-11-10T13:27:47.738Z"
   },
   {
    "duration": 342,
    "start_time": "2022-11-10T13:27:54.659Z"
   },
   {
    "duration": 496,
    "start_time": "2022-11-10T13:28:00.225Z"
   },
   {
    "duration": 16,
    "start_time": "2022-11-10T14:02:09.663Z"
   },
   {
    "duration": 13,
    "start_time": "2022-11-10T14:07:35.000Z"
   },
   {
    "duration": 13,
    "start_time": "2022-11-10T14:08:56.154Z"
   },
   {
    "duration": 102,
    "start_time": "2022-11-10T14:09:02.656Z"
   },
   {
    "duration": 22,
    "start_time": "2022-11-10T14:09:04.743Z"
   },
   {
    "duration": 6,
    "start_time": "2022-11-10T14:09:11.237Z"
   },
   {
    "duration": 7,
    "start_time": "2022-11-10T14:09:20.545Z"
   },
   {
    "duration": 11,
    "start_time": "2022-11-10T14:10:03.849Z"
   },
   {
    "duration": 16,
    "start_time": "2022-11-10T14:10:11.328Z"
   },
   {
    "duration": 10,
    "start_time": "2022-11-10T14:10:22.209Z"
   },
   {
    "duration": 46,
    "start_time": "2022-11-10T14:11:35.152Z"
   },
   {
    "duration": 9,
    "start_time": "2022-11-10T14:11:43.664Z"
   },
   {
    "duration": 8,
    "start_time": "2022-11-10T14:11:52.386Z"
   },
   {
    "duration": 15,
    "start_time": "2022-11-10T14:12:02.705Z"
   },
   {
    "duration": 1253,
    "start_time": "2022-11-10T14:13:01.833Z"
   },
   {
    "duration": 11,
    "start_time": "2022-11-10T14:15:01.561Z"
   },
   {
    "duration": 9,
    "start_time": "2022-11-10T14:40:35.317Z"
   },
   {
    "duration": 17,
    "start_time": "2022-11-10T14:40:43.223Z"
   },
   {
    "duration": 63,
    "start_time": "2022-11-10T14:42:00.495Z"
   },
   {
    "duration": 10,
    "start_time": "2022-11-10T14:42:01.055Z"
   },
   {
    "duration": 9,
    "start_time": "2022-11-10T14:42:12.007Z"
   },
   {
    "duration": 3,
    "start_time": "2022-11-10T14:43:44.304Z"
   },
   {
    "duration": 11,
    "start_time": "2022-11-10T14:45:33.767Z"
   },
   {
    "duration": 1391,
    "start_time": "2022-11-10T14:46:12.613Z"
   },
   {
    "duration": 0,
    "start_time": "2022-11-10T14:46:14.007Z"
   },
   {
    "duration": 1239,
    "start_time": "2022-11-10T14:46:22.934Z"
   },
   {
    "duration": 130,
    "start_time": "2022-11-10T14:46:24.176Z"
   },
   {
    "duration": 18,
    "start_time": "2022-11-10T14:46:24.309Z"
   },
   {
    "duration": 17,
    "start_time": "2022-11-10T14:46:24.330Z"
   },
   {
    "duration": 16,
    "start_time": "2022-11-10T14:46:24.349Z"
   },
   {
    "duration": 13,
    "start_time": "2022-11-10T14:46:24.367Z"
   },
   {
    "duration": 14,
    "start_time": "2022-11-10T14:46:24.382Z"
   },
   {
    "duration": 10,
    "start_time": "2022-11-10T14:46:24.399Z"
   },
   {
    "duration": 52,
    "start_time": "2022-11-10T14:46:24.412Z"
   },
   {
    "duration": 9,
    "start_time": "2022-11-10T14:46:24.468Z"
   },
   {
    "duration": 9,
    "start_time": "2022-11-10T14:46:24.480Z"
   },
   {
    "duration": 11,
    "start_time": "2022-11-10T14:46:24.492Z"
   },
   {
    "duration": 7,
    "start_time": "2022-11-10T14:46:24.505Z"
   },
   {
    "duration": 48,
    "start_time": "2022-11-10T14:46:24.514Z"
   },
   {
    "duration": 31,
    "start_time": "2022-11-10T14:46:24.565Z"
   },
   {
    "duration": 11,
    "start_time": "2022-11-10T14:46:24.598Z"
   },
   {
    "duration": 11,
    "start_time": "2022-11-10T14:46:24.612Z"
   },
   {
    "duration": 6,
    "start_time": "2022-11-10T14:46:24.652Z"
   },
   {
    "duration": 15,
    "start_time": "2022-11-10T14:46:24.660Z"
   },
   {
    "duration": 10,
    "start_time": "2022-11-10T14:46:24.677Z"
   },
   {
    "duration": 1393,
    "start_time": "2022-11-10T14:46:24.689Z"
   },
   {
    "duration": 0,
    "start_time": "2022-11-10T14:46:26.087Z"
   },
   {
    "duration": 0,
    "start_time": "2022-11-10T14:46:26.089Z"
   },
   {
    "duration": 0,
    "start_time": "2022-11-10T14:46:26.091Z"
   },
   {
    "duration": 0,
    "start_time": "2022-11-10T14:46:26.093Z"
   },
   {
    "duration": 0,
    "start_time": "2022-11-10T14:46:26.095Z"
   },
   {
    "duration": 0,
    "start_time": "2022-11-10T14:46:26.096Z"
   },
   {
    "duration": 0,
    "start_time": "2022-11-10T14:46:26.098Z"
   },
   {
    "duration": 0,
    "start_time": "2022-11-10T14:46:26.100Z"
   },
   {
    "duration": 0,
    "start_time": "2022-11-10T14:46:26.102Z"
   },
   {
    "duration": 0,
    "start_time": "2022-11-10T14:46:26.104Z"
   },
   {
    "duration": 0,
    "start_time": "2022-11-10T14:46:26.107Z"
   },
   {
    "duration": 0,
    "start_time": "2022-11-10T14:46:26.109Z"
   },
   {
    "duration": 0,
    "start_time": "2022-11-10T14:46:26.110Z"
   },
   {
    "duration": 0,
    "start_time": "2022-11-10T14:46:26.112Z"
   },
   {
    "duration": 0,
    "start_time": "2022-11-10T14:46:26.113Z"
   },
   {
    "duration": 0,
    "start_time": "2022-11-10T14:46:26.116Z"
   },
   {
    "duration": 0,
    "start_time": "2022-11-10T14:46:26.118Z"
   },
   {
    "duration": 0,
    "start_time": "2022-11-10T14:46:26.120Z"
   },
   {
    "duration": 0,
    "start_time": "2022-11-10T14:46:26.121Z"
   },
   {
    "duration": 0,
    "start_time": "2022-11-10T14:46:26.123Z"
   },
   {
    "duration": 0,
    "start_time": "2022-11-10T14:46:26.151Z"
   },
   {
    "duration": 0,
    "start_time": "2022-11-10T14:46:26.154Z"
   },
   {
    "duration": 0,
    "start_time": "2022-11-10T14:46:26.156Z"
   },
   {
    "duration": 0,
    "start_time": "2022-11-10T14:46:26.158Z"
   },
   {
    "duration": 0,
    "start_time": "2022-11-10T14:46:26.160Z"
   },
   {
    "duration": 1,
    "start_time": "2022-11-10T14:46:26.166Z"
   },
   {
    "duration": 0,
    "start_time": "2022-11-10T14:46:26.168Z"
   },
   {
    "duration": 0,
    "start_time": "2022-11-10T14:46:26.170Z"
   },
   {
    "duration": 0,
    "start_time": "2022-11-10T14:46:26.171Z"
   },
   {
    "duration": 0,
    "start_time": "2022-11-10T14:46:26.172Z"
   },
   {
    "duration": 1,
    "start_time": "2022-11-10T14:46:26.173Z"
   },
   {
    "duration": 0,
    "start_time": "2022-11-10T14:46:26.176Z"
   },
   {
    "duration": 0,
    "start_time": "2022-11-10T14:46:26.180Z"
   },
   {
    "duration": 0,
    "start_time": "2022-11-10T14:46:26.181Z"
   },
   {
    "duration": 0,
    "start_time": "2022-11-10T14:46:26.183Z"
   },
   {
    "duration": 0,
    "start_time": "2022-11-10T14:46:26.184Z"
   },
   {
    "duration": 0,
    "start_time": "2022-11-10T14:46:26.186Z"
   },
   {
    "duration": 0,
    "start_time": "2022-11-10T14:46:26.187Z"
   },
   {
    "duration": 0,
    "start_time": "2022-11-10T14:46:26.189Z"
   },
   {
    "duration": 0,
    "start_time": "2022-11-10T14:46:26.250Z"
   },
   {
    "duration": 0,
    "start_time": "2022-11-10T14:46:26.252Z"
   },
   {
    "duration": 0,
    "start_time": "2022-11-10T14:46:26.254Z"
   },
   {
    "duration": 0,
    "start_time": "2022-11-10T14:46:26.255Z"
   },
   {
    "duration": 0,
    "start_time": "2022-11-10T14:46:26.257Z"
   },
   {
    "duration": 0,
    "start_time": "2022-11-10T14:46:26.258Z"
   },
   {
    "duration": 0,
    "start_time": "2022-11-10T14:46:26.259Z"
   },
   {
    "duration": 0,
    "start_time": "2022-11-10T14:46:26.261Z"
   },
   {
    "duration": 0,
    "start_time": "2022-11-10T14:46:26.263Z"
   },
   {
    "duration": 0,
    "start_time": "2022-11-10T14:46:26.264Z"
   },
   {
    "duration": 0,
    "start_time": "2022-11-10T14:46:26.266Z"
   },
   {
    "duration": 9,
    "start_time": "2022-11-10T14:47:06.520Z"
   },
   {
    "duration": 1242,
    "start_time": "2022-11-10T14:47:07.481Z"
   },
   {
    "duration": 12,
    "start_time": "2022-11-10T14:47:25.282Z"
   },
   {
    "duration": 31,
    "start_time": "2022-11-10T14:48:06.618Z"
   },
   {
    "duration": 13,
    "start_time": "2022-11-10T14:48:39.768Z"
   },
   {
    "duration": 9,
    "start_time": "2022-11-10T14:48:41.570Z"
   },
   {
    "duration": 13,
    "start_time": "2022-11-10T14:48:44.895Z"
   },
   {
    "duration": 1314,
    "start_time": "2022-11-10T14:48:53.973Z"
   },
   {
    "duration": 143,
    "start_time": "2022-11-10T14:48:55.291Z"
   },
   {
    "duration": 17,
    "start_time": "2022-11-10T14:48:55.437Z"
   },
   {
    "duration": 15,
    "start_time": "2022-11-10T14:48:55.457Z"
   },
   {
    "duration": 18,
    "start_time": "2022-11-10T14:48:55.474Z"
   },
   {
    "duration": 14,
    "start_time": "2022-11-10T14:48:55.494Z"
   },
   {
    "duration": 46,
    "start_time": "2022-11-10T14:48:55.510Z"
   },
   {
    "duration": 12,
    "start_time": "2022-11-10T14:48:55.558Z"
   },
   {
    "duration": 15,
    "start_time": "2022-11-10T14:48:55.572Z"
   },
   {
    "duration": 8,
    "start_time": "2022-11-10T14:48:55.591Z"
   },
   {
    "duration": 50,
    "start_time": "2022-11-10T14:48:55.601Z"
   },
   {
    "duration": 15,
    "start_time": "2022-11-10T14:48:55.654Z"
   },
   {
    "duration": 14,
    "start_time": "2022-11-10T14:48:55.672Z"
   },
   {
    "duration": 16,
    "start_time": "2022-11-10T14:48:55.688Z"
   },
   {
    "duration": 50,
    "start_time": "2022-11-10T14:48:55.706Z"
   },
   {
    "duration": 9,
    "start_time": "2022-11-10T14:48:55.758Z"
   },
   {
    "duration": 10,
    "start_time": "2022-11-10T14:48:55.769Z"
   },
   {
    "duration": 9,
    "start_time": "2022-11-10T14:48:55.780Z"
   },
   {
    "duration": 21,
    "start_time": "2022-11-10T14:48:55.791Z"
   },
   {
    "duration": 10,
    "start_time": "2022-11-10T14:48:55.852Z"
   },
   {
    "duration": 8,
    "start_time": "2022-11-10T14:48:55.864Z"
   },
   {
    "duration": 17,
    "start_time": "2022-11-10T14:48:55.874Z"
   },
   {
    "duration": 11,
    "start_time": "2022-11-10T14:48:55.894Z"
   },
   {
    "duration": 46,
    "start_time": "2022-11-10T14:48:55.907Z"
   },
   {
    "duration": 18,
    "start_time": "2022-11-10T14:48:55.956Z"
   },
   {
    "duration": 11,
    "start_time": "2022-11-10T14:48:55.977Z"
   },
   {
    "duration": 31,
    "start_time": "2022-11-10T14:48:55.990Z"
   },
   {
    "duration": 26,
    "start_time": "2022-11-10T14:48:56.029Z"
   },
   {
    "duration": 224,
    "start_time": "2022-11-10T14:48:56.058Z"
   },
   {
    "duration": 211,
    "start_time": "2022-11-10T14:48:56.284Z"
   },
   {
    "duration": 9,
    "start_time": "2022-11-10T14:48:56.497Z"
   },
   {
    "duration": 16,
    "start_time": "2022-11-10T14:48:56.508Z"
   },
   {
    "duration": 26,
    "start_time": "2022-11-10T14:48:56.526Z"
   },
   {
    "duration": 12,
    "start_time": "2022-11-10T14:48:56.554Z"
   },
   {
    "duration": 23,
    "start_time": "2022-11-10T14:48:56.568Z"
   },
   {
    "duration": 375,
    "start_time": "2022-11-10T14:48:56.594Z"
   },
   {
    "duration": 285,
    "start_time": "2022-11-10T14:48:56.972Z"
   },
   {
    "duration": 9,
    "start_time": "2022-11-10T14:48:57.259Z"
   },
   {
    "duration": 27,
    "start_time": "2022-11-10T14:48:57.270Z"
   },
   {
    "duration": 407,
    "start_time": "2022-11-10T14:48:57.299Z"
   },
   {
    "duration": 306,
    "start_time": "2022-11-10T14:48:57.709Z"
   },
   {
    "duration": 449,
    "start_time": "2022-11-10T14:48:58.017Z"
   },
   {
    "duration": 7,
    "start_time": "2022-11-10T14:48:58.469Z"
   },
   {
    "duration": 24,
    "start_time": "2022-11-10T14:48:58.478Z"
   },
   {
    "duration": 12,
    "start_time": "2022-11-10T14:48:58.504Z"
   },
   {
    "duration": 290,
    "start_time": "2022-11-10T14:48:58.520Z"
   },
   {
    "duration": 411,
    "start_time": "2022-11-10T14:48:58.813Z"
   },
   {
    "duration": 29,
    "start_time": "2022-11-10T14:48:59.227Z"
   },
   {
    "duration": 231,
    "start_time": "2022-11-10T14:48:59.259Z"
   },
   {
    "duration": 6,
    "start_time": "2022-11-10T14:48:59.492Z"
   },
   {
    "duration": 265,
    "start_time": "2022-11-10T14:48:59.501Z"
   },
   {
    "duration": 9,
    "start_time": "2022-11-10T14:48:59.768Z"
   },
   {
    "duration": 39,
    "start_time": "2022-11-10T14:48:59.779Z"
   },
   {
    "duration": 217,
    "start_time": "2022-11-10T14:48:59.820Z"
   },
   {
    "duration": 91,
    "start_time": "2022-11-10T14:49:00.040Z"
   },
   {
    "duration": 114,
    "start_time": "2022-11-10T14:49:00.134Z"
   },
   {
    "duration": 62,
    "start_time": "2022-11-10T14:49:00.250Z"
   },
   {
    "duration": 91,
    "start_time": "2022-11-10T14:49:00.314Z"
   },
   {
    "duration": 20,
    "start_time": "2022-11-10T14:49:00.407Z"
   },
   {
    "duration": 96,
    "start_time": "2022-11-10T14:49:00.429Z"
   },
   {
    "duration": 98,
    "start_time": "2022-11-10T14:49:00.528Z"
   },
   {
    "duration": 157,
    "start_time": "2022-11-10T14:49:00.628Z"
   },
   {
    "duration": 145,
    "start_time": "2022-11-10T14:49:00.788Z"
   },
   {
    "duration": 19,
    "start_time": "2022-11-10T14:49:00.936Z"
   },
   {
    "duration": 21,
    "start_time": "2022-11-10T14:49:00.957Z"
   },
   {
    "duration": 56,
    "start_time": "2022-11-10T14:49:00.981Z"
   },
   {
    "duration": 59,
    "start_time": "2022-11-10T14:49:01.040Z"
   },
   {
    "duration": 30,
    "start_time": "2022-11-10T14:49:01.102Z"
   },
   {
    "duration": 54,
    "start_time": "2022-11-10T14:49:01.136Z"
   },
   {
    "duration": 80,
    "start_time": "2022-11-10T14:49:01.193Z"
   },
   {
    "duration": 49,
    "start_time": "2022-11-10T14:49:01.276Z"
   },
   {
    "duration": 13,
    "start_time": "2022-11-10T14:54:04.905Z"
   },
   {
    "duration": 11,
    "start_time": "2022-11-10T14:54:19.515Z"
   },
   {
    "duration": 45,
    "start_time": "2022-11-10T14:54:22.187Z"
   },
   {
    "duration": 18,
    "start_time": "2022-11-10T14:54:47.961Z"
   },
   {
    "duration": 1200,
    "start_time": "2022-11-10T14:55:06.692Z"
   },
   {
    "duration": 131,
    "start_time": "2022-11-10T14:55:07.894Z"
   },
   {
    "duration": 19,
    "start_time": "2022-11-10T14:55:08.027Z"
   },
   {
    "duration": 27,
    "start_time": "2022-11-10T14:55:08.050Z"
   },
   {
    "duration": 17,
    "start_time": "2022-11-10T14:55:08.079Z"
   },
   {
    "duration": 23,
    "start_time": "2022-11-10T14:55:08.098Z"
   },
   {
    "duration": 29,
    "start_time": "2022-11-10T14:55:08.124Z"
   },
   {
    "duration": 21,
    "start_time": "2022-11-10T14:55:08.156Z"
   },
   {
    "duration": 34,
    "start_time": "2022-11-10T14:55:08.180Z"
   },
   {
    "duration": 17,
    "start_time": "2022-11-10T14:55:08.218Z"
   },
   {
    "duration": 7,
    "start_time": "2022-11-10T14:55:08.238Z"
   },
   {
    "duration": 20,
    "start_time": "2022-11-10T14:55:08.246Z"
   },
   {
    "duration": 23,
    "start_time": "2022-11-10T14:55:08.269Z"
   },
   {
    "duration": 40,
    "start_time": "2022-11-10T14:55:08.295Z"
   },
   {
    "duration": 28,
    "start_time": "2022-11-10T14:55:08.338Z"
   },
   {
    "duration": 12,
    "start_time": "2022-11-10T14:55:08.369Z"
   },
   {
    "duration": 11,
    "start_time": "2022-11-10T14:55:08.384Z"
   },
   {
    "duration": 13,
    "start_time": "2022-11-10T14:55:08.398Z"
   },
   {
    "duration": 42,
    "start_time": "2022-11-10T14:55:08.415Z"
   },
   {
    "duration": 10,
    "start_time": "2022-11-10T14:55:08.459Z"
   },
   {
    "duration": 15,
    "start_time": "2022-11-10T14:55:08.470Z"
   },
   {
    "duration": 23,
    "start_time": "2022-11-10T14:55:08.487Z"
   },
   {
    "duration": 9,
    "start_time": "2022-11-10T14:55:08.512Z"
   },
   {
    "duration": 30,
    "start_time": "2022-11-10T14:55:08.524Z"
   },
   {
    "duration": 57,
    "start_time": "2022-11-10T14:55:08.556Z"
   },
   {
    "duration": 17,
    "start_time": "2022-11-10T14:55:08.616Z"
   },
   {
    "duration": 37,
    "start_time": "2022-11-10T14:55:08.636Z"
   },
   {
    "duration": 22,
    "start_time": "2022-11-10T14:55:08.679Z"
   },
   {
    "duration": 267,
    "start_time": "2022-11-10T14:55:08.704Z"
   },
   {
    "duration": 197,
    "start_time": "2022-11-10T14:55:08.973Z"
   },
   {
    "duration": 11,
    "start_time": "2022-11-10T14:55:09.172Z"
   },
   {
    "duration": 15,
    "start_time": "2022-11-10T14:55:09.185Z"
   },
   {
    "duration": 51,
    "start_time": "2022-11-10T14:55:09.204Z"
   },
   {
    "duration": 54,
    "start_time": "2022-11-10T14:55:09.258Z"
   },
   {
    "duration": 30,
    "start_time": "2022-11-10T14:55:09.314Z"
   },
   {
    "duration": 399,
    "start_time": "2022-11-10T14:55:09.346Z"
   },
   {
    "duration": 310,
    "start_time": "2022-11-10T14:55:09.747Z"
   },
   {
    "duration": 12,
    "start_time": "2022-11-10T14:55:10.060Z"
   },
   {
    "duration": 43,
    "start_time": "2022-11-10T14:55:10.074Z"
   },
   {
    "duration": 386,
    "start_time": "2022-11-10T14:55:10.119Z"
   },
   {
    "duration": 265,
    "start_time": "2022-11-10T14:55:10.507Z"
   },
   {
    "duration": 347,
    "start_time": "2022-11-10T14:55:10.775Z"
   },
   {
    "duration": 5,
    "start_time": "2022-11-10T14:55:11.124Z"
   },
   {
    "duration": 44,
    "start_time": "2022-11-10T14:55:11.131Z"
   },
   {
    "duration": 29,
    "start_time": "2022-11-10T14:55:11.177Z"
   },
   {
    "duration": 292,
    "start_time": "2022-11-10T14:55:11.208Z"
   },
   {
    "duration": 397,
    "start_time": "2022-11-10T14:55:11.502Z"
   },
   {
    "duration": 10,
    "start_time": "2022-11-10T14:55:11.902Z"
   },
   {
    "duration": 244,
    "start_time": "2022-11-10T14:55:11.914Z"
   },
   {
    "duration": 7,
    "start_time": "2022-11-10T14:55:12.161Z"
   },
   {
    "duration": 231,
    "start_time": "2022-11-10T14:55:12.170Z"
   },
   {
    "duration": 6,
    "start_time": "2022-11-10T14:55:12.403Z"
   },
   {
    "duration": 43,
    "start_time": "2022-11-10T14:55:12.410Z"
   },
   {
    "duration": 198,
    "start_time": "2022-11-10T14:55:12.455Z"
   },
   {
    "duration": 10,
    "start_time": "2022-11-10T14:55:12.655Z"
   },
   {
    "duration": 85,
    "start_time": "2022-11-10T14:55:12.668Z"
   },
   {
    "duration": 24,
    "start_time": "2022-11-10T14:55:12.755Z"
   },
   {
    "duration": 123,
    "start_time": "2022-11-10T14:55:12.782Z"
   },
   {
    "duration": 33,
    "start_time": "2022-11-10T14:55:12.908Z"
   },
   {
    "duration": 67,
    "start_time": "2022-11-10T14:55:12.944Z"
   },
   {
    "duration": 62,
    "start_time": "2022-11-10T14:55:13.013Z"
   },
   {
    "duration": 113,
    "start_time": "2022-11-10T14:55:13.077Z"
   },
   {
    "duration": 136,
    "start_time": "2022-11-10T14:55:13.192Z"
   },
   {
    "duration": 8,
    "start_time": "2022-11-10T14:55:13.331Z"
   },
   {
    "duration": 6,
    "start_time": "2022-11-10T14:55:13.353Z"
   },
   {
    "duration": 34,
    "start_time": "2022-11-10T14:55:13.361Z"
   },
   {
    "duration": 12,
    "start_time": "2022-11-10T14:55:13.398Z"
   },
   {
    "duration": 45,
    "start_time": "2022-11-10T14:55:13.412Z"
   },
   {
    "duration": 15,
    "start_time": "2022-11-10T14:55:13.459Z"
   },
   {
    "duration": 38,
    "start_time": "2022-11-10T14:55:13.477Z"
   },
   {
    "duration": 44,
    "start_time": "2022-11-10T14:55:13.519Z"
   },
   {
    "duration": 1240,
    "start_time": "2022-11-10T14:59:07.652Z"
   },
   {
    "duration": 148,
    "start_time": "2022-11-10T14:59:08.894Z"
   },
   {
    "duration": 14,
    "start_time": "2022-11-10T14:59:09.044Z"
   },
   {
    "duration": 13,
    "start_time": "2022-11-10T14:59:09.061Z"
   },
   {
    "duration": 25,
    "start_time": "2022-11-10T14:59:09.076Z"
   },
   {
    "duration": 15,
    "start_time": "2022-11-10T14:59:09.103Z"
   },
   {
    "duration": 34,
    "start_time": "2022-11-10T14:59:09.120Z"
   },
   {
    "duration": 10,
    "start_time": "2022-11-10T14:59:09.156Z"
   },
   {
    "duration": 17,
    "start_time": "2022-11-10T14:59:09.168Z"
   },
   {
    "duration": 8,
    "start_time": "2022-11-10T14:59:09.188Z"
   },
   {
    "duration": 6,
    "start_time": "2022-11-10T14:59:09.199Z"
   },
   {
    "duration": 47,
    "start_time": "2022-11-10T14:59:09.207Z"
   },
   {
    "duration": 33,
    "start_time": "2022-11-10T14:59:09.257Z"
   },
   {
    "duration": 21,
    "start_time": "2022-11-10T14:59:09.292Z"
   },
   {
    "duration": 16,
    "start_time": "2022-11-10T14:59:09.314Z"
   },
   {
    "duration": 7,
    "start_time": "2022-11-10T14:59:09.332Z"
   },
   {
    "duration": 11,
    "start_time": "2022-11-10T14:59:09.342Z"
   },
   {
    "duration": 7,
    "start_time": "2022-11-10T14:59:09.355Z"
   },
   {
    "duration": 18,
    "start_time": "2022-11-10T14:59:09.365Z"
   },
   {
    "duration": 11,
    "start_time": "2022-11-10T14:59:09.387Z"
   },
   {
    "duration": 6,
    "start_time": "2022-11-10T14:59:09.400Z"
   },
   {
    "duration": 49,
    "start_time": "2022-11-10T14:59:09.408Z"
   },
   {
    "duration": 8,
    "start_time": "2022-11-10T14:59:09.459Z"
   },
   {
    "duration": 17,
    "start_time": "2022-11-10T14:59:09.469Z"
   },
   {
    "duration": 14,
    "start_time": "2022-11-10T14:59:09.488Z"
   },
   {
    "duration": 6,
    "start_time": "2022-11-10T14:59:09.504Z"
   },
   {
    "duration": 45,
    "start_time": "2022-11-10T14:59:09.512Z"
   },
   {
    "duration": 6,
    "start_time": "2022-11-10T14:59:09.562Z"
   },
   {
    "duration": 261,
    "start_time": "2022-11-10T14:59:09.575Z"
   },
   {
    "duration": 198,
    "start_time": "2022-11-10T14:59:09.839Z"
   },
   {
    "duration": 16,
    "start_time": "2022-11-10T14:59:10.040Z"
   },
   {
    "duration": 8,
    "start_time": "2022-11-10T14:59:10.058Z"
   },
   {
    "duration": 18,
    "start_time": "2022-11-10T14:59:10.067Z"
   },
   {
    "duration": 7,
    "start_time": "2022-11-10T14:59:10.087Z"
   },
   {
    "duration": 10,
    "start_time": "2022-11-10T14:59:10.096Z"
   },
   {
    "duration": 402,
    "start_time": "2022-11-10T14:59:10.109Z"
   },
   {
    "duration": 261,
    "start_time": "2022-11-10T14:59:10.513Z"
   },
   {
    "duration": 7,
    "start_time": "2022-11-10T14:59:10.776Z"
   },
   {
    "duration": 22,
    "start_time": "2022-11-10T14:59:10.784Z"
   },
   {
    "duration": 387,
    "start_time": "2022-11-10T14:59:10.808Z"
   },
   {
    "duration": 243,
    "start_time": "2022-11-10T14:59:11.197Z"
   },
   {
    "duration": 345,
    "start_time": "2022-11-10T14:59:11.442Z"
   },
   {
    "duration": 4,
    "start_time": "2022-11-10T14:59:11.789Z"
   },
   {
    "duration": 10,
    "start_time": "2022-11-10T14:59:11.795Z"
   },
   {
    "duration": 10,
    "start_time": "2022-11-10T14:59:11.808Z"
   },
   {
    "duration": 258,
    "start_time": "2022-11-10T14:59:11.820Z"
   },
   {
    "duration": 321,
    "start_time": "2022-11-10T14:59:12.080Z"
   },
   {
    "duration": 8,
    "start_time": "2022-11-10T14:59:12.404Z"
   },
   {
    "duration": 198,
    "start_time": "2022-11-10T14:59:12.414Z"
   },
   {
    "duration": 5,
    "start_time": "2022-11-10T14:59:12.614Z"
   },
   {
    "duration": 188,
    "start_time": "2022-11-10T14:59:12.621Z"
   },
   {
    "duration": 5,
    "start_time": "2022-11-10T14:59:12.811Z"
   },
   {
    "duration": 36,
    "start_time": "2022-11-10T14:59:12.818Z"
   },
   {
    "duration": 151,
    "start_time": "2022-11-10T14:59:12.857Z"
   },
   {
    "duration": 12,
    "start_time": "2022-11-10T14:59:13.010Z"
   },
   {
    "duration": 89,
    "start_time": "2022-11-10T14:59:13.023Z"
   },
   {
    "duration": 43,
    "start_time": "2022-11-10T14:59:13.114Z"
   },
   {
    "duration": 79,
    "start_time": "2022-11-10T14:59:13.158Z"
   },
   {
    "duration": 31,
    "start_time": "2022-11-10T14:59:13.239Z"
   },
   {
    "duration": 59,
    "start_time": "2022-11-10T14:59:13.272Z"
   },
   {
    "duration": 33,
    "start_time": "2022-11-10T14:59:13.351Z"
   },
   {
    "duration": 104,
    "start_time": "2022-11-10T14:59:13.386Z"
   },
   {
    "duration": 128,
    "start_time": "2022-11-10T14:59:13.492Z"
   },
   {
    "duration": 7,
    "start_time": "2022-11-10T14:59:13.622Z"
   },
   {
    "duration": 36,
    "start_time": "2022-11-10T14:59:13.630Z"
   },
   {
    "duration": 62,
    "start_time": "2022-11-10T14:59:13.669Z"
   },
   {
    "duration": 15,
    "start_time": "2022-11-10T14:59:13.733Z"
   },
   {
    "duration": 42,
    "start_time": "2022-11-10T14:59:13.751Z"
   },
   {
    "duration": 33,
    "start_time": "2022-11-10T14:59:13.796Z"
   },
   {
    "duration": 52,
    "start_time": "2022-11-10T14:59:13.831Z"
   },
   {
    "duration": 21,
    "start_time": "2022-11-10T14:59:13.885Z"
   },
   {
    "duration": 1215,
    "start_time": "2022-11-10T15:29:30.913Z"
   },
   {
    "duration": 134,
    "start_time": "2022-11-10T15:29:32.130Z"
   },
   {
    "duration": 12,
    "start_time": "2022-11-10T15:29:32.266Z"
   },
   {
    "duration": 12,
    "start_time": "2022-11-10T15:29:32.280Z"
   },
   {
    "duration": 22,
    "start_time": "2022-11-10T15:29:32.294Z"
   },
   {
    "duration": 33,
    "start_time": "2022-11-10T15:29:32.318Z"
   },
   {
    "duration": 9,
    "start_time": "2022-11-10T15:29:32.353Z"
   },
   {
    "duration": 11,
    "start_time": "2022-11-10T15:29:32.364Z"
   },
   {
    "duration": 37,
    "start_time": "2022-11-10T15:29:32.377Z"
   },
   {
    "duration": 11,
    "start_time": "2022-11-10T15:29:32.417Z"
   },
   {
    "duration": 21,
    "start_time": "2022-11-10T15:29:32.430Z"
   },
   {
    "duration": 10,
    "start_time": "2022-11-10T15:29:32.453Z"
   },
   {
    "duration": 4,
    "start_time": "2022-11-10T15:29:32.465Z"
   },
   {
    "duration": 11,
    "start_time": "2022-11-10T15:29:32.471Z"
   },
   {
    "duration": 23,
    "start_time": "2022-11-10T15:29:32.484Z"
   },
   {
    "duration": 42,
    "start_time": "2022-11-10T15:29:32.509Z"
   },
   {
    "duration": 15,
    "start_time": "2022-11-10T15:29:32.553Z"
   },
   {
    "duration": 7,
    "start_time": "2022-11-10T15:29:32.570Z"
   },
   {
    "duration": 13,
    "start_time": "2022-11-10T15:29:32.579Z"
   },
   {
    "duration": 10,
    "start_time": "2022-11-10T15:29:32.594Z"
   },
   {
    "duration": 6,
    "start_time": "2022-11-10T15:29:32.606Z"
   },
   {
    "duration": 47,
    "start_time": "2022-11-10T15:29:32.613Z"
   },
   {
    "duration": 9,
    "start_time": "2022-11-10T15:29:32.661Z"
   },
   {
    "duration": 6,
    "start_time": "2022-11-10T15:29:32.672Z"
   },
   {
    "duration": 18,
    "start_time": "2022-11-10T15:29:32.680Z"
   },
   {
    "duration": 8,
    "start_time": "2022-11-10T15:29:32.700Z"
   },
   {
    "duration": 53,
    "start_time": "2022-11-10T15:29:32.710Z"
   },
   {
    "duration": 9,
    "start_time": "2022-11-10T15:29:32.767Z"
   },
   {
    "duration": 210,
    "start_time": "2022-11-10T15:29:32.778Z"
   },
   {
    "duration": 143,
    "start_time": "2022-11-10T15:29:32.990Z"
   },
   {
    "duration": 10,
    "start_time": "2022-11-10T15:29:33.150Z"
   },
   {
    "duration": 7,
    "start_time": "2022-11-10T15:29:33.162Z"
   },
   {
    "duration": 16,
    "start_time": "2022-11-10T15:29:33.171Z"
   },
   {
    "duration": 8,
    "start_time": "2022-11-10T15:29:33.190Z"
   },
   {
    "duration": 7,
    "start_time": "2022-11-10T15:29:33.201Z"
   },
   {
    "duration": 355,
    "start_time": "2022-11-10T15:29:33.210Z"
   },
   {
    "duration": 251,
    "start_time": "2022-11-10T15:29:33.568Z"
   },
   {
    "duration": 7,
    "start_time": "2022-11-10T15:29:33.821Z"
   },
   {
    "duration": 24,
    "start_time": "2022-11-10T15:29:33.830Z"
   },
   {
    "duration": 356,
    "start_time": "2022-11-10T15:29:33.856Z"
   },
   {
    "duration": 236,
    "start_time": "2022-11-10T15:29:34.215Z"
   },
   {
    "duration": 332,
    "start_time": "2022-11-10T15:29:34.453Z"
   },
   {
    "duration": 5,
    "start_time": "2022-11-10T15:29:34.787Z"
   },
   {
    "duration": 23,
    "start_time": "2022-11-10T15:29:34.795Z"
   },
   {
    "duration": 24,
    "start_time": "2022-11-10T15:29:34.820Z"
   },
   {
    "duration": 275,
    "start_time": "2022-11-10T15:29:34.847Z"
   },
   {
    "duration": 363,
    "start_time": "2022-11-10T15:29:35.125Z"
   },
   {
    "duration": 10,
    "start_time": "2022-11-10T15:29:35.490Z"
   },
   {
    "duration": 223,
    "start_time": "2022-11-10T15:29:35.502Z"
   },
   {
    "duration": 6,
    "start_time": "2022-11-10T15:29:35.727Z"
   },
   {
    "duration": 182,
    "start_time": "2022-11-10T15:29:35.750Z"
   },
   {
    "duration": 17,
    "start_time": "2022-11-10T15:29:35.935Z"
   },
   {
    "duration": 38,
    "start_time": "2022-11-10T15:29:35.954Z"
   },
   {
    "duration": 150,
    "start_time": "2022-11-10T15:29:35.994Z"
   },
   {
    "duration": 41,
    "start_time": "2022-11-10T15:29:36.150Z"
   },
   {
    "duration": 64,
    "start_time": "2022-11-10T15:29:36.194Z"
   },
   {
    "duration": 41,
    "start_time": "2022-11-10T15:29:36.260Z"
   },
   {
    "duration": 88,
    "start_time": "2022-11-10T15:29:36.303Z"
   },
   {
    "duration": 44,
    "start_time": "2022-11-10T15:29:36.393Z"
   },
   {
    "duration": 93,
    "start_time": "2022-11-10T15:29:36.440Z"
   },
   {
    "duration": 60,
    "start_time": "2022-11-10T15:29:36.535Z"
   },
   {
    "duration": 90,
    "start_time": "2022-11-10T15:29:36.597Z"
   },
   {
    "duration": 113,
    "start_time": "2022-11-10T15:29:36.689Z"
   },
   {
    "duration": 16,
    "start_time": "2022-11-10T15:29:36.804Z"
   },
   {
    "duration": 18,
    "start_time": "2022-11-10T15:29:36.822Z"
   },
   {
    "duration": 39,
    "start_time": "2022-11-10T15:29:36.843Z"
   },
   {
    "duration": 27,
    "start_time": "2022-11-10T15:29:36.884Z"
   },
   {
    "duration": 25,
    "start_time": "2022-11-10T15:29:36.913Z"
   },
   {
    "duration": 33,
    "start_time": "2022-11-10T15:29:36.940Z"
   },
   {
    "duration": 62,
    "start_time": "2022-11-10T15:29:36.975Z"
   },
   {
    "duration": 20,
    "start_time": "2022-11-10T15:29:37.039Z"
   },
   {
    "duration": 1229,
    "start_time": "2022-11-10T15:38:32.643Z"
   },
   {
    "duration": 130,
    "start_time": "2022-11-10T15:38:33.874Z"
   },
   {
    "duration": 15,
    "start_time": "2022-11-10T15:38:34.006Z"
   },
   {
    "duration": 12,
    "start_time": "2022-11-10T15:38:34.024Z"
   },
   {
    "duration": 14,
    "start_time": "2022-11-10T15:38:34.038Z"
   },
   {
    "duration": 13,
    "start_time": "2022-11-10T15:38:34.054Z"
   },
   {
    "duration": 13,
    "start_time": "2022-11-10T15:38:34.069Z"
   },
   {
    "duration": 25,
    "start_time": "2022-11-10T15:38:34.084Z"
   },
   {
    "duration": 25,
    "start_time": "2022-11-10T15:38:34.112Z"
   },
   {
    "duration": 8,
    "start_time": "2022-11-10T15:38:34.150Z"
   },
   {
    "duration": 10,
    "start_time": "2022-11-10T15:38:34.160Z"
   },
   {
    "duration": 22,
    "start_time": "2022-11-10T15:38:34.172Z"
   },
   {
    "duration": 6,
    "start_time": "2022-11-10T15:38:34.196Z"
   },
   {
    "duration": 13,
    "start_time": "2022-11-10T15:38:34.204Z"
   },
   {
    "duration": 39,
    "start_time": "2022-11-10T15:38:34.219Z"
   },
   {
    "duration": 9,
    "start_time": "2022-11-10T15:38:34.261Z"
   },
   {
    "duration": 8,
    "start_time": "2022-11-10T15:38:34.273Z"
   },
   {
    "duration": 14,
    "start_time": "2022-11-10T15:38:34.283Z"
   },
   {
    "duration": 15,
    "start_time": "2022-11-10T15:38:34.298Z"
   },
   {
    "duration": 45,
    "start_time": "2022-11-10T15:38:34.314Z"
   },
   {
    "duration": 9,
    "start_time": "2022-11-10T15:38:34.361Z"
   },
   {
    "duration": 21,
    "start_time": "2022-11-10T15:38:34.372Z"
   },
   {
    "duration": 14,
    "start_time": "2022-11-10T15:38:34.395Z"
   },
   {
    "duration": 44,
    "start_time": "2022-11-10T15:38:34.411Z"
   },
   {
    "duration": 24,
    "start_time": "2022-11-10T15:38:34.457Z"
   },
   {
    "duration": 10,
    "start_time": "2022-11-10T15:38:34.483Z"
   },
   {
    "duration": 21,
    "start_time": "2022-11-10T15:38:34.496Z"
   },
   {
    "duration": 8,
    "start_time": "2022-11-10T15:38:34.522Z"
   },
   {
    "duration": 196,
    "start_time": "2022-11-10T15:38:34.551Z"
   },
   {
    "duration": 150,
    "start_time": "2022-11-10T15:38:34.751Z"
   },
   {
    "duration": 8,
    "start_time": "2022-11-10T15:38:34.903Z"
   },
   {
    "duration": 11,
    "start_time": "2022-11-10T15:38:34.913Z"
   },
   {
    "duration": 33,
    "start_time": "2022-11-10T15:38:34.926Z"
   },
   {
    "duration": 8,
    "start_time": "2022-11-10T15:38:34.961Z"
   },
   {
    "duration": 16,
    "start_time": "2022-11-10T15:38:34.971Z"
   },
   {
    "duration": 396,
    "start_time": "2022-11-10T15:38:34.989Z"
   },
   {
    "duration": 255,
    "start_time": "2022-11-10T15:38:35.387Z"
   },
   {
    "duration": 6,
    "start_time": "2022-11-10T15:38:35.651Z"
   },
   {
    "duration": 19,
    "start_time": "2022-11-10T15:38:35.659Z"
   },
   {
    "duration": 365,
    "start_time": "2022-11-10T15:38:35.680Z"
   },
   {
    "duration": 296,
    "start_time": "2022-11-10T15:38:36.047Z"
   },
   {
    "duration": 396,
    "start_time": "2022-11-10T15:38:36.352Z"
   },
   {
    "duration": 6,
    "start_time": "2022-11-10T15:38:36.750Z"
   },
   {
    "duration": 14,
    "start_time": "2022-11-10T15:38:36.758Z"
   },
   {
    "duration": 13,
    "start_time": "2022-11-10T15:38:36.775Z"
   },
   {
    "duration": 260,
    "start_time": "2022-11-10T15:38:36.794Z"
   },
   {
    "duration": 349,
    "start_time": "2022-11-10T15:38:37.056Z"
   },
   {
    "duration": 20,
    "start_time": "2022-11-10T15:38:37.407Z"
   },
   {
    "duration": 194,
    "start_time": "2022-11-10T15:38:37.430Z"
   },
   {
    "duration": 5,
    "start_time": "2022-11-10T15:38:37.626Z"
   },
   {
    "duration": 188,
    "start_time": "2022-11-10T15:38:37.633Z"
   },
   {
    "duration": 5,
    "start_time": "2022-11-10T15:38:37.823Z"
   },
   {
    "duration": 30,
    "start_time": "2022-11-10T15:38:37.830Z"
   },
   {
    "duration": 159,
    "start_time": "2022-11-10T15:38:37.862Z"
   },
   {
    "duration": 28,
    "start_time": "2022-11-10T15:38:38.023Z"
   },
   {
    "duration": 58,
    "start_time": "2022-11-10T15:38:38.053Z"
   },
   {
    "duration": 52,
    "start_time": "2022-11-10T15:38:38.114Z"
   },
   {
    "duration": 67,
    "start_time": "2022-11-10T15:38:38.169Z"
   },
   {
    "duration": 28,
    "start_time": "2022-11-10T15:38:38.237Z"
   },
   {
    "duration": 94,
    "start_time": "2022-11-10T15:38:38.267Z"
   },
   {
    "duration": 48,
    "start_time": "2022-11-10T15:38:38.364Z"
   },
   {
    "duration": 94,
    "start_time": "2022-11-10T15:38:38.414Z"
   },
   {
    "duration": 104,
    "start_time": "2022-11-10T15:38:38.510Z"
   },
   {
    "duration": 7,
    "start_time": "2022-11-10T15:38:38.616Z"
   },
   {
    "duration": 27,
    "start_time": "2022-11-10T15:38:38.625Z"
   },
   {
    "duration": 30,
    "start_time": "2022-11-10T15:38:38.654Z"
   },
   {
    "duration": 12,
    "start_time": "2022-11-10T15:38:38.686Z"
   },
   {
    "duration": 10,
    "start_time": "2022-11-10T15:38:38.699Z"
   },
   {
    "duration": 44,
    "start_time": "2022-11-10T15:38:38.711Z"
   },
   {
    "duration": 27,
    "start_time": "2022-11-10T15:38:38.757Z"
   },
   {
    "duration": 15,
    "start_time": "2022-11-10T15:38:38.787Z"
   },
   {
    "duration": 1177,
    "start_time": "2022-11-11T12:53:22.834Z"
   },
   {
    "duration": 288,
    "start_time": "2022-11-11T12:53:24.013Z"
   },
   {
    "duration": 11,
    "start_time": "2022-11-11T12:53:24.303Z"
   },
   {
    "duration": 10,
    "start_time": "2022-11-11T12:53:24.317Z"
   },
   {
    "duration": 11,
    "start_time": "2022-11-11T12:53:24.329Z"
   },
   {
    "duration": 11,
    "start_time": "2022-11-11T12:53:24.341Z"
   },
   {
    "duration": 6,
    "start_time": "2022-11-11T12:53:24.354Z"
   },
   {
    "duration": 8,
    "start_time": "2022-11-11T12:53:24.362Z"
   },
   {
    "duration": 11,
    "start_time": "2022-11-11T12:53:24.372Z"
   },
   {
    "duration": 16,
    "start_time": "2022-11-11T12:53:24.385Z"
   },
   {
    "duration": 5,
    "start_time": "2022-11-11T12:53:24.402Z"
   },
   {
    "duration": 13,
    "start_time": "2022-11-11T12:53:24.409Z"
   },
   {
    "duration": 7,
    "start_time": "2022-11-11T12:53:24.424Z"
   },
   {
    "duration": 8,
    "start_time": "2022-11-11T12:53:24.432Z"
   },
   {
    "duration": 20,
    "start_time": "2022-11-11T12:53:24.442Z"
   },
   {
    "duration": 14,
    "start_time": "2022-11-11T12:53:24.463Z"
   },
   {
    "duration": 11,
    "start_time": "2022-11-11T12:53:24.479Z"
   },
   {
    "duration": 8,
    "start_time": "2022-11-11T12:53:24.491Z"
   },
   {
    "duration": 12,
    "start_time": "2022-11-11T12:53:24.501Z"
   },
   {
    "duration": 7,
    "start_time": "2022-11-11T12:53:24.515Z"
   },
   {
    "duration": 4,
    "start_time": "2022-11-11T12:53:24.523Z"
   },
   {
    "duration": 15,
    "start_time": "2022-11-11T12:53:24.528Z"
   },
   {
    "duration": 6,
    "start_time": "2022-11-11T12:53:24.544Z"
   },
   {
    "duration": 9,
    "start_time": "2022-11-11T12:53:24.552Z"
   },
   {
    "duration": 12,
    "start_time": "2022-11-11T12:53:24.562Z"
   },
   {
    "duration": 12,
    "start_time": "2022-11-11T12:53:24.575Z"
   },
   {
    "duration": 12,
    "start_time": "2022-11-11T12:53:24.588Z"
   },
   {
    "duration": 5,
    "start_time": "2022-11-11T12:53:24.604Z"
   },
   {
    "duration": 152,
    "start_time": "2022-11-11T12:53:24.610Z"
   },
   {
    "duration": 114,
    "start_time": "2022-11-11T12:53:24.764Z"
   },
   {
    "duration": 6,
    "start_time": "2022-11-11T12:53:24.880Z"
   },
   {
    "duration": 7,
    "start_time": "2022-11-11T12:53:24.887Z"
   },
   {
    "duration": 16,
    "start_time": "2022-11-11T12:53:24.895Z"
   },
   {
    "duration": 14,
    "start_time": "2022-11-11T12:53:24.912Z"
   },
   {
    "duration": 10,
    "start_time": "2022-11-11T12:53:24.928Z"
   },
   {
    "duration": 268,
    "start_time": "2022-11-11T12:53:24.939Z"
   },
   {
    "duration": 234,
    "start_time": "2022-11-11T12:53:25.209Z"
   },
   {
    "duration": 8,
    "start_time": "2022-11-11T12:53:25.448Z"
   },
   {
    "duration": 21,
    "start_time": "2022-11-11T12:53:25.458Z"
   },
   {
    "duration": 315,
    "start_time": "2022-11-11T12:53:25.481Z"
   },
   {
    "duration": 209,
    "start_time": "2022-11-11T12:53:25.798Z"
   },
   {
    "duration": 276,
    "start_time": "2022-11-11T12:53:26.008Z"
   },
   {
    "duration": 4,
    "start_time": "2022-11-11T12:53:26.286Z"
   },
   {
    "duration": 9,
    "start_time": "2022-11-11T12:53:26.291Z"
   },
   {
    "duration": 10,
    "start_time": "2022-11-11T12:53:26.302Z"
   },
   {
    "duration": 229,
    "start_time": "2022-11-11T12:53:26.313Z"
   },
   {
    "duration": 319,
    "start_time": "2022-11-11T12:53:26.544Z"
   },
   {
    "duration": 6,
    "start_time": "2022-11-11T12:53:26.865Z"
   },
   {
    "duration": 169,
    "start_time": "2022-11-11T12:53:26.873Z"
   },
   {
    "duration": 6,
    "start_time": "2022-11-11T12:53:27.043Z"
   },
   {
    "duration": 151,
    "start_time": "2022-11-11T12:53:27.051Z"
   },
   {
    "duration": 5,
    "start_time": "2022-11-11T12:53:27.203Z"
   },
   {
    "duration": 14,
    "start_time": "2022-11-11T12:53:27.209Z"
   },
   {
    "duration": 144,
    "start_time": "2022-11-11T12:53:27.225Z"
   },
   {
    "duration": 15,
    "start_time": "2022-11-11T12:53:27.371Z"
   },
   {
    "duration": 51,
    "start_time": "2022-11-11T12:53:27.388Z"
   },
   {
    "duration": 24,
    "start_time": "2022-11-11T12:53:27.441Z"
   },
   {
    "duration": 73,
    "start_time": "2022-11-11T12:53:27.466Z"
   },
   {
    "duration": 19,
    "start_time": "2022-11-11T12:53:27.541Z"
   },
   {
    "duration": 63,
    "start_time": "2022-11-11T12:53:27.562Z"
   },
   {
    "duration": 59,
    "start_time": "2022-11-11T12:53:27.627Z"
   },
   {
    "duration": 64,
    "start_time": "2022-11-11T12:53:27.687Z"
   },
   {
    "duration": 69,
    "start_time": "2022-11-11T12:53:27.753Z"
   },
   {
    "duration": 4,
    "start_time": "2022-11-11T12:53:27.824Z"
   },
   {
    "duration": 8,
    "start_time": "2022-11-11T12:53:27.830Z"
   },
   {
    "duration": 34,
    "start_time": "2022-11-11T12:53:27.839Z"
   },
   {
    "duration": 10,
    "start_time": "2022-11-11T12:53:27.875Z"
   },
   {
    "duration": 9,
    "start_time": "2022-11-11T12:53:27.887Z"
   },
   {
    "duration": 9,
    "start_time": "2022-11-11T12:53:27.898Z"
   },
   {
    "duration": 39,
    "start_time": "2022-11-11T12:53:27.909Z"
   },
   {
    "duration": 13,
    "start_time": "2022-11-11T12:53:27.950Z"
   },
   {
    "duration": 53,
    "start_time": "2022-11-11T13:21:08.464Z"
   },
   {
    "duration": 1441,
    "start_time": "2022-11-11T13:21:18.801Z"
   },
   {
    "duration": 253,
    "start_time": "2022-11-11T13:21:20.245Z"
   },
   {
    "duration": 3,
    "start_time": "2022-11-11T13:21:20.500Z"
   },
   {
    "duration": 40,
    "start_time": "2022-11-11T13:21:20.505Z"
   },
   {
    "duration": 32,
    "start_time": "2022-11-11T13:21:20.546Z"
   },
   {
    "duration": 45,
    "start_time": "2022-11-11T13:21:20.579Z"
   },
   {
    "duration": 30,
    "start_time": "2022-11-11T13:21:20.626Z"
   },
   {
    "duration": 32,
    "start_time": "2022-11-11T13:21:20.659Z"
   },
   {
    "duration": 26,
    "start_time": "2022-11-11T13:21:20.693Z"
   },
   {
    "duration": 24,
    "start_time": "2022-11-11T13:21:20.722Z"
   },
   {
    "duration": 28,
    "start_time": "2022-11-11T13:21:20.748Z"
   },
   {
    "duration": 25,
    "start_time": "2022-11-11T13:21:20.778Z"
   },
   {
    "duration": 35,
    "start_time": "2022-11-11T13:21:20.805Z"
   },
   {
    "duration": 24,
    "start_time": "2022-11-11T13:21:20.843Z"
   },
   {
    "duration": 45,
    "start_time": "2022-11-11T13:21:20.869Z"
   },
   {
    "duration": 20,
    "start_time": "2022-11-11T13:21:20.916Z"
   },
   {
    "duration": 31,
    "start_time": "2022-11-11T13:21:20.939Z"
   },
   {
    "duration": 26,
    "start_time": "2022-11-11T13:21:20.972Z"
   },
   {
    "duration": 36,
    "start_time": "2022-11-11T13:21:21.000Z"
   },
   {
    "duration": 30,
    "start_time": "2022-11-11T13:21:21.039Z"
   },
   {
    "duration": 13,
    "start_time": "2022-11-11T13:21:21.071Z"
   },
   {
    "duration": 36,
    "start_time": "2022-11-11T13:21:21.086Z"
   },
   {
    "duration": 16,
    "start_time": "2022-11-11T13:21:21.124Z"
   },
   {
    "duration": 34,
    "start_time": "2022-11-11T13:21:21.141Z"
   },
   {
    "duration": 24,
    "start_time": "2022-11-11T13:21:21.177Z"
   },
   {
    "duration": 31,
    "start_time": "2022-11-11T13:21:21.203Z"
   },
   {
    "duration": 21,
    "start_time": "2022-11-11T13:21:21.236Z"
   },
   {
    "duration": 22,
    "start_time": "2022-11-11T13:21:21.262Z"
   },
   {
    "duration": 213,
    "start_time": "2022-11-11T13:21:21.287Z"
   },
   {
    "duration": 143,
    "start_time": "2022-11-11T13:21:21.502Z"
   },
   {
    "duration": 8,
    "start_time": "2022-11-11T13:21:21.650Z"
   },
   {
    "duration": 26,
    "start_time": "2022-11-11T13:21:21.660Z"
   },
   {
    "duration": 58,
    "start_time": "2022-11-11T13:21:21.688Z"
   },
   {
    "duration": 25,
    "start_time": "2022-11-11T13:21:21.747Z"
   },
   {
    "duration": 29,
    "start_time": "2022-11-11T13:21:21.774Z"
   },
   {
    "duration": 379,
    "start_time": "2022-11-11T13:21:21.805Z"
   },
   {
    "duration": 240,
    "start_time": "2022-11-11T13:21:22.186Z"
   },
   {
    "duration": 6,
    "start_time": "2022-11-11T13:21:22.428Z"
   },
   {
    "duration": 31,
    "start_time": "2022-11-11T13:21:22.436Z"
   },
   {
    "duration": 346,
    "start_time": "2022-11-11T13:21:22.469Z"
   },
   {
    "duration": 244,
    "start_time": "2022-11-11T13:21:22.817Z"
   },
   {
    "duration": 355,
    "start_time": "2022-11-11T13:21:23.063Z"
   },
   {
    "duration": 4,
    "start_time": "2022-11-11T13:21:23.420Z"
   },
   {
    "duration": 9,
    "start_time": "2022-11-11T13:21:23.426Z"
   },
   {
    "duration": 14,
    "start_time": "2022-11-11T13:21:23.437Z"
   },
   {
    "duration": 266,
    "start_time": "2022-11-11T13:21:23.453Z"
   },
   {
    "duration": 366,
    "start_time": "2022-11-11T13:21:23.721Z"
   },
   {
    "duration": 7,
    "start_time": "2022-11-11T13:21:24.089Z"
   },
   {
    "duration": 214,
    "start_time": "2022-11-11T13:21:24.098Z"
   },
   {
    "duration": 6,
    "start_time": "2022-11-11T13:21:24.314Z"
   },
   {
    "duration": 185,
    "start_time": "2022-11-11T13:21:24.322Z"
   },
   {
    "duration": 5,
    "start_time": "2022-11-11T13:21:24.509Z"
   },
   {
    "duration": 19,
    "start_time": "2022-11-11T13:21:24.515Z"
   },
   {
    "duration": 156,
    "start_time": "2022-11-11T13:21:24.536Z"
   },
   {
    "duration": 10,
    "start_time": "2022-11-11T13:21:24.694Z"
   },
   {
    "duration": 77,
    "start_time": "2022-11-11T13:21:24.705Z"
   },
   {
    "duration": 27,
    "start_time": "2022-11-11T13:21:24.784Z"
   },
   {
    "duration": 74,
    "start_time": "2022-11-11T13:21:24.813Z"
   },
   {
    "duration": 17,
    "start_time": "2022-11-11T13:21:24.889Z"
   },
   {
    "duration": 71,
    "start_time": "2022-11-11T13:21:24.908Z"
   },
   {
    "duration": 35,
    "start_time": "2022-11-11T13:21:24.981Z"
   },
   {
    "duration": 110,
    "start_time": "2022-11-11T13:21:25.017Z"
   },
   {
    "duration": 108,
    "start_time": "2022-11-11T13:21:25.129Z"
   },
   {
    "duration": 14,
    "start_time": "2022-11-11T13:21:25.239Z"
   },
   {
    "duration": 11,
    "start_time": "2022-11-11T13:21:25.255Z"
   },
   {
    "duration": 29,
    "start_time": "2022-11-11T13:21:25.268Z"
   },
   {
    "duration": 13,
    "start_time": "2022-11-11T13:21:25.299Z"
   },
   {
    "duration": 13,
    "start_time": "2022-11-11T13:21:25.314Z"
   },
   {
    "duration": 12,
    "start_time": "2022-11-11T13:21:25.351Z"
   },
   {
    "duration": 30,
    "start_time": "2022-11-11T13:21:25.365Z"
   },
   {
    "duration": 18,
    "start_time": "2022-11-11T13:21:25.397Z"
   },
   {
    "duration": 3,
    "start_time": "2022-11-11T13:21:48.141Z"
   },
   {
    "duration": 123,
    "start_time": "2022-11-11T13:22:11.988Z"
   },
   {
    "duration": 11,
    "start_time": "2022-11-11T13:22:56.244Z"
   },
   {
    "duration": 1308,
    "start_time": "2022-11-11T13:23:18.652Z"
   },
   {
    "duration": 127,
    "start_time": "2022-11-11T13:23:19.962Z"
   },
   {
    "duration": 15,
    "start_time": "2022-11-11T13:23:20.091Z"
   },
   {
    "duration": 20,
    "start_time": "2022-11-11T13:23:20.108Z"
   },
   {
    "duration": 21,
    "start_time": "2022-11-11T13:23:20.130Z"
   },
   {
    "duration": 29,
    "start_time": "2022-11-11T13:23:20.153Z"
   },
   {
    "duration": 15,
    "start_time": "2022-11-11T13:23:20.185Z"
   },
   {
    "duration": 14,
    "start_time": "2022-11-11T13:23:20.203Z"
   },
   {
    "duration": 23,
    "start_time": "2022-11-11T13:23:20.220Z"
   },
   {
    "duration": 10,
    "start_time": "2022-11-11T13:23:20.246Z"
   },
   {
    "duration": 9,
    "start_time": "2022-11-11T13:23:20.257Z"
   },
   {
    "duration": 14,
    "start_time": "2022-11-11T13:23:20.268Z"
   },
   {
    "duration": 9,
    "start_time": "2022-11-11T13:23:20.284Z"
   },
   {
    "duration": 18,
    "start_time": "2022-11-11T13:23:20.295Z"
   },
   {
    "duration": 23,
    "start_time": "2022-11-11T13:23:20.315Z"
   },
   {
    "duration": 16,
    "start_time": "2022-11-11T13:23:20.340Z"
   },
   {
    "duration": 19,
    "start_time": "2022-11-11T13:23:20.358Z"
   },
   {
    "duration": 27,
    "start_time": "2022-11-11T13:23:20.379Z"
   },
   {
    "duration": 24,
    "start_time": "2022-11-11T13:23:20.408Z"
   },
   {
    "duration": 12,
    "start_time": "2022-11-11T13:23:20.435Z"
   },
   {
    "duration": 15,
    "start_time": "2022-11-11T13:23:20.450Z"
   },
   {
    "duration": 14,
    "start_time": "2022-11-11T13:23:20.467Z"
   },
   {
    "duration": 9,
    "start_time": "2022-11-11T13:23:20.483Z"
   },
   {
    "duration": 8,
    "start_time": "2022-11-11T13:23:20.494Z"
   },
   {
    "duration": 27,
    "start_time": "2022-11-11T13:23:20.504Z"
   },
   {
    "duration": 11,
    "start_time": "2022-11-11T13:23:20.533Z"
   },
   {
    "duration": 15,
    "start_time": "2022-11-11T13:23:20.545Z"
   },
   {
    "duration": 9,
    "start_time": "2022-11-11T13:23:20.564Z"
   },
   {
    "duration": 226,
    "start_time": "2022-11-11T13:23:20.575Z"
   },
   {
    "duration": 153,
    "start_time": "2022-11-11T13:23:20.803Z"
   },
   {
    "duration": 8,
    "start_time": "2022-11-11T13:23:20.958Z"
   },
   {
    "duration": 13,
    "start_time": "2022-11-11T13:23:20.968Z"
   },
   {
    "duration": 12,
    "start_time": "2022-11-11T13:23:20.983Z"
   },
   {
    "duration": 7,
    "start_time": "2022-11-11T13:23:20.997Z"
   },
   {
    "duration": 12,
    "start_time": "2022-11-11T13:23:21.006Z"
   },
   {
    "duration": 359,
    "start_time": "2022-11-11T13:23:21.019Z"
   },
   {
    "duration": 255,
    "start_time": "2022-11-11T13:23:21.379Z"
   },
   {
    "duration": 7,
    "start_time": "2022-11-11T13:23:21.636Z"
   },
   {
    "duration": 14,
    "start_time": "2022-11-11T13:23:21.653Z"
   },
   {
    "duration": 323,
    "start_time": "2022-11-11T13:23:21.669Z"
   },
   {
    "duration": 251,
    "start_time": "2022-11-11T13:23:21.994Z"
   },
   {
    "duration": 346,
    "start_time": "2022-11-11T13:23:22.250Z"
   },
   {
    "duration": 6,
    "start_time": "2022-11-11T13:23:22.597Z"
   },
   {
    "duration": 8,
    "start_time": "2022-11-11T13:23:22.604Z"
   },
   {
    "duration": 11,
    "start_time": "2022-11-11T13:23:22.614Z"
   },
   {
    "duration": 250,
    "start_time": "2022-11-11T13:23:22.627Z"
   },
   {
    "duration": 308,
    "start_time": "2022-11-11T13:23:22.879Z"
   },
   {
    "duration": 8,
    "start_time": "2022-11-11T13:23:23.188Z"
   },
   {
    "duration": 201,
    "start_time": "2022-11-11T13:23:23.198Z"
   },
   {
    "duration": 5,
    "start_time": "2022-11-11T13:23:23.401Z"
   },
   {
    "duration": 211,
    "start_time": "2022-11-11T13:23:23.408Z"
   },
   {
    "duration": 5,
    "start_time": "2022-11-11T13:23:23.621Z"
   },
   {
    "duration": 30,
    "start_time": "2022-11-11T13:23:23.627Z"
   },
   {
    "duration": 153,
    "start_time": "2022-11-11T13:23:23.659Z"
   },
   {
    "duration": 16,
    "start_time": "2022-11-11T13:23:23.813Z"
   },
   {
    "duration": 71,
    "start_time": "2022-11-11T13:23:23.831Z"
   },
   {
    "duration": 21,
    "start_time": "2022-11-11T13:23:23.904Z"
   },
   {
    "duration": 77,
    "start_time": "2022-11-11T13:23:23.927Z"
   },
   {
    "duration": 15,
    "start_time": "2022-11-11T13:23:24.006Z"
   },
   {
    "duration": 81,
    "start_time": "2022-11-11T13:23:24.023Z"
   },
   {
    "duration": 50,
    "start_time": "2022-11-11T13:23:24.106Z"
   },
   {
    "duration": 101,
    "start_time": "2022-11-11T13:23:24.158Z"
   },
   {
    "duration": 91,
    "start_time": "2022-11-11T13:23:24.261Z"
   },
   {
    "duration": 5,
    "start_time": "2022-11-11T13:23:24.354Z"
   },
   {
    "duration": 9,
    "start_time": "2022-11-11T13:23:24.361Z"
   },
   {
    "duration": 31,
    "start_time": "2022-11-11T13:23:24.372Z"
   },
   {
    "duration": 11,
    "start_time": "2022-11-11T13:23:24.405Z"
   },
   {
    "duration": 37,
    "start_time": "2022-11-11T13:23:24.418Z"
   },
   {
    "duration": 8,
    "start_time": "2022-11-11T13:23:24.457Z"
   },
   {
    "duration": 28,
    "start_time": "2022-11-11T13:23:24.467Z"
   },
   {
    "duration": 16,
    "start_time": "2022-11-11T13:23:24.497Z"
   },
   {
    "duration": 128,
    "start_time": "2022-11-11T13:26:57.478Z"
   },
   {
    "duration": 7,
    "start_time": "2022-11-11T13:27:05.534Z"
   },
   {
    "duration": 16,
    "start_time": "2022-11-11T13:27:14.412Z"
   },
   {
    "duration": 10,
    "start_time": "2022-11-11T13:27:24.171Z"
   },
   {
    "duration": 1226,
    "start_time": "2022-11-11T13:27:33.759Z"
   },
   {
    "duration": 134,
    "start_time": "2022-11-11T13:27:34.987Z"
   },
   {
    "duration": 14,
    "start_time": "2022-11-11T13:27:35.124Z"
   },
   {
    "duration": 14,
    "start_time": "2022-11-11T13:27:35.141Z"
   },
   {
    "duration": 17,
    "start_time": "2022-11-11T13:27:35.157Z"
   },
   {
    "duration": 24,
    "start_time": "2022-11-11T13:27:35.176Z"
   },
   {
    "duration": 21,
    "start_time": "2022-11-11T13:27:35.202Z"
   },
   {
    "duration": 16,
    "start_time": "2022-11-11T13:27:35.225Z"
   },
   {
    "duration": 26,
    "start_time": "2022-11-11T13:27:35.243Z"
   },
   {
    "duration": 14,
    "start_time": "2022-11-11T13:27:35.272Z"
   },
   {
    "duration": 7,
    "start_time": "2022-11-11T13:27:35.288Z"
   },
   {
    "duration": 10,
    "start_time": "2022-11-11T13:27:35.297Z"
   },
   {
    "duration": 12,
    "start_time": "2022-11-11T13:27:35.309Z"
   },
   {
    "duration": 9,
    "start_time": "2022-11-11T13:27:35.323Z"
   },
   {
    "duration": 19,
    "start_time": "2022-11-11T13:27:35.334Z"
   },
   {
    "duration": 8,
    "start_time": "2022-11-11T13:27:35.355Z"
   },
   {
    "duration": 21,
    "start_time": "2022-11-11T13:27:35.365Z"
   },
   {
    "duration": 10,
    "start_time": "2022-11-11T13:27:35.388Z"
   },
   {
    "duration": 16,
    "start_time": "2022-11-11T13:27:35.400Z"
   },
   {
    "duration": 10,
    "start_time": "2022-11-11T13:27:35.418Z"
   },
   {
    "duration": 23,
    "start_time": "2022-11-11T13:27:35.430Z"
   },
   {
    "duration": 11,
    "start_time": "2022-11-11T13:27:35.455Z"
   },
   {
    "duration": 18,
    "start_time": "2022-11-11T13:27:35.469Z"
   },
   {
    "duration": 23,
    "start_time": "2022-11-11T13:27:35.489Z"
   },
   {
    "duration": 9,
    "start_time": "2022-11-11T13:27:35.514Z"
   },
   {
    "duration": 17,
    "start_time": "2022-11-11T13:27:35.525Z"
   },
   {
    "duration": 15,
    "start_time": "2022-11-11T13:27:35.545Z"
   },
   {
    "duration": 11,
    "start_time": "2022-11-11T13:27:35.567Z"
   },
   {
    "duration": 26,
    "start_time": "2022-11-11T13:27:35.580Z"
   },
   {
    "duration": 13,
    "start_time": "2022-11-11T13:27:35.609Z"
   },
   {
    "duration": 219,
    "start_time": "2022-11-11T13:27:35.624Z"
   },
   {
    "duration": 148,
    "start_time": "2022-11-11T13:27:35.845Z"
   },
   {
    "duration": 7,
    "start_time": "2022-11-11T13:27:35.995Z"
   },
   {
    "duration": 9,
    "start_time": "2022-11-11T13:27:36.004Z"
   },
   {
    "duration": 17,
    "start_time": "2022-11-11T13:27:36.015Z"
   },
   {
    "duration": 19,
    "start_time": "2022-11-11T13:27:36.035Z"
   },
   {
    "duration": 12,
    "start_time": "2022-11-11T13:27:36.056Z"
   },
   {
    "duration": 331,
    "start_time": "2022-11-11T13:27:36.070Z"
   },
   {
    "duration": 250,
    "start_time": "2022-11-11T13:27:36.403Z"
   },
   {
    "duration": 7,
    "start_time": "2022-11-11T13:27:36.655Z"
   },
   {
    "duration": 14,
    "start_time": "2022-11-11T13:27:36.664Z"
   },
   {
    "duration": 309,
    "start_time": "2022-11-11T13:27:36.681Z"
   },
   {
    "duration": 240,
    "start_time": "2022-11-11T13:27:36.993Z"
   },
   {
    "duration": 341,
    "start_time": "2022-11-11T13:27:37.236Z"
   },
   {
    "duration": 5,
    "start_time": "2022-11-11T13:27:37.579Z"
   },
   {
    "duration": 8,
    "start_time": "2022-11-11T13:27:37.585Z"
   },
   {
    "duration": 8,
    "start_time": "2022-11-11T13:27:37.595Z"
   },
   {
    "duration": 241,
    "start_time": "2022-11-11T13:27:37.604Z"
   },
   {
    "duration": 329,
    "start_time": "2022-11-11T13:27:37.847Z"
   },
   {
    "duration": 10,
    "start_time": "2022-11-11T13:27:38.178Z"
   },
   {
    "duration": 180,
    "start_time": "2022-11-11T13:27:38.190Z"
   },
   {
    "duration": 4,
    "start_time": "2022-11-11T13:27:38.372Z"
   },
   {
    "duration": 175,
    "start_time": "2022-11-11T13:27:38.378Z"
   },
   {
    "duration": 6,
    "start_time": "2022-11-11T13:27:38.554Z"
   },
   {
    "duration": 16,
    "start_time": "2022-11-11T13:27:38.562Z"
   },
   {
    "duration": 156,
    "start_time": "2022-11-11T13:27:38.580Z"
   },
   {
    "duration": 19,
    "start_time": "2022-11-11T13:27:38.737Z"
   },
   {
    "duration": 61,
    "start_time": "2022-11-11T13:27:38.757Z"
   },
   {
    "duration": 40,
    "start_time": "2022-11-11T13:27:38.820Z"
   },
   {
    "duration": 62,
    "start_time": "2022-11-11T13:27:38.862Z"
   },
   {
    "duration": 31,
    "start_time": "2022-11-11T13:27:38.926Z"
   },
   {
    "duration": 69,
    "start_time": "2022-11-11T13:27:38.959Z"
   },
   {
    "duration": 52,
    "start_time": "2022-11-11T13:27:39.030Z"
   },
   {
    "duration": 103,
    "start_time": "2022-11-11T13:27:39.084Z"
   },
   {
    "duration": 117,
    "start_time": "2022-11-11T13:27:39.189Z"
   },
   {
    "duration": 6,
    "start_time": "2022-11-11T13:27:39.308Z"
   },
   {
    "duration": 8,
    "start_time": "2022-11-11T13:27:39.316Z"
   },
   {
    "duration": 42,
    "start_time": "2022-11-11T13:27:39.326Z"
   },
   {
    "duration": 12,
    "start_time": "2022-11-11T13:27:39.370Z"
   },
   {
    "duration": 11,
    "start_time": "2022-11-11T13:27:39.384Z"
   },
   {
    "duration": 12,
    "start_time": "2022-11-11T13:27:39.397Z"
   },
   {
    "duration": 53,
    "start_time": "2022-11-11T13:27:39.411Z"
   },
   {
    "duration": 14,
    "start_time": "2022-11-11T13:27:39.466Z"
   },
   {
    "duration": 9,
    "start_time": "2022-11-11T13:33:44.191Z"
   },
   {
    "duration": 76,
    "start_time": "2022-11-11T13:34:45.884Z"
   },
   {
    "duration": 5,
    "start_time": "2022-11-11T13:34:49.147Z"
   },
   {
    "duration": 10,
    "start_time": "2022-11-11T13:36:20.269Z"
   },
   {
    "duration": 5,
    "start_time": "2022-11-11T13:36:53.293Z"
   },
   {
    "duration": 1173,
    "start_time": "2022-11-11T13:37:09.990Z"
   },
   {
    "duration": 124,
    "start_time": "2022-11-11T13:37:11.165Z"
   },
   {
    "duration": 12,
    "start_time": "2022-11-11T13:37:11.291Z"
   },
   {
    "duration": 12,
    "start_time": "2022-11-11T13:37:11.305Z"
   },
   {
    "duration": 12,
    "start_time": "2022-11-11T13:37:11.319Z"
   },
   {
    "duration": 15,
    "start_time": "2022-11-11T13:37:11.333Z"
   },
   {
    "duration": 8,
    "start_time": "2022-11-11T13:37:11.350Z"
   },
   {
    "duration": 8,
    "start_time": "2022-11-11T13:37:11.359Z"
   },
   {
    "duration": 20,
    "start_time": "2022-11-11T13:37:11.369Z"
   },
   {
    "duration": 10,
    "start_time": "2022-11-11T13:37:11.391Z"
   },
   {
    "duration": 20,
    "start_time": "2022-11-11T13:37:11.403Z"
   },
   {
    "duration": 15,
    "start_time": "2022-11-11T13:37:11.425Z"
   },
   {
    "duration": 13,
    "start_time": "2022-11-11T13:37:11.442Z"
   },
   {
    "duration": 15,
    "start_time": "2022-11-11T13:37:11.457Z"
   },
   {
    "duration": 17,
    "start_time": "2022-11-11T13:37:11.474Z"
   },
   {
    "duration": 8,
    "start_time": "2022-11-11T13:37:11.492Z"
   },
   {
    "duration": 9,
    "start_time": "2022-11-11T13:37:11.502Z"
   },
   {
    "duration": 8,
    "start_time": "2022-11-11T13:37:11.513Z"
   },
   {
    "duration": 9,
    "start_time": "2022-11-11T13:37:11.523Z"
   },
   {
    "duration": 8,
    "start_time": "2022-11-11T13:37:11.551Z"
   },
   {
    "duration": 13,
    "start_time": "2022-11-11T13:37:11.561Z"
   },
   {
    "duration": 4,
    "start_time": "2022-11-11T13:37:11.576Z"
   },
   {
    "duration": 14,
    "start_time": "2022-11-11T13:37:11.582Z"
   },
   {
    "duration": 13,
    "start_time": "2022-11-11T13:37:11.598Z"
   },
   {
    "duration": 41,
    "start_time": "2022-11-11T13:37:11.613Z"
   },
   {
    "duration": 9,
    "start_time": "2022-11-11T13:37:11.656Z"
   },
   {
    "duration": 16,
    "start_time": "2022-11-11T13:37:11.666Z"
   },
   {
    "duration": 14,
    "start_time": "2022-11-11T13:37:11.686Z"
   },
   {
    "duration": 6,
    "start_time": "2022-11-11T13:37:11.702Z"
   },
   {
    "duration": 19,
    "start_time": "2022-11-11T13:37:11.709Z"
   },
   {
    "duration": 25,
    "start_time": "2022-11-11T13:37:11.730Z"
   },
   {
    "duration": 16,
    "start_time": "2022-11-11T13:37:11.757Z"
   },
   {
    "duration": 18,
    "start_time": "2022-11-11T13:37:11.775Z"
   },
   {
    "duration": 206,
    "start_time": "2022-11-11T13:37:11.794Z"
   },
   {
    "duration": 150,
    "start_time": "2022-11-11T13:37:12.001Z"
   },
   {
    "duration": 9,
    "start_time": "2022-11-11T13:37:12.153Z"
   },
   {
    "duration": 22,
    "start_time": "2022-11-11T13:37:12.164Z"
   },
   {
    "duration": 22,
    "start_time": "2022-11-11T13:37:12.189Z"
   },
   {
    "duration": 37,
    "start_time": "2022-11-11T13:37:12.213Z"
   },
   {
    "duration": 12,
    "start_time": "2022-11-11T13:37:12.252Z"
   },
   {
    "duration": 338,
    "start_time": "2022-11-11T13:37:12.266Z"
   },
   {
    "duration": 246,
    "start_time": "2022-11-11T13:37:12.605Z"
   },
   {
    "duration": 6,
    "start_time": "2022-11-11T13:37:12.853Z"
   },
   {
    "duration": 22,
    "start_time": "2022-11-11T13:37:12.861Z"
   },
   {
    "duration": 299,
    "start_time": "2022-11-11T13:37:12.884Z"
   },
   {
    "duration": 235,
    "start_time": "2022-11-11T13:37:13.186Z"
   },
   {
    "duration": 385,
    "start_time": "2022-11-11T13:37:13.423Z"
   },
   {
    "duration": 5,
    "start_time": "2022-11-11T13:37:13.810Z"
   },
   {
    "duration": 794,
    "start_time": "2022-11-11T13:37:13.817Z"
   },
   {
    "duration": 299,
    "start_time": "2022-11-11T13:37:14.613Z"
   },
   {
    "duration": 268,
    "start_time": "2022-11-11T13:37:14.914Z"
   },
   {
    "duration": 320,
    "start_time": "2022-11-11T13:37:15.184Z"
   },
   {
    "duration": 8,
    "start_time": "2022-11-11T13:37:15.506Z"
   },
   {
    "duration": 209,
    "start_time": "2022-11-11T13:37:15.516Z"
   },
   {
    "duration": 6,
    "start_time": "2022-11-11T13:37:15.727Z"
   },
   {
    "duration": 216,
    "start_time": "2022-11-11T13:37:15.735Z"
   },
   {
    "duration": 6,
    "start_time": "2022-11-11T13:37:15.953Z"
   },
   {
    "duration": 21,
    "start_time": "2022-11-11T13:37:15.960Z"
   },
   {
    "duration": 147,
    "start_time": "2022-11-11T13:37:15.982Z"
   },
   {
    "duration": 53,
    "start_time": "2022-11-11T13:37:16.130Z"
   },
   {
    "duration": 62,
    "start_time": "2022-11-11T13:37:16.186Z"
   },
   {
    "duration": 30,
    "start_time": "2022-11-11T13:37:16.250Z"
   },
   {
    "duration": 80,
    "start_time": "2022-11-11T13:37:16.282Z"
   },
   {
    "duration": 22,
    "start_time": "2022-11-11T13:37:16.364Z"
   },
   {
    "duration": 107,
    "start_time": "2022-11-11T13:37:16.388Z"
   },
   {
    "duration": 38,
    "start_time": "2022-11-11T13:37:16.497Z"
   },
   {
    "duration": 78,
    "start_time": "2022-11-11T13:37:16.551Z"
   },
   {
    "duration": 123,
    "start_time": "2022-11-11T13:37:16.631Z"
   },
   {
    "duration": 6,
    "start_time": "2022-11-11T13:37:16.756Z"
   },
   {
    "duration": 39,
    "start_time": "2022-11-11T13:37:16.764Z"
   },
   {
    "duration": 44,
    "start_time": "2022-11-11T13:37:16.805Z"
   },
   {
    "duration": 13,
    "start_time": "2022-11-11T13:37:16.851Z"
   },
   {
    "duration": 27,
    "start_time": "2022-11-11T13:37:16.866Z"
   },
   {
    "duration": 22,
    "start_time": "2022-11-11T13:37:16.896Z"
   },
   {
    "duration": 31,
    "start_time": "2022-11-11T13:37:16.920Z"
   },
   {
    "duration": 17,
    "start_time": "2022-11-11T13:37:16.954Z"
   },
   {
    "duration": 1266,
    "start_time": "2022-11-11T13:54:28.750Z"
   },
   {
    "duration": 131,
    "start_time": "2022-11-11T13:54:30.019Z"
   },
   {
    "duration": 14,
    "start_time": "2022-11-11T13:54:30.152Z"
   },
   {
    "duration": 16,
    "start_time": "2022-11-11T13:54:30.169Z"
   },
   {
    "duration": 17,
    "start_time": "2022-11-11T13:54:30.187Z"
   },
   {
    "duration": 30,
    "start_time": "2022-11-11T13:54:30.206Z"
   },
   {
    "duration": 26,
    "start_time": "2022-11-11T13:54:30.238Z"
   },
   {
    "duration": 28,
    "start_time": "2022-11-11T13:54:30.266Z"
   },
   {
    "duration": 25,
    "start_time": "2022-11-11T13:54:30.296Z"
   },
   {
    "duration": 24,
    "start_time": "2022-11-11T13:54:30.324Z"
   },
   {
    "duration": 22,
    "start_time": "2022-11-11T13:54:30.350Z"
   },
   {
    "duration": 27,
    "start_time": "2022-11-11T13:54:30.374Z"
   },
   {
    "duration": 18,
    "start_time": "2022-11-11T13:54:30.403Z"
   },
   {
    "duration": 26,
    "start_time": "2022-11-11T13:54:30.423Z"
   },
   {
    "duration": 31,
    "start_time": "2022-11-11T13:54:30.451Z"
   },
   {
    "duration": 14,
    "start_time": "2022-11-11T13:54:30.484Z"
   },
   {
    "duration": 22,
    "start_time": "2022-11-11T13:54:30.500Z"
   },
   {
    "duration": 15,
    "start_time": "2022-11-11T13:54:30.524Z"
   },
   {
    "duration": 19,
    "start_time": "2022-11-11T13:54:30.541Z"
   },
   {
    "duration": 36,
    "start_time": "2022-11-11T13:54:30.561Z"
   },
   {
    "duration": 46,
    "start_time": "2022-11-11T13:54:30.599Z"
   },
   {
    "duration": 31,
    "start_time": "2022-11-11T13:54:30.647Z"
   },
   {
    "duration": 41,
    "start_time": "2022-11-11T13:54:30.680Z"
   },
   {
    "duration": 46,
    "start_time": "2022-11-11T13:54:30.723Z"
   },
   {
    "duration": 56,
    "start_time": "2022-11-11T13:54:30.772Z"
   },
   {
    "duration": 46,
    "start_time": "2022-11-11T13:54:30.829Z"
   },
   {
    "duration": 14,
    "start_time": "2022-11-11T13:54:30.877Z"
   },
   {
    "duration": 53,
    "start_time": "2022-11-11T13:54:30.896Z"
   },
   {
    "duration": 31,
    "start_time": "2022-11-11T13:54:30.951Z"
   },
   {
    "duration": 50,
    "start_time": "2022-11-11T13:54:30.984Z"
   },
   {
    "duration": 28,
    "start_time": "2022-11-11T13:54:31.036Z"
   },
   {
    "duration": 222,
    "start_time": "2022-11-11T13:54:31.066Z"
   },
   {
    "duration": 138,
    "start_time": "2022-11-11T13:54:31.290Z"
   },
   {
    "duration": 7,
    "start_time": "2022-11-11T13:54:31.430Z"
   },
   {
    "duration": 3,
    "start_time": "2022-11-11T13:54:31.451Z"
   },
   {
    "duration": 17,
    "start_time": "2022-11-11T13:54:31.456Z"
   },
   {
    "duration": 18,
    "start_time": "2022-11-11T13:54:31.475Z"
   },
   {
    "duration": 11,
    "start_time": "2022-11-11T13:54:31.495Z"
   },
   {
    "duration": 326,
    "start_time": "2022-11-11T13:54:31.508Z"
   },
   {
    "duration": 253,
    "start_time": "2022-11-11T13:54:31.836Z"
   },
   {
    "duration": 205,
    "start_time": "2022-11-11T13:54:32.092Z"
   },
   {
    "duration": 27,
    "start_time": "2022-11-11T13:54:32.299Z"
   },
   {
    "duration": 370,
    "start_time": "2022-11-11T13:54:32.328Z"
   },
   {
    "duration": 231,
    "start_time": "2022-11-11T13:54:32.700Z"
   },
   {
    "duration": 353,
    "start_time": "2022-11-11T13:54:32.933Z"
   },
   {
    "duration": 5,
    "start_time": "2022-11-11T13:54:33.288Z"
   },
   {
    "duration": 18,
    "start_time": "2022-11-11T13:54:33.295Z"
   },
   {
    "duration": 12,
    "start_time": "2022-11-11T13:54:33.315Z"
   },
   {
    "duration": 268,
    "start_time": "2022-11-11T13:54:33.329Z"
   },
   {
    "duration": 312,
    "start_time": "2022-11-11T13:54:33.599Z"
   },
   {
    "duration": 6,
    "start_time": "2022-11-11T13:54:33.913Z"
   },
   {
    "duration": 195,
    "start_time": "2022-11-11T13:54:33.922Z"
   },
   {
    "duration": 5,
    "start_time": "2022-11-11T13:54:34.119Z"
   },
   {
    "duration": 190,
    "start_time": "2022-11-11T13:54:34.126Z"
   },
   {
    "duration": 71,
    "start_time": "2022-11-11T13:54:34.318Z"
   },
   {
    "duration": 0,
    "start_time": "2022-11-11T13:54:34.391Z"
   },
   {
    "duration": 0,
    "start_time": "2022-11-11T13:54:34.392Z"
   },
   {
    "duration": 0,
    "start_time": "2022-11-11T13:54:34.394Z"
   },
   {
    "duration": 0,
    "start_time": "2022-11-11T13:54:34.396Z"
   },
   {
    "duration": 0,
    "start_time": "2022-11-11T13:54:34.397Z"
   },
   {
    "duration": 0,
    "start_time": "2022-11-11T13:54:34.399Z"
   },
   {
    "duration": 0,
    "start_time": "2022-11-11T13:54:34.400Z"
   },
   {
    "duration": 0,
    "start_time": "2022-11-11T13:54:34.402Z"
   },
   {
    "duration": 0,
    "start_time": "2022-11-11T13:54:34.404Z"
   },
   {
    "duration": 0,
    "start_time": "2022-11-11T13:54:34.406Z"
   },
   {
    "duration": 0,
    "start_time": "2022-11-11T13:54:34.408Z"
   },
   {
    "duration": 0,
    "start_time": "2022-11-11T13:54:34.409Z"
   },
   {
    "duration": 0,
    "start_time": "2022-11-11T13:54:34.410Z"
   },
   {
    "duration": 0,
    "start_time": "2022-11-11T13:54:34.412Z"
   },
   {
    "duration": 0,
    "start_time": "2022-11-11T13:54:34.414Z"
   },
   {
    "duration": 0,
    "start_time": "2022-11-11T13:54:34.415Z"
   },
   {
    "duration": 0,
    "start_time": "2022-11-11T13:54:34.416Z"
   },
   {
    "duration": 0,
    "start_time": "2022-11-11T13:54:34.418Z"
   },
   {
    "duration": 0,
    "start_time": "2022-11-11T13:54:34.419Z"
   },
   {
    "duration": 0,
    "start_time": "2022-11-11T13:54:34.421Z"
   },
   {
    "duration": 270,
    "start_time": "2022-11-11T13:54:59.025Z"
   },
   {
    "duration": 1261,
    "start_time": "2022-11-11T13:55:14.424Z"
   },
   {
    "duration": 127,
    "start_time": "2022-11-11T13:55:15.687Z"
   },
   {
    "duration": 13,
    "start_time": "2022-11-11T13:55:15.815Z"
   },
   {
    "duration": 18,
    "start_time": "2022-11-11T13:55:15.830Z"
   },
   {
    "duration": 11,
    "start_time": "2022-11-11T13:55:15.850Z"
   },
   {
    "duration": 14,
    "start_time": "2022-11-11T13:55:15.863Z"
   },
   {
    "duration": 13,
    "start_time": "2022-11-11T13:55:15.879Z"
   },
   {
    "duration": 15,
    "start_time": "2022-11-11T13:55:15.894Z"
   },
   {
    "duration": 14,
    "start_time": "2022-11-11T13:55:15.910Z"
   },
   {
    "duration": 10,
    "start_time": "2022-11-11T13:55:15.926Z"
   },
   {
    "duration": 16,
    "start_time": "2022-11-11T13:55:15.937Z"
   },
   {
    "duration": 12,
    "start_time": "2022-11-11T13:55:15.955Z"
   },
   {
    "duration": 9,
    "start_time": "2022-11-11T13:55:15.969Z"
   },
   {
    "duration": 16,
    "start_time": "2022-11-11T13:55:15.980Z"
   },
   {
    "duration": 16,
    "start_time": "2022-11-11T13:55:15.998Z"
   },
   {
    "duration": 7,
    "start_time": "2022-11-11T13:55:16.017Z"
   },
   {
    "duration": 11,
    "start_time": "2022-11-11T13:55:16.026Z"
   },
   {
    "duration": 17,
    "start_time": "2022-11-11T13:55:16.038Z"
   },
   {
    "duration": 11,
    "start_time": "2022-11-11T13:55:16.057Z"
   },
   {
    "duration": 15,
    "start_time": "2022-11-11T13:55:16.070Z"
   },
   {
    "duration": 48,
    "start_time": "2022-11-11T13:55:16.086Z"
   },
   {
    "duration": 9,
    "start_time": "2022-11-11T13:55:16.135Z"
   },
   {
    "duration": 40,
    "start_time": "2022-11-11T13:55:16.146Z"
   },
   {
    "duration": 16,
    "start_time": "2022-11-11T13:55:16.188Z"
   },
   {
    "duration": 15,
    "start_time": "2022-11-11T13:55:16.206Z"
   },
   {
    "duration": 10,
    "start_time": "2022-11-11T13:55:16.223Z"
   },
   {
    "duration": 11,
    "start_time": "2022-11-11T13:55:16.235Z"
   },
   {
    "duration": 22,
    "start_time": "2022-11-11T13:55:16.250Z"
   },
   {
    "duration": 9,
    "start_time": "2022-11-11T13:55:16.273Z"
   },
   {
    "duration": 15,
    "start_time": "2022-11-11T13:55:16.284Z"
   },
   {
    "duration": 14,
    "start_time": "2022-11-11T13:55:16.301Z"
   },
   {
    "duration": 177,
    "start_time": "2022-11-11T13:55:16.317Z"
   },
   {
    "duration": 141,
    "start_time": "2022-11-11T13:55:16.496Z"
   },
   {
    "duration": 16,
    "start_time": "2022-11-11T13:55:16.639Z"
   },
   {
    "duration": 11,
    "start_time": "2022-11-11T13:55:16.657Z"
   },
   {
    "duration": 13,
    "start_time": "2022-11-11T13:55:16.670Z"
   },
   {
    "duration": 9,
    "start_time": "2022-11-11T13:55:16.685Z"
   },
   {
    "duration": 28,
    "start_time": "2022-11-11T13:55:16.696Z"
   },
   {
    "duration": 308,
    "start_time": "2022-11-11T13:55:16.726Z"
   },
   {
    "duration": 245,
    "start_time": "2022-11-11T13:55:17.036Z"
   },
   {
    "duration": 7,
    "start_time": "2022-11-11T13:55:17.282Z"
   },
   {
    "duration": 12,
    "start_time": "2022-11-11T13:55:17.290Z"
   },
   {
    "duration": 376,
    "start_time": "2022-11-11T13:55:17.304Z"
   },
   {
    "duration": 271,
    "start_time": "2022-11-11T13:55:17.682Z"
   },
   {
    "duration": 361,
    "start_time": "2022-11-11T13:55:17.955Z"
   },
   {
    "duration": 4,
    "start_time": "2022-11-11T13:55:18.318Z"
   },
   {
    "duration": 12,
    "start_time": "2022-11-11T13:55:18.324Z"
   },
   {
    "duration": 16,
    "start_time": "2022-11-11T13:55:18.338Z"
   },
   {
    "duration": 239,
    "start_time": "2022-11-11T13:55:18.356Z"
   },
   {
    "duration": 335,
    "start_time": "2022-11-11T13:55:18.597Z"
   },
   {
    "duration": 7,
    "start_time": "2022-11-11T13:55:18.934Z"
   },
   {
    "duration": 227,
    "start_time": "2022-11-11T13:55:18.951Z"
   },
   {
    "duration": 5,
    "start_time": "2022-11-11T13:55:19.181Z"
   },
   {
    "duration": 207,
    "start_time": "2022-11-11T13:55:19.188Z"
   },
   {
    "duration": 278,
    "start_time": "2022-11-11T13:55:19.397Z"
   },
   {
    "duration": 6,
    "start_time": "2022-11-11T13:55:19.677Z"
   },
   {
    "duration": 21,
    "start_time": "2022-11-11T13:55:19.686Z"
   },
   {
    "duration": 90,
    "start_time": "2022-11-11T13:55:19.709Z"
   },
   {
    "duration": 20,
    "start_time": "2022-11-11T13:55:19.801Z"
   },
   {
    "duration": 102,
    "start_time": "2022-11-11T13:55:19.823Z"
   },
   {
    "duration": 48,
    "start_time": "2022-11-11T13:55:19.928Z"
   },
   {
    "duration": 100,
    "start_time": "2022-11-11T13:55:19.978Z"
   },
   {
    "duration": 44,
    "start_time": "2022-11-11T13:55:20.080Z"
   },
   {
    "duration": 89,
    "start_time": "2022-11-11T13:55:20.126Z"
   },
   {
    "duration": 46,
    "start_time": "2022-11-11T13:55:20.218Z"
   },
   {
    "duration": 84,
    "start_time": "2022-11-11T13:55:20.267Z"
   },
   {
    "duration": 113,
    "start_time": "2022-11-11T13:55:20.353Z"
   },
   {
    "duration": 5,
    "start_time": "2022-11-11T13:55:20.469Z"
   },
   {
    "duration": 23,
    "start_time": "2022-11-11T13:55:20.476Z"
   },
   {
    "duration": 37,
    "start_time": "2022-11-11T13:55:20.501Z"
   },
   {
    "duration": 15,
    "start_time": "2022-11-11T13:55:20.540Z"
   },
   {
    "duration": 10,
    "start_time": "2022-11-11T13:55:20.557Z"
   },
   {
    "duration": 16,
    "start_time": "2022-11-11T13:55:20.570Z"
   },
   {
    "duration": 34,
    "start_time": "2022-11-11T13:55:20.588Z"
   },
   {
    "duration": 35,
    "start_time": "2022-11-11T13:55:20.625Z"
   },
   {
    "duration": 297,
    "start_time": "2022-11-11T13:57:38.562Z"
   },
   {
    "duration": 267,
    "start_time": "2022-11-11T13:59:07.591Z"
   },
   {
    "duration": 294,
    "start_time": "2022-11-11T13:59:35.320Z"
   },
   {
    "duration": 1175,
    "start_time": "2022-11-11T13:59:41.200Z"
   },
   {
    "duration": 132,
    "start_time": "2022-11-11T13:59:42.377Z"
   },
   {
    "duration": 15,
    "start_time": "2022-11-11T13:59:42.511Z"
   },
   {
    "duration": 14,
    "start_time": "2022-11-11T13:59:42.528Z"
   },
   {
    "duration": 11,
    "start_time": "2022-11-11T13:59:42.544Z"
   },
   {
    "duration": 19,
    "start_time": "2022-11-11T13:59:42.556Z"
   },
   {
    "duration": 12,
    "start_time": "2022-11-11T13:59:42.577Z"
   },
   {
    "duration": 10,
    "start_time": "2022-11-11T13:59:42.590Z"
   },
   {
    "duration": 17,
    "start_time": "2022-11-11T13:59:42.602Z"
   },
   {
    "duration": 29,
    "start_time": "2022-11-11T13:59:42.623Z"
   },
   {
    "duration": 4,
    "start_time": "2022-11-11T13:59:42.654Z"
   },
   {
    "duration": 14,
    "start_time": "2022-11-11T13:59:42.660Z"
   },
   {
    "duration": 4,
    "start_time": "2022-11-11T13:59:42.676Z"
   },
   {
    "duration": 13,
    "start_time": "2022-11-11T13:59:42.682Z"
   },
   {
    "duration": 21,
    "start_time": "2022-11-11T13:59:42.697Z"
   },
   {
    "duration": 32,
    "start_time": "2022-11-11T13:59:42.720Z"
   },
   {
    "duration": 9,
    "start_time": "2022-11-11T13:59:42.754Z"
   },
   {
    "duration": 8,
    "start_time": "2022-11-11T13:59:42.766Z"
   },
   {
    "duration": 11,
    "start_time": "2022-11-11T13:59:42.776Z"
   },
   {
    "duration": 7,
    "start_time": "2022-11-11T13:59:42.789Z"
   },
   {
    "duration": 13,
    "start_time": "2022-11-11T13:59:42.798Z"
   },
   {
    "duration": 48,
    "start_time": "2022-11-11T13:59:42.813Z"
   },
   {
    "duration": 23,
    "start_time": "2022-11-11T13:59:42.864Z"
   },
   {
    "duration": 9,
    "start_time": "2022-11-11T13:59:42.889Z"
   },
   {
    "duration": 15,
    "start_time": "2022-11-11T13:59:42.900Z"
   },
   {
    "duration": 11,
    "start_time": "2022-11-11T13:59:42.917Z"
   },
   {
    "duration": 24,
    "start_time": "2022-11-11T13:59:42.930Z"
   },
   {
    "duration": 20,
    "start_time": "2022-11-11T13:59:42.959Z"
   },
   {
    "duration": 9,
    "start_time": "2022-11-11T13:59:42.981Z"
   },
   {
    "duration": 16,
    "start_time": "2022-11-11T13:59:42.993Z"
   },
   {
    "duration": 12,
    "start_time": "2022-11-11T13:59:43.011Z"
   },
   {
    "duration": 210,
    "start_time": "2022-11-11T13:59:43.026Z"
   },
   {
    "duration": 147,
    "start_time": "2022-11-11T13:59:43.238Z"
   },
   {
    "duration": 7,
    "start_time": "2022-11-11T13:59:43.387Z"
   },
   {
    "duration": 6,
    "start_time": "2022-11-11T13:59:43.396Z"
   },
   {
    "duration": 13,
    "start_time": "2022-11-11T13:59:43.404Z"
   },
   {
    "duration": 9,
    "start_time": "2022-11-11T13:59:43.418Z"
   },
   {
    "duration": 5,
    "start_time": "2022-11-11T13:59:43.451Z"
   },
   {
    "duration": 355,
    "start_time": "2022-11-11T13:59:43.458Z"
   },
   {
    "duration": 280,
    "start_time": "2022-11-11T13:59:43.815Z"
   },
   {
    "duration": 7,
    "start_time": "2022-11-11T13:59:44.097Z"
   },
   {
    "duration": 12,
    "start_time": "2022-11-11T13:59:44.106Z"
   },
   {
    "duration": 374,
    "start_time": "2022-11-11T13:59:44.120Z"
   },
   {
    "duration": 254,
    "start_time": "2022-11-11T13:59:44.496Z"
   },
   {
    "duration": 361,
    "start_time": "2022-11-11T13:59:44.752Z"
   },
   {
    "duration": 5,
    "start_time": "2022-11-11T13:59:45.115Z"
   },
   {
    "duration": 7,
    "start_time": "2022-11-11T13:59:45.121Z"
   },
   {
    "duration": 24,
    "start_time": "2022-11-11T13:59:45.130Z"
   },
   {
    "duration": 260,
    "start_time": "2022-11-11T13:59:45.156Z"
   },
   {
    "duration": 385,
    "start_time": "2022-11-11T13:59:45.418Z"
   },
   {
    "duration": 9,
    "start_time": "2022-11-11T13:59:45.805Z"
   },
   {
    "duration": 198,
    "start_time": "2022-11-11T13:59:45.815Z"
   },
   {
    "duration": 6,
    "start_time": "2022-11-11T13:59:46.015Z"
   },
   {
    "duration": 193,
    "start_time": "2022-11-11T13:59:46.023Z"
   },
   {
    "duration": 424,
    "start_time": "2022-11-11T13:59:46.218Z"
   },
   {
    "duration": 10,
    "start_time": "2022-11-11T13:59:46.643Z"
   },
   {
    "duration": 17,
    "start_time": "2022-11-11T13:59:46.654Z"
   },
   {
    "duration": 65,
    "start_time": "2022-11-11T13:59:46.672Z"
   },
   {
    "duration": 20,
    "start_time": "2022-11-11T13:59:46.739Z"
   },
   {
    "duration": 59,
    "start_time": "2022-11-11T13:59:46.762Z"
   },
   {
    "duration": 52,
    "start_time": "2022-11-11T13:59:46.823Z"
   },
   {
    "duration": 75,
    "start_time": "2022-11-11T13:59:46.877Z"
   },
   {
    "duration": 19,
    "start_time": "2022-11-11T13:59:46.954Z"
   },
   {
    "duration": 82,
    "start_time": "2022-11-11T13:59:46.975Z"
   },
   {
    "duration": 35,
    "start_time": "2022-11-11T13:59:47.059Z"
   },
   {
    "duration": 92,
    "start_time": "2022-11-11T13:59:47.096Z"
   },
   {
    "duration": 108,
    "start_time": "2022-11-11T13:59:47.190Z"
   },
   {
    "duration": 10,
    "start_time": "2022-11-11T13:59:47.300Z"
   },
   {
    "duration": 7,
    "start_time": "2022-11-11T13:59:47.312Z"
   },
   {
    "duration": 52,
    "start_time": "2022-11-11T13:59:47.323Z"
   },
   {
    "duration": 14,
    "start_time": "2022-11-11T13:59:47.377Z"
   },
   {
    "duration": 10,
    "start_time": "2022-11-11T13:59:47.393Z"
   },
   {
    "duration": 10,
    "start_time": "2022-11-11T13:59:47.405Z"
   },
   {
    "duration": 53,
    "start_time": "2022-11-11T13:59:47.417Z"
   },
   {
    "duration": 15,
    "start_time": "2022-11-11T13:59:47.472Z"
   },
   {
    "duration": 26,
    "start_time": "2022-11-11T14:02:29.912Z"
   },
   {
    "duration": 1299,
    "start_time": "2022-11-11T14:10:57.627Z"
   },
   {
    "duration": 132,
    "start_time": "2022-11-11T14:10:58.928Z"
   },
   {
    "duration": 14,
    "start_time": "2022-11-11T14:10:59.062Z"
   },
   {
    "duration": 14,
    "start_time": "2022-11-11T14:10:59.078Z"
   },
   {
    "duration": 17,
    "start_time": "2022-11-11T14:10:59.093Z"
   },
   {
    "duration": 19,
    "start_time": "2022-11-11T14:10:59.111Z"
   },
   {
    "duration": 24,
    "start_time": "2022-11-11T14:10:59.132Z"
   },
   {
    "duration": 11,
    "start_time": "2022-11-11T14:10:59.157Z"
   },
   {
    "duration": 20,
    "start_time": "2022-11-11T14:10:59.170Z"
   },
   {
    "duration": 10,
    "start_time": "2022-11-11T14:10:59.194Z"
   },
   {
    "duration": 4,
    "start_time": "2022-11-11T14:10:59.211Z"
   },
   {
    "duration": 34,
    "start_time": "2022-11-11T14:10:59.217Z"
   },
   {
    "duration": 4,
    "start_time": "2022-11-11T14:10:59.253Z"
   },
   {
    "duration": 21,
    "start_time": "2022-11-11T14:10:59.259Z"
   },
   {
    "duration": 16,
    "start_time": "2022-11-11T14:10:59.283Z"
   },
   {
    "duration": 11,
    "start_time": "2022-11-11T14:10:59.300Z"
   },
   {
    "duration": 12,
    "start_time": "2022-11-11T14:10:59.313Z"
   },
   {
    "duration": 6,
    "start_time": "2022-11-11T14:10:59.327Z"
   },
   {
    "duration": 24,
    "start_time": "2022-11-11T14:10:59.335Z"
   },
   {
    "duration": 7,
    "start_time": "2022-11-11T14:10:59.361Z"
   },
   {
    "duration": 20,
    "start_time": "2022-11-11T14:10:59.370Z"
   },
   {
    "duration": 10,
    "start_time": "2022-11-11T14:10:59.391Z"
   },
   {
    "duration": 17,
    "start_time": "2022-11-11T14:10:59.402Z"
   },
   {
    "duration": 31,
    "start_time": "2022-11-11T14:10:59.421Z"
   },
   {
    "duration": 10,
    "start_time": "2022-11-11T14:10:59.454Z"
   },
   {
    "duration": 10,
    "start_time": "2022-11-11T14:10:59.466Z"
   },
   {
    "duration": 19,
    "start_time": "2022-11-11T14:10:59.478Z"
   },
   {
    "duration": 19,
    "start_time": "2022-11-11T14:10:59.502Z"
   },
   {
    "duration": 15,
    "start_time": "2022-11-11T14:10:59.523Z"
   },
   {
    "duration": 28,
    "start_time": "2022-11-11T14:10:59.539Z"
   },
   {
    "duration": 32,
    "start_time": "2022-11-11T14:10:59.571Z"
   },
   {
    "duration": 230,
    "start_time": "2022-11-11T14:10:59.606Z"
   },
   {
    "duration": 172,
    "start_time": "2022-11-11T14:10:59.838Z"
   },
   {
    "duration": 7,
    "start_time": "2022-11-11T14:11:00.012Z"
   },
   {
    "duration": 33,
    "start_time": "2022-11-11T14:11:00.021Z"
   },
   {
    "duration": 32,
    "start_time": "2022-11-11T14:11:00.056Z"
   },
   {
    "duration": 41,
    "start_time": "2022-11-11T14:11:00.091Z"
   },
   {
    "duration": 30,
    "start_time": "2022-11-11T14:11:00.134Z"
   },
   {
    "duration": 348,
    "start_time": "2022-11-11T14:11:00.166Z"
   },
   {
    "duration": 260,
    "start_time": "2022-11-11T14:11:00.516Z"
   },
   {
    "duration": 7,
    "start_time": "2022-11-11T14:11:00.778Z"
   },
   {
    "duration": 31,
    "start_time": "2022-11-11T14:11:00.788Z"
   },
   {
    "duration": 352,
    "start_time": "2022-11-11T14:11:00.821Z"
   },
   {
    "duration": 236,
    "start_time": "2022-11-11T14:11:01.175Z"
   },
   {
    "duration": 371,
    "start_time": "2022-11-11T14:11:01.413Z"
   },
   {
    "duration": 4,
    "start_time": "2022-11-11T14:11:01.787Z"
   },
   {
    "duration": 35,
    "start_time": "2022-11-11T14:11:01.794Z"
   },
   {
    "duration": 29,
    "start_time": "2022-11-11T14:11:01.830Z"
   },
   {
    "duration": 244,
    "start_time": "2022-11-11T14:11:01.861Z"
   },
   {
    "duration": 317,
    "start_time": "2022-11-11T14:11:02.107Z"
   },
   {
    "duration": 7,
    "start_time": "2022-11-11T14:11:02.426Z"
   },
   {
    "duration": 200,
    "start_time": "2022-11-11T14:11:02.435Z"
   },
   {
    "duration": 15,
    "start_time": "2022-11-11T14:11:02.637Z"
   },
   {
    "duration": 194,
    "start_time": "2022-11-11T14:11:02.654Z"
   },
   {
    "duration": 408,
    "start_time": "2022-11-11T14:11:02.851Z"
   },
   {
    "duration": 5,
    "start_time": "2022-11-11T14:11:03.261Z"
   },
   {
    "duration": 41,
    "start_time": "2022-11-11T14:11:03.268Z"
   },
   {
    "duration": 86,
    "start_time": "2022-11-11T14:11:03.311Z"
   },
   {
    "duration": 39,
    "start_time": "2022-11-11T14:11:03.399Z"
   },
   {
    "duration": 93,
    "start_time": "2022-11-11T14:11:03.440Z"
   },
   {
    "duration": 44,
    "start_time": "2022-11-11T14:11:03.535Z"
   },
   {
    "duration": 67,
    "start_time": "2022-11-11T14:11:03.581Z"
   },
   {
    "duration": 40,
    "start_time": "2022-11-11T14:11:03.650Z"
   },
   {
    "duration": 83,
    "start_time": "2022-11-11T14:11:03.691Z"
   },
   {
    "duration": 40,
    "start_time": "2022-11-11T14:11:03.777Z"
   },
   {
    "duration": 102,
    "start_time": "2022-11-11T14:11:03.819Z"
   },
   {
    "duration": 127,
    "start_time": "2022-11-11T14:11:03.924Z"
   },
   {
    "duration": 42,
    "start_time": "2022-11-11T14:11:04.054Z"
   },
   {
    "duration": 26,
    "start_time": "2022-11-11T14:11:04.097Z"
   },
   {
    "duration": 69,
    "start_time": "2022-11-11T14:11:04.125Z"
   },
   {
    "duration": 0,
    "start_time": "2022-11-11T14:11:04.196Z"
   },
   {
    "duration": 0,
    "start_time": "2022-11-11T14:11:04.198Z"
   },
   {
    "duration": 0,
    "start_time": "2022-11-11T14:11:04.199Z"
   },
   {
    "duration": 0,
    "start_time": "2022-11-11T14:11:04.201Z"
   },
   {
    "duration": 0,
    "start_time": "2022-11-11T14:11:04.203Z"
   },
   {
    "duration": 0,
    "start_time": "2022-11-11T14:11:04.204Z"
   },
   {
    "duration": 27,
    "start_time": "2022-11-11T14:11:24.023Z"
   },
   {
    "duration": 14,
    "start_time": "2022-11-11T14:11:26.784Z"
   },
   {
    "duration": 11,
    "start_time": "2022-11-11T14:11:29.225Z"
   },
   {
    "duration": 10,
    "start_time": "2022-11-11T14:11:30.121Z"
   },
   {
    "duration": 28,
    "start_time": "2022-11-11T14:11:32.011Z"
   },
   {
    "duration": 17,
    "start_time": "2022-11-11T14:11:36.449Z"
   },
   {
    "duration": 1249,
    "start_time": "2022-11-11T14:17:12.445Z"
   },
   {
    "duration": 131,
    "start_time": "2022-11-11T14:17:13.696Z"
   },
   {
    "duration": 13,
    "start_time": "2022-11-11T14:17:13.829Z"
   },
   {
    "duration": 15,
    "start_time": "2022-11-11T14:17:13.844Z"
   },
   {
    "duration": 31,
    "start_time": "2022-11-11T14:17:13.861Z"
   },
   {
    "duration": 17,
    "start_time": "2022-11-11T14:17:13.894Z"
   },
   {
    "duration": 22,
    "start_time": "2022-11-11T14:17:13.913Z"
   },
   {
    "duration": 34,
    "start_time": "2022-11-11T14:17:13.937Z"
   },
   {
    "duration": 26,
    "start_time": "2022-11-11T14:17:13.973Z"
   },
   {
    "duration": 25,
    "start_time": "2022-11-11T14:17:14.002Z"
   },
   {
    "duration": 27,
    "start_time": "2022-11-11T14:17:14.029Z"
   },
   {
    "duration": 17,
    "start_time": "2022-11-11T14:17:14.058Z"
   },
   {
    "duration": 5,
    "start_time": "2022-11-11T14:17:14.077Z"
   },
   {
    "duration": 11,
    "start_time": "2022-11-11T14:17:14.084Z"
   },
   {
    "duration": 29,
    "start_time": "2022-11-11T14:17:14.097Z"
   },
   {
    "duration": 15,
    "start_time": "2022-11-11T14:17:14.128Z"
   },
   {
    "duration": 9,
    "start_time": "2022-11-11T14:17:14.145Z"
   },
   {
    "duration": 21,
    "start_time": "2022-11-11T14:17:14.156Z"
   },
   {
    "duration": 21,
    "start_time": "2022-11-11T14:17:14.179Z"
   },
   {
    "duration": 37,
    "start_time": "2022-11-11T14:17:14.202Z"
   },
   {
    "duration": 42,
    "start_time": "2022-11-11T14:17:14.241Z"
   },
   {
    "duration": 19,
    "start_time": "2022-11-11T14:17:14.286Z"
   },
   {
    "duration": 26,
    "start_time": "2022-11-11T14:17:14.306Z"
   },
   {
    "duration": 26,
    "start_time": "2022-11-11T14:17:14.334Z"
   },
   {
    "duration": 48,
    "start_time": "2022-11-11T14:17:14.363Z"
   },
   {
    "duration": 29,
    "start_time": "2022-11-11T14:17:14.413Z"
   },
   {
    "duration": 30,
    "start_time": "2022-11-11T14:17:14.443Z"
   },
   {
    "duration": 41,
    "start_time": "2022-11-11T14:17:14.477Z"
   },
   {
    "duration": 25,
    "start_time": "2022-11-11T14:17:14.520Z"
   },
   {
    "duration": 35,
    "start_time": "2022-11-11T14:17:14.547Z"
   },
   {
    "duration": 12,
    "start_time": "2022-11-11T14:17:14.584Z"
   },
   {
    "duration": 187,
    "start_time": "2022-11-11T14:17:14.598Z"
   },
   {
    "duration": 143,
    "start_time": "2022-11-11T14:17:14.787Z"
   },
   {
    "duration": 20,
    "start_time": "2022-11-11T14:17:14.932Z"
   },
   {
    "duration": 6,
    "start_time": "2022-11-11T14:17:14.954Z"
   },
   {
    "duration": 22,
    "start_time": "2022-11-11T14:17:14.962Z"
   },
   {
    "duration": 7,
    "start_time": "2022-11-11T14:17:14.986Z"
   },
   {
    "duration": 7,
    "start_time": "2022-11-11T14:17:14.995Z"
   },
   {
    "duration": 364,
    "start_time": "2022-11-11T14:17:15.004Z"
   },
   {
    "duration": 242,
    "start_time": "2022-11-11T14:17:15.370Z"
   },
   {
    "duration": 7,
    "start_time": "2022-11-11T14:17:15.614Z"
   },
   {
    "duration": 15,
    "start_time": "2022-11-11T14:17:15.623Z"
   },
   {
    "duration": 343,
    "start_time": "2022-11-11T14:17:15.651Z"
   },
   {
    "duration": 264,
    "start_time": "2022-11-11T14:17:15.996Z"
   },
   {
    "duration": 335,
    "start_time": "2022-11-11T14:17:16.263Z"
   },
   {
    "duration": 5,
    "start_time": "2022-11-11T14:17:16.599Z"
   },
   {
    "duration": 13,
    "start_time": "2022-11-11T14:17:16.606Z"
   },
   {
    "duration": 5,
    "start_time": "2022-11-11T14:17:16.622Z"
   },
   {
    "duration": 259,
    "start_time": "2022-11-11T14:17:16.630Z"
   },
   {
    "duration": 318,
    "start_time": "2022-11-11T14:17:16.890Z"
   },
   {
    "duration": 8,
    "start_time": "2022-11-11T14:17:17.210Z"
   },
   {
    "duration": 199,
    "start_time": "2022-11-11T14:17:17.220Z"
   },
   {
    "duration": 5,
    "start_time": "2022-11-11T14:17:17.421Z"
   },
   {
    "duration": 210,
    "start_time": "2022-11-11T14:17:17.427Z"
   },
   {
    "duration": 411,
    "start_time": "2022-11-11T14:17:17.639Z"
   },
   {
    "duration": 5,
    "start_time": "2022-11-11T14:17:18.053Z"
   },
   {
    "duration": 23,
    "start_time": "2022-11-11T14:17:18.060Z"
   },
   {
    "duration": 77,
    "start_time": "2022-11-11T14:17:18.085Z"
   },
   {
    "duration": 34,
    "start_time": "2022-11-11T14:17:18.165Z"
   },
   {
    "duration": 59,
    "start_time": "2022-11-11T14:17:18.202Z"
   },
   {
    "duration": 31,
    "start_time": "2022-11-11T14:17:18.263Z"
   },
   {
    "duration": 73,
    "start_time": "2022-11-11T14:17:18.296Z"
   },
   {
    "duration": 21,
    "start_time": "2022-11-11T14:17:18.371Z"
   },
   {
    "duration": 78,
    "start_time": "2022-11-11T14:17:18.394Z"
   },
   {
    "duration": 34,
    "start_time": "2022-11-11T14:17:18.474Z"
   },
   {
    "duration": 105,
    "start_time": "2022-11-11T14:17:18.510Z"
   },
   {
    "duration": 105,
    "start_time": "2022-11-11T14:17:18.617Z"
   },
   {
    "duration": 44,
    "start_time": "2022-11-11T14:17:18.724Z"
   },
   {
    "duration": 8,
    "start_time": "2022-11-11T14:17:18.770Z"
   },
   {
    "duration": 38,
    "start_time": "2022-11-11T14:17:18.779Z"
   },
   {
    "duration": 12,
    "start_time": "2022-11-11T14:17:18.819Z"
   },
   {
    "duration": 36,
    "start_time": "2022-11-11T14:17:18.833Z"
   },
   {
    "duration": 21,
    "start_time": "2022-11-11T14:17:18.872Z"
   },
   {
    "duration": 45,
    "start_time": "2022-11-11T14:17:18.895Z"
   },
   {
    "duration": 18,
    "start_time": "2022-11-11T14:17:18.942Z"
   },
   {
    "duration": 11,
    "start_time": "2022-11-11T14:18:51.405Z"
   },
   {
    "duration": 19,
    "start_time": "2022-11-11T14:20:10.059Z"
   },
   {
    "duration": 12,
    "start_time": "2022-11-11T14:20:33.579Z"
   },
   {
    "duration": 27,
    "start_time": "2022-11-11T14:23:35.132Z"
   },
   {
    "duration": 28,
    "start_time": "2022-11-11T14:23:42.114Z"
   },
   {
    "duration": 26,
    "start_time": "2022-11-11T14:23:53.700Z"
   },
   {
    "duration": 26,
    "start_time": "2022-11-11T14:24:43.548Z"
   },
   {
    "duration": 26,
    "start_time": "2022-11-11T14:24:48.706Z"
   },
   {
    "duration": 36,
    "start_time": "2022-11-11T14:25:52.740Z"
   },
   {
    "duration": 39,
    "start_time": "2022-11-11T14:26:28.733Z"
   },
   {
    "duration": 14,
    "start_time": "2022-11-11T14:27:46.220Z"
   },
   {
    "duration": 13,
    "start_time": "2022-11-11T14:27:57.147Z"
   },
   {
    "duration": 14,
    "start_time": "2022-11-11T14:28:01.748Z"
   },
   {
    "duration": 1305,
    "start_time": "2022-11-11T14:29:12.646Z"
   },
   {
    "duration": 130,
    "start_time": "2022-11-11T14:29:13.954Z"
   },
   {
    "duration": 290,
    "start_time": "2022-11-11T14:29:14.086Z"
   },
   {
    "duration": 21,
    "start_time": "2022-11-11T14:29:14.378Z"
   },
   {
    "duration": 13,
    "start_time": "2022-11-11T14:29:14.401Z"
   },
   {
    "duration": 26,
    "start_time": "2022-11-11T14:29:14.416Z"
   },
   {
    "duration": 22,
    "start_time": "2022-11-11T14:29:14.445Z"
   },
   {
    "duration": 26,
    "start_time": "2022-11-11T14:29:14.469Z"
   },
   {
    "duration": 26,
    "start_time": "2022-11-11T14:29:14.500Z"
   },
   {
    "duration": 15,
    "start_time": "2022-11-11T14:29:14.530Z"
   },
   {
    "duration": 9,
    "start_time": "2022-11-11T14:29:14.548Z"
   },
   {
    "duration": 17,
    "start_time": "2022-11-11T14:29:14.560Z"
   },
   {
    "duration": 15,
    "start_time": "2022-11-11T14:29:14.579Z"
   },
   {
    "duration": 13,
    "start_time": "2022-11-11T14:29:14.596Z"
   },
   {
    "duration": 25,
    "start_time": "2022-11-11T14:29:14.611Z"
   },
   {
    "duration": 12,
    "start_time": "2022-11-11T14:29:14.638Z"
   },
   {
    "duration": 8,
    "start_time": "2022-11-11T14:29:14.652Z"
   },
   {
    "duration": 11,
    "start_time": "2022-11-11T14:29:14.662Z"
   },
   {
    "duration": 12,
    "start_time": "2022-11-11T14:29:14.675Z"
   },
   {
    "duration": 12,
    "start_time": "2022-11-11T14:29:14.689Z"
   },
   {
    "duration": 20,
    "start_time": "2022-11-11T14:29:14.703Z"
   },
   {
    "duration": 36,
    "start_time": "2022-11-11T14:29:14.725Z"
   },
   {
    "duration": 10,
    "start_time": "2022-11-11T14:29:14.763Z"
   },
   {
    "duration": 7,
    "start_time": "2022-11-11T14:29:14.775Z"
   },
   {
    "duration": 10,
    "start_time": "2022-11-11T14:29:14.784Z"
   },
   {
    "duration": 12,
    "start_time": "2022-11-11T14:29:14.796Z"
   },
   {
    "duration": 16,
    "start_time": "2022-11-11T14:29:14.810Z"
   },
   {
    "duration": 15,
    "start_time": "2022-11-11T14:29:14.857Z"
   },
   {
    "duration": 22,
    "start_time": "2022-11-11T14:29:14.875Z"
   },
   {
    "duration": 21,
    "start_time": "2022-11-11T14:29:14.900Z"
   },
   {
    "duration": 19,
    "start_time": "2022-11-11T14:29:14.924Z"
   },
   {
    "duration": 279,
    "start_time": "2022-11-11T14:29:14.945Z"
   },
   {
    "duration": 151,
    "start_time": "2022-11-11T14:29:15.228Z"
   },
   {
    "duration": 8,
    "start_time": "2022-11-11T14:29:15.381Z"
   },
   {
    "duration": 7,
    "start_time": "2022-11-11T14:29:15.393Z"
   },
   {
    "duration": 21,
    "start_time": "2022-11-11T14:29:15.402Z"
   },
   {
    "duration": 47,
    "start_time": "2022-11-11T14:29:15.426Z"
   },
   {
    "duration": 13,
    "start_time": "2022-11-11T14:29:15.476Z"
   },
   {
    "duration": 474,
    "start_time": "2022-11-11T14:29:15.491Z"
   },
   {
    "duration": 288,
    "start_time": "2022-11-11T14:29:15.967Z"
   },
   {
    "duration": 9,
    "start_time": "2022-11-11T14:29:16.257Z"
   },
   {
    "duration": 19,
    "start_time": "2022-11-11T14:29:16.267Z"
   },
   {
    "duration": 369,
    "start_time": "2022-11-11T14:29:16.288Z"
   },
   {
    "duration": 304,
    "start_time": "2022-11-11T14:29:16.660Z"
   },
   {
    "duration": 372,
    "start_time": "2022-11-11T14:29:16.966Z"
   },
   {
    "duration": 12,
    "start_time": "2022-11-11T14:29:17.341Z"
   },
   {
    "duration": 18,
    "start_time": "2022-11-11T14:29:17.355Z"
   },
   {
    "duration": 11,
    "start_time": "2022-11-11T14:29:17.375Z"
   },
   {
    "duration": 290,
    "start_time": "2022-11-11T14:29:17.389Z"
   },
   {
    "duration": 337,
    "start_time": "2022-11-11T14:29:17.681Z"
   },
   {
    "duration": 8,
    "start_time": "2022-11-11T14:29:18.020Z"
   },
   {
    "duration": 244,
    "start_time": "2022-11-11T14:29:18.030Z"
   },
   {
    "duration": 7,
    "start_time": "2022-11-11T14:29:18.276Z"
   },
   {
    "duration": 205,
    "start_time": "2022-11-11T14:29:18.285Z"
   },
   {
    "duration": 390,
    "start_time": "2022-11-11T14:29:18.492Z"
   },
   {
    "duration": 7,
    "start_time": "2022-11-11T14:29:18.884Z"
   },
   {
    "duration": 29,
    "start_time": "2022-11-11T14:29:18.893Z"
   },
   {
    "duration": 72,
    "start_time": "2022-11-11T14:29:18.924Z"
   },
   {
    "duration": 25,
    "start_time": "2022-11-11T14:29:18.998Z"
   },
   {
    "duration": 89,
    "start_time": "2022-11-11T14:29:19.026Z"
   },
   {
    "duration": 42,
    "start_time": "2022-11-11T14:29:19.118Z"
   },
   {
    "duration": 98,
    "start_time": "2022-11-11T14:29:19.162Z"
   },
   {
    "duration": 22,
    "start_time": "2022-11-11T14:29:19.263Z"
   },
   {
    "duration": 101,
    "start_time": "2022-11-11T14:29:19.287Z"
   },
   {
    "duration": 52,
    "start_time": "2022-11-11T14:29:19.391Z"
   },
   {
    "duration": 134,
    "start_time": "2022-11-11T14:29:19.446Z"
   },
   {
    "duration": 122,
    "start_time": "2022-11-11T14:29:19.582Z"
   },
   {
    "duration": 9,
    "start_time": "2022-11-11T14:29:19.706Z"
   },
   {
    "duration": 44,
    "start_time": "2022-11-11T14:29:19.717Z"
   },
   {
    "duration": 48,
    "start_time": "2022-11-11T14:29:19.764Z"
   },
   {
    "duration": 17,
    "start_time": "2022-11-11T14:29:19.814Z"
   },
   {
    "duration": 18,
    "start_time": "2022-11-11T14:29:19.834Z"
   },
   {
    "duration": 43,
    "start_time": "2022-11-11T14:29:19.857Z"
   },
   {
    "duration": 54,
    "start_time": "2022-11-11T14:29:19.905Z"
   },
   {
    "duration": 22,
    "start_time": "2022-11-11T14:29:19.963Z"
   },
   {
    "duration": 1191,
    "start_time": "2022-11-11T14:31:42.781Z"
   },
   {
    "duration": 128,
    "start_time": "2022-11-11T14:31:43.975Z"
   },
   {
    "duration": 13,
    "start_time": "2022-11-11T14:31:44.105Z"
   },
   {
    "duration": 14,
    "start_time": "2022-11-11T14:31:44.121Z"
   },
   {
    "duration": 21,
    "start_time": "2022-11-11T14:31:44.137Z"
   },
   {
    "duration": 21,
    "start_time": "2022-11-11T14:31:44.160Z"
   },
   {
    "duration": 17,
    "start_time": "2022-11-11T14:31:44.183Z"
   },
   {
    "duration": 20,
    "start_time": "2022-11-11T14:31:44.203Z"
   },
   {
    "duration": 14,
    "start_time": "2022-11-11T14:31:44.226Z"
   },
   {
    "duration": 6,
    "start_time": "2022-11-11T14:31:44.253Z"
   },
   {
    "duration": 23,
    "start_time": "2022-11-11T14:31:44.261Z"
   },
   {
    "duration": 24,
    "start_time": "2022-11-11T14:31:44.286Z"
   },
   {
    "duration": 7,
    "start_time": "2022-11-11T14:31:44.312Z"
   },
   {
    "duration": 14,
    "start_time": "2022-11-11T14:31:44.321Z"
   },
   {
    "duration": 19,
    "start_time": "2022-11-11T14:31:44.337Z"
   },
   {
    "duration": 5,
    "start_time": "2022-11-11T14:31:44.358Z"
   },
   {
    "duration": 11,
    "start_time": "2022-11-11T14:31:44.365Z"
   },
   {
    "duration": 9,
    "start_time": "2022-11-11T14:31:44.378Z"
   },
   {
    "duration": 12,
    "start_time": "2022-11-11T14:31:44.389Z"
   },
   {
    "duration": 8,
    "start_time": "2022-11-11T14:31:44.403Z"
   },
   {
    "duration": 46,
    "start_time": "2022-11-11T14:31:44.413Z"
   },
   {
    "duration": 12,
    "start_time": "2022-11-11T14:31:44.461Z"
   },
   {
    "duration": 10,
    "start_time": "2022-11-11T14:31:44.475Z"
   },
   {
    "duration": 7,
    "start_time": "2022-11-11T14:31:44.487Z"
   },
   {
    "duration": 14,
    "start_time": "2022-11-11T14:31:44.496Z"
   },
   {
    "duration": 43,
    "start_time": "2022-11-11T14:31:44.512Z"
   },
   {
    "duration": 11,
    "start_time": "2022-11-11T14:31:44.557Z"
   },
   {
    "duration": 14,
    "start_time": "2022-11-11T14:31:44.574Z"
   },
   {
    "duration": 17,
    "start_time": "2022-11-11T14:31:44.590Z"
   },
   {
    "duration": 20,
    "start_time": "2022-11-11T14:31:44.609Z"
   },
   {
    "duration": 24,
    "start_time": "2022-11-11T14:31:44.631Z"
   },
   {
    "duration": 231,
    "start_time": "2022-11-11T14:31:44.658Z"
   },
   {
    "duration": 167,
    "start_time": "2022-11-11T14:31:44.891Z"
   },
   {
    "duration": 7,
    "start_time": "2022-11-11T14:31:45.060Z"
   },
   {
    "duration": 8,
    "start_time": "2022-11-11T14:31:45.069Z"
   },
   {
    "duration": 16,
    "start_time": "2022-11-11T14:31:45.079Z"
   },
   {
    "duration": 8,
    "start_time": "2022-11-11T14:31:45.097Z"
   },
   {
    "duration": 9,
    "start_time": "2022-11-11T14:31:45.107Z"
   },
   {
    "duration": 371,
    "start_time": "2022-11-11T14:31:45.118Z"
   },
   {
    "duration": 285,
    "start_time": "2022-11-11T14:31:45.491Z"
   },
   {
    "duration": 9,
    "start_time": "2022-11-11T14:31:45.779Z"
   },
   {
    "duration": 24,
    "start_time": "2022-11-11T14:31:45.790Z"
   },
   {
    "duration": 363,
    "start_time": "2022-11-11T14:31:45.816Z"
   },
   {
    "duration": 267,
    "start_time": "2022-11-11T14:31:46.182Z"
   },
   {
    "duration": 368,
    "start_time": "2022-11-11T14:31:46.451Z"
   },
   {
    "duration": 4,
    "start_time": "2022-11-11T14:31:46.821Z"
   },
   {
    "duration": 15,
    "start_time": "2022-11-11T14:31:46.827Z"
   },
   {
    "duration": 5,
    "start_time": "2022-11-11T14:31:46.850Z"
   },
   {
    "duration": 262,
    "start_time": "2022-11-11T14:31:46.856Z"
   },
   {
    "duration": 414,
    "start_time": "2022-11-11T14:31:47.120Z"
   },
   {
    "duration": 15,
    "start_time": "2022-11-11T14:31:47.536Z"
   },
   {
    "duration": 201,
    "start_time": "2022-11-11T14:31:47.553Z"
   },
   {
    "duration": 8,
    "start_time": "2022-11-11T14:31:47.756Z"
   },
   {
    "duration": 229,
    "start_time": "2022-11-11T14:31:47.766Z"
   },
   {
    "duration": 381,
    "start_time": "2022-11-11T14:31:47.997Z"
   },
   {
    "duration": 5,
    "start_time": "2022-11-11T14:31:48.380Z"
   },
   {
    "duration": 60,
    "start_time": "2022-11-11T14:31:48.386Z"
   },
   {
    "duration": 78,
    "start_time": "2022-11-11T14:31:48.448Z"
   },
   {
    "duration": 16,
    "start_time": "2022-11-11T14:31:48.528Z"
   },
   {
    "duration": 81,
    "start_time": "2022-11-11T14:31:48.551Z"
   },
   {
    "duration": 34,
    "start_time": "2022-11-11T14:31:48.634Z"
   },
   {
    "duration": 93,
    "start_time": "2022-11-11T14:31:48.670Z"
   },
   {
    "duration": 27,
    "start_time": "2022-11-11T14:31:48.766Z"
   },
   {
    "duration": 112,
    "start_time": "2022-11-11T14:31:48.795Z"
   },
   {
    "duration": 45,
    "start_time": "2022-11-11T14:31:48.909Z"
   },
   {
    "duration": 110,
    "start_time": "2022-11-11T14:31:48.956Z"
   },
   {
    "duration": 121,
    "start_time": "2022-11-11T14:31:49.068Z"
   },
   {
    "duration": 29,
    "start_time": "2022-11-11T14:31:49.191Z"
   },
   {
    "duration": 21,
    "start_time": "2022-11-11T14:31:49.222Z"
   },
   {
    "duration": 54,
    "start_time": "2022-11-11T14:31:49.246Z"
   },
   {
    "duration": 21,
    "start_time": "2022-11-11T14:31:49.302Z"
   },
   {
    "duration": 20,
    "start_time": "2022-11-11T14:31:49.326Z"
   },
   {
    "duration": 24,
    "start_time": "2022-11-11T14:31:49.348Z"
   },
   {
    "duration": 44,
    "start_time": "2022-11-11T14:31:49.375Z"
   },
   {
    "duration": 22,
    "start_time": "2022-11-11T14:31:49.422Z"
   },
   {
    "duration": 1348,
    "start_time": "2022-11-11T16:19:32.693Z"
   },
   {
    "duration": 263,
    "start_time": "2022-11-11T16:19:34.044Z"
   },
   {
    "duration": 15,
    "start_time": "2022-11-11T16:19:34.310Z"
   },
   {
    "duration": 12,
    "start_time": "2022-11-11T16:19:34.328Z"
   },
   {
    "duration": 11,
    "start_time": "2022-11-11T16:19:34.342Z"
   },
   {
    "duration": 12,
    "start_time": "2022-11-11T16:19:34.355Z"
   },
   {
    "duration": 9,
    "start_time": "2022-11-11T16:19:34.368Z"
   },
   {
    "duration": 9,
    "start_time": "2022-11-11T16:19:34.379Z"
   },
   {
    "duration": 33,
    "start_time": "2022-11-11T16:19:34.390Z"
   },
   {
    "duration": 6,
    "start_time": "2022-11-11T16:19:34.427Z"
   },
   {
    "duration": 7,
    "start_time": "2022-11-11T16:19:34.435Z"
   },
   {
    "duration": 10,
    "start_time": "2022-11-11T16:19:34.443Z"
   },
   {
    "duration": 9,
    "start_time": "2022-11-11T16:19:34.455Z"
   },
   {
    "duration": 9,
    "start_time": "2022-11-11T16:19:34.466Z"
   },
   {
    "duration": 16,
    "start_time": "2022-11-11T16:19:34.477Z"
   },
   {
    "duration": 28,
    "start_time": "2022-11-11T16:19:34.495Z"
   },
   {
    "duration": 9,
    "start_time": "2022-11-11T16:19:34.525Z"
   },
   {
    "duration": 7,
    "start_time": "2022-11-11T16:19:34.536Z"
   },
   {
    "duration": 14,
    "start_time": "2022-11-11T16:19:34.544Z"
   },
   {
    "duration": 7,
    "start_time": "2022-11-11T16:19:34.559Z"
   },
   {
    "duration": 13,
    "start_time": "2022-11-11T16:19:34.568Z"
   },
   {
    "duration": 10,
    "start_time": "2022-11-11T16:19:34.583Z"
   },
   {
    "duration": 33,
    "start_time": "2022-11-11T16:19:34.595Z"
   },
   {
    "duration": 6,
    "start_time": "2022-11-11T16:19:34.630Z"
   },
   {
    "duration": 14,
    "start_time": "2022-11-11T16:19:34.637Z"
   },
   {
    "duration": 10,
    "start_time": "2022-11-11T16:19:34.652Z"
   },
   {
    "duration": 7,
    "start_time": "2022-11-11T16:19:34.664Z"
   },
   {
    "duration": 11,
    "start_time": "2022-11-11T16:19:34.675Z"
   },
   {
    "duration": 34,
    "start_time": "2022-11-11T16:19:34.688Z"
   },
   {
    "duration": 16,
    "start_time": "2022-11-11T16:19:34.724Z"
   },
   {
    "duration": 17,
    "start_time": "2022-11-11T16:19:34.741Z"
   },
   {
    "duration": 177,
    "start_time": "2022-11-11T16:19:34.759Z"
   },
   {
    "duration": 131,
    "start_time": "2022-11-11T16:19:34.938Z"
   },
   {
    "duration": 6,
    "start_time": "2022-11-11T16:19:35.071Z"
   },
   {
    "duration": 7,
    "start_time": "2022-11-11T16:19:35.079Z"
   },
   {
    "duration": 11,
    "start_time": "2022-11-11T16:19:35.087Z"
   },
   {
    "duration": 22,
    "start_time": "2022-11-11T16:19:35.100Z"
   },
   {
    "duration": 4,
    "start_time": "2022-11-11T16:19:35.124Z"
   },
   {
    "duration": 312,
    "start_time": "2022-11-11T16:19:35.130Z"
   },
   {
    "duration": 226,
    "start_time": "2022-11-11T16:19:35.444Z"
   },
   {
    "duration": 7,
    "start_time": "2022-11-11T16:19:35.671Z"
   },
   {
    "duration": 13,
    "start_time": "2022-11-11T16:19:35.679Z"
   },
   {
    "duration": 377,
    "start_time": "2022-11-11T16:19:35.693Z"
   },
   {
    "duration": 216,
    "start_time": "2022-11-11T16:19:36.071Z"
   },
   {
    "duration": 364,
    "start_time": "2022-11-11T16:19:36.289Z"
   },
   {
    "duration": 4,
    "start_time": "2022-11-11T16:19:36.655Z"
   },
   {
    "duration": 8,
    "start_time": "2022-11-11T16:19:36.661Z"
   },
   {
    "duration": 10,
    "start_time": "2022-11-11T16:19:36.670Z"
   },
   {
    "duration": 231,
    "start_time": "2022-11-11T16:19:36.682Z"
   },
   {
    "duration": 312,
    "start_time": "2022-11-11T16:19:36.922Z"
   },
   {
    "duration": 7,
    "start_time": "2022-11-11T16:19:37.236Z"
   },
   {
    "duration": 183,
    "start_time": "2022-11-11T16:19:37.244Z"
   },
   {
    "duration": 4,
    "start_time": "2022-11-11T16:19:37.429Z"
   },
   {
    "duration": 171,
    "start_time": "2022-11-11T16:19:37.435Z"
   },
   {
    "duration": 359,
    "start_time": "2022-11-11T16:19:37.607Z"
   },
   {
    "duration": 4,
    "start_time": "2022-11-11T16:19:37.968Z"
   },
   {
    "duration": 14,
    "start_time": "2022-11-11T16:19:37.974Z"
   },
   {
    "duration": 71,
    "start_time": "2022-11-11T16:19:37.990Z"
   },
   {
    "duration": 11,
    "start_time": "2022-11-11T16:19:38.063Z"
   },
   {
    "duration": 70,
    "start_time": "2022-11-11T16:19:38.076Z"
   },
   {
    "duration": 25,
    "start_time": "2022-11-11T16:19:38.147Z"
   },
   {
    "duration": 93,
    "start_time": "2022-11-11T16:19:38.174Z"
   },
   {
    "duration": 14,
    "start_time": "2022-11-11T16:19:38.269Z"
   },
   {
    "duration": 73,
    "start_time": "2022-11-11T16:19:38.284Z"
   },
   {
    "duration": 30,
    "start_time": "2022-11-11T16:19:38.359Z"
   },
   {
    "duration": 84,
    "start_time": "2022-11-11T16:19:38.391Z"
   },
   {
    "duration": 98,
    "start_time": "2022-11-11T16:19:38.477Z"
   },
   {
    "duration": 6,
    "start_time": "2022-11-11T16:19:38.577Z"
   },
   {
    "duration": 9,
    "start_time": "2022-11-11T16:19:38.585Z"
   },
   {
    "duration": 37,
    "start_time": "2022-11-11T16:19:38.595Z"
   },
   {
    "duration": 14,
    "start_time": "2022-11-11T16:19:38.634Z"
   },
   {
    "duration": 13,
    "start_time": "2022-11-11T16:19:38.650Z"
   },
   {
    "duration": 12,
    "start_time": "2022-11-11T16:19:38.666Z"
   },
   {
    "duration": 63,
    "start_time": "2022-11-11T16:19:38.680Z"
   },
   {
    "duration": 19,
    "start_time": "2022-11-11T16:19:38.746Z"
   },
   {
    "duration": 89,
    "start_time": "2022-11-11T16:36:37.082Z"
   },
   {
    "duration": 6,
    "start_time": "2022-11-11T16:36:49.384Z"
   },
   {
    "duration": 98,
    "start_time": "2022-11-11T16:37:11.670Z"
   },
   {
    "duration": 6,
    "start_time": "2022-11-11T16:37:20.155Z"
   },
   {
    "duration": 106,
    "start_time": "2022-11-11T16:38:35.303Z"
   },
   {
    "duration": 69,
    "start_time": "2022-11-11T16:38:51.826Z"
   },
   {
    "duration": 8,
    "start_time": "2022-11-11T16:39:32.789Z"
   },
   {
    "duration": 8,
    "start_time": "2022-11-11T16:41:00.415Z"
   },
   {
    "duration": 1242,
    "start_time": "2022-11-11T16:41:37.743Z"
   },
   {
    "duration": 123,
    "start_time": "2022-11-11T16:41:38.987Z"
   },
   {
    "duration": 12,
    "start_time": "2022-11-11T16:41:39.111Z"
   },
   {
    "duration": 11,
    "start_time": "2022-11-11T16:41:39.125Z"
   },
   {
    "duration": 15,
    "start_time": "2022-11-11T16:41:39.137Z"
   },
   {
    "duration": 18,
    "start_time": "2022-11-11T16:41:39.154Z"
   },
   {
    "duration": 12,
    "start_time": "2022-11-11T16:41:39.175Z"
   },
   {
    "duration": 11,
    "start_time": "2022-11-11T16:41:39.189Z"
   },
   {
    "duration": 15,
    "start_time": "2022-11-11T16:41:39.221Z"
   },
   {
    "duration": 10,
    "start_time": "2022-11-11T16:41:39.239Z"
   },
   {
    "duration": 9,
    "start_time": "2022-11-11T16:41:39.251Z"
   },
   {
    "duration": 18,
    "start_time": "2022-11-11T16:41:39.262Z"
   },
   {
    "duration": 7,
    "start_time": "2022-11-11T16:41:39.282Z"
   },
   {
    "duration": 22,
    "start_time": "2022-11-11T16:41:39.290Z"
   },
   {
    "duration": 17,
    "start_time": "2022-11-11T16:41:39.321Z"
   },
   {
    "duration": 6,
    "start_time": "2022-11-11T16:41:39.340Z"
   },
   {
    "duration": 9,
    "start_time": "2022-11-11T16:41:39.348Z"
   },
   {
    "duration": 6,
    "start_time": "2022-11-11T16:41:39.359Z"
   },
   {
    "duration": 9,
    "start_time": "2022-11-11T16:41:39.367Z"
   },
   {
    "duration": 8,
    "start_time": "2022-11-11T16:41:39.378Z"
   },
   {
    "duration": 36,
    "start_time": "2022-11-11T16:41:39.387Z"
   },
   {
    "duration": 9,
    "start_time": "2022-11-11T16:41:39.424Z"
   },
   {
    "duration": 8,
    "start_time": "2022-11-11T16:41:39.435Z"
   },
   {
    "duration": 5,
    "start_time": "2022-11-11T16:41:39.445Z"
   },
   {
    "duration": 11,
    "start_time": "2022-11-11T16:41:39.452Z"
   },
   {
    "duration": 7,
    "start_time": "2022-11-11T16:41:39.465Z"
   },
   {
    "duration": 6,
    "start_time": "2022-11-11T16:41:39.474Z"
   },
   {
    "duration": 11,
    "start_time": "2022-11-11T16:41:39.521Z"
   },
   {
    "duration": 9,
    "start_time": "2022-11-11T16:41:39.533Z"
   },
   {
    "duration": 12,
    "start_time": "2022-11-11T16:41:39.544Z"
   },
   {
    "duration": 8,
    "start_time": "2022-11-11T16:41:39.558Z"
   },
   {
    "duration": 200,
    "start_time": "2022-11-11T16:41:39.567Z"
   },
   {
    "duration": 141,
    "start_time": "2022-11-11T16:41:39.769Z"
   },
   {
    "duration": 10,
    "start_time": "2022-11-11T16:41:39.912Z"
   },
   {
    "duration": 5,
    "start_time": "2022-11-11T16:41:39.923Z"
   },
   {
    "duration": 13,
    "start_time": "2022-11-11T16:41:39.929Z"
   },
   {
    "duration": 17,
    "start_time": "2022-11-11T16:41:39.946Z"
   },
   {
    "duration": 13,
    "start_time": "2022-11-11T16:41:39.965Z"
   },
   {
    "duration": 298,
    "start_time": "2022-11-11T16:41:39.980Z"
   },
   {
    "duration": 224,
    "start_time": "2022-11-11T16:41:40.280Z"
   },
   {
    "duration": 16,
    "start_time": "2022-11-11T16:41:40.506Z"
   },
   {
    "duration": 9,
    "start_time": "2022-11-11T16:41:40.523Z"
   },
   {
    "duration": 303,
    "start_time": "2022-11-11T16:41:40.534Z"
   },
   {
    "duration": 226,
    "start_time": "2022-11-11T16:41:40.839Z"
   },
   {
    "duration": 294,
    "start_time": "2022-11-11T16:41:41.067Z"
   },
   {
    "duration": 4,
    "start_time": "2022-11-11T16:41:41.363Z"
   },
   {
    "duration": 6,
    "start_time": "2022-11-11T16:41:41.369Z"
   },
   {
    "duration": 8,
    "start_time": "2022-11-11T16:41:41.376Z"
   },
   {
    "duration": 226,
    "start_time": "2022-11-11T16:41:41.385Z"
   },
   {
    "duration": 333,
    "start_time": "2022-11-11T16:41:41.613Z"
   },
   {
    "duration": 8,
    "start_time": "2022-11-11T16:41:41.948Z"
   },
   {
    "duration": 178,
    "start_time": "2022-11-11T16:41:41.958Z"
   },
   {
    "duration": 4,
    "start_time": "2022-11-11T16:41:42.137Z"
   },
   {
    "duration": 326,
    "start_time": "2022-11-11T16:41:42.143Z"
   },
   {
    "duration": 345,
    "start_time": "2022-11-11T16:41:42.471Z"
   },
   {
    "duration": 5,
    "start_time": "2022-11-11T16:41:42.822Z"
   },
   {
    "duration": 12,
    "start_time": "2022-11-11T16:41:42.828Z"
   },
   {
    "duration": 51,
    "start_time": "2022-11-11T16:41:42.842Z"
   },
   {
    "duration": 28,
    "start_time": "2022-11-11T16:41:42.895Z"
   },
   {
    "duration": 54,
    "start_time": "2022-11-11T16:41:42.925Z"
   },
   {
    "duration": 18,
    "start_time": "2022-11-11T16:41:42.980Z"
   },
   {
    "duration": 99,
    "start_time": "2022-11-11T16:41:43.023Z"
   },
   {
    "duration": 19,
    "start_time": "2022-11-11T16:41:43.124Z"
   },
   {
    "duration": 54,
    "start_time": "2022-11-11T16:41:43.145Z"
   },
   {
    "duration": 41,
    "start_time": "2022-11-11T16:41:43.201Z"
   },
   {
    "duration": 89,
    "start_time": "2022-11-11T16:41:43.244Z"
   },
   {
    "duration": 94,
    "start_time": "2022-11-11T16:41:43.335Z"
   },
   {
    "duration": 9,
    "start_time": "2022-11-11T16:41:43.431Z"
   },
   {
    "duration": 6,
    "start_time": "2022-11-11T16:41:43.442Z"
   },
   {
    "duration": 24,
    "start_time": "2022-11-11T16:41:43.450Z"
   },
   {
    "duration": 12,
    "start_time": "2022-11-11T16:41:43.476Z"
   },
   {
    "duration": 38,
    "start_time": "2022-11-11T16:41:43.489Z"
   },
   {
    "duration": 9,
    "start_time": "2022-11-11T16:41:43.529Z"
   },
   {
    "duration": 24,
    "start_time": "2022-11-11T16:41:43.541Z"
   },
   {
    "duration": 17,
    "start_time": "2022-11-11T16:41:43.567Z"
   },
   {
    "duration": 14,
    "start_time": "2022-11-11T17:04:12.487Z"
   },
   {
    "duration": 1091,
    "start_time": "2022-11-11T17:13:58.014Z"
   },
   {
    "duration": 121,
    "start_time": "2022-11-11T17:13:59.107Z"
   },
   {
    "duration": 13,
    "start_time": "2022-11-11T17:13:59.230Z"
   },
   {
    "duration": 15,
    "start_time": "2022-11-11T17:13:59.246Z"
   },
   {
    "duration": 13,
    "start_time": "2022-11-11T17:13:59.263Z"
   },
   {
    "duration": 13,
    "start_time": "2022-11-11T17:13:59.278Z"
   },
   {
    "duration": 9,
    "start_time": "2022-11-11T17:13:59.293Z"
   },
   {
    "duration": 25,
    "start_time": "2022-11-11T17:13:59.304Z"
   },
   {
    "duration": 15,
    "start_time": "2022-11-11T17:13:59.331Z"
   },
   {
    "duration": 8,
    "start_time": "2022-11-11T17:13:59.349Z"
   },
   {
    "duration": 6,
    "start_time": "2022-11-11T17:13:59.359Z"
   },
   {
    "duration": 10,
    "start_time": "2022-11-11T17:13:59.366Z"
   },
   {
    "duration": 8,
    "start_time": "2022-11-11T17:13:59.378Z"
   },
   {
    "duration": 8,
    "start_time": "2022-11-11T17:13:59.387Z"
   },
   {
    "duration": 13,
    "start_time": "2022-11-11T17:13:59.422Z"
   },
   {
    "duration": 7,
    "start_time": "2022-11-11T17:13:59.437Z"
   },
   {
    "duration": 8,
    "start_time": "2022-11-11T17:13:59.446Z"
   },
   {
    "duration": 6,
    "start_time": "2022-11-11T17:13:59.456Z"
   },
   {
    "duration": 10,
    "start_time": "2022-11-11T17:13:59.463Z"
   },
   {
    "duration": 6,
    "start_time": "2022-11-11T17:13:59.475Z"
   },
   {
    "duration": 43,
    "start_time": "2022-11-11T17:13:59.482Z"
   },
   {
    "duration": 9,
    "start_time": "2022-11-11T17:13:59.526Z"
   },
   {
    "duration": 8,
    "start_time": "2022-11-11T17:13:59.537Z"
   },
   {
    "duration": 7,
    "start_time": "2022-11-11T17:13:59.547Z"
   },
   {
    "duration": 13,
    "start_time": "2022-11-11T17:13:59.556Z"
   },
   {
    "duration": 8,
    "start_time": "2022-11-11T17:13:59.571Z"
   },
   {
    "duration": 41,
    "start_time": "2022-11-11T17:13:59.581Z"
   },
   {
    "duration": 16,
    "start_time": "2022-11-11T17:13:59.626Z"
   },
   {
    "duration": 7,
    "start_time": "2022-11-11T17:13:59.644Z"
   },
   {
    "duration": 12,
    "start_time": "2022-11-11T17:13:59.653Z"
   },
   {
    "duration": 7,
    "start_time": "2022-11-11T17:13:59.668Z"
   },
   {
    "duration": 192,
    "start_time": "2022-11-11T17:13:59.677Z"
   },
   {
    "duration": 152,
    "start_time": "2022-11-11T17:13:59.871Z"
   },
   {
    "duration": 7,
    "start_time": "2022-11-11T17:14:00.025Z"
   },
   {
    "duration": 99,
    "start_time": "2022-11-11T17:14:00.033Z"
   },
   {
    "duration": 13,
    "start_time": "2022-11-11T17:14:00.134Z"
   },
   {
    "duration": 29,
    "start_time": "2022-11-11T17:14:00.148Z"
   },
   {
    "duration": 108,
    "start_time": "2022-11-11T17:14:00.179Z"
   },
   {
    "duration": 300,
    "start_time": "2022-11-11T17:14:00.289Z"
   },
   {
    "duration": 237,
    "start_time": "2022-11-11T17:14:00.591Z"
   },
   {
    "duration": 7,
    "start_time": "2022-11-11T17:14:00.830Z"
   },
   {
    "duration": 22,
    "start_time": "2022-11-11T17:14:00.838Z"
   },
   {
    "duration": 320,
    "start_time": "2022-11-11T17:14:00.862Z"
   },
   {
    "duration": 232,
    "start_time": "2022-11-11T17:14:01.184Z"
   },
   {
    "duration": 337,
    "start_time": "2022-11-11T17:14:01.417Z"
   },
   {
    "duration": 5,
    "start_time": "2022-11-11T17:14:01.756Z"
   },
   {
    "duration": 23,
    "start_time": "2022-11-11T17:14:01.762Z"
   },
   {
    "duration": 40,
    "start_time": "2022-11-11T17:14:01.787Z"
   },
   {
    "duration": 47,
    "start_time": "2022-11-11T17:14:01.830Z"
   },
   {
    "duration": 246,
    "start_time": "2022-11-11T17:14:01.880Z"
   },
   {
    "duration": 305,
    "start_time": "2022-11-11T17:14:02.128Z"
   },
   {
    "duration": 8,
    "start_time": "2022-11-11T17:14:02.434Z"
   },
   {
    "duration": 178,
    "start_time": "2022-11-11T17:14:02.444Z"
   },
   {
    "duration": 5,
    "start_time": "2022-11-11T17:14:02.624Z"
   },
   {
    "duration": 169,
    "start_time": "2022-11-11T17:14:02.631Z"
   },
   {
    "duration": 378,
    "start_time": "2022-11-11T17:14:02.803Z"
   },
   {
    "duration": 6,
    "start_time": "2022-11-11T17:14:03.183Z"
   },
   {
    "duration": 11,
    "start_time": "2022-11-11T17:14:03.193Z"
   },
   {
    "duration": 10,
    "start_time": "2022-11-11T17:14:03.221Z"
   },
   {
    "duration": 94,
    "start_time": "2022-11-11T17:14:03.233Z"
   },
   {
    "duration": 101,
    "start_time": "2022-11-11T17:14:03.329Z"
   },
   {
    "duration": 5,
    "start_time": "2022-11-11T17:14:03.432Z"
   },
   {
    "duration": 23,
    "start_time": "2022-11-11T17:14:03.439Z"
   },
   {
    "duration": 33,
    "start_time": "2022-11-11T17:14:03.464Z"
   },
   {
    "duration": 12,
    "start_time": "2022-11-11T17:14:03.499Z"
   },
   {
    "duration": 15,
    "start_time": "2022-11-11T17:14:03.513Z"
   },
   {
    "duration": 24,
    "start_time": "2022-11-11T17:14:03.529Z"
   },
   {
    "duration": 27,
    "start_time": "2022-11-11T17:14:03.555Z"
   },
   {
    "duration": 16,
    "start_time": "2022-11-11T17:14:03.584Z"
   },
   {
    "duration": 8,
    "start_time": "2022-11-11T17:16:05.434Z"
   },
   {
    "duration": 1107,
    "start_time": "2022-11-11T17:16:16.427Z"
   },
   {
    "duration": 129,
    "start_time": "2022-11-11T17:16:17.537Z"
   },
   {
    "duration": 15,
    "start_time": "2022-11-11T17:16:17.667Z"
   },
   {
    "duration": 19,
    "start_time": "2022-11-11T17:16:17.684Z"
   },
   {
    "duration": 14,
    "start_time": "2022-11-11T17:16:17.705Z"
   },
   {
    "duration": 24,
    "start_time": "2022-11-11T17:16:17.721Z"
   },
   {
    "duration": 10,
    "start_time": "2022-11-11T17:16:17.747Z"
   },
   {
    "duration": 14,
    "start_time": "2022-11-11T17:16:17.758Z"
   },
   {
    "duration": 20,
    "start_time": "2022-11-11T17:16:17.774Z"
   },
   {
    "duration": 11,
    "start_time": "2022-11-11T17:16:17.797Z"
   },
   {
    "duration": 6,
    "start_time": "2022-11-11T17:16:17.809Z"
   },
   {
    "duration": 14,
    "start_time": "2022-11-11T17:16:17.817Z"
   },
   {
    "duration": 13,
    "start_time": "2022-11-11T17:16:17.832Z"
   },
   {
    "duration": 23,
    "start_time": "2022-11-11T17:16:17.847Z"
   },
   {
    "duration": 20,
    "start_time": "2022-11-11T17:16:17.872Z"
   },
   {
    "duration": 10,
    "start_time": "2022-11-11T17:16:17.894Z"
   },
   {
    "duration": 8,
    "start_time": "2022-11-11T17:16:17.906Z"
   },
   {
    "duration": 8,
    "start_time": "2022-11-11T17:16:17.916Z"
   },
   {
    "duration": 10,
    "start_time": "2022-11-11T17:16:17.926Z"
   },
   {
    "duration": 6,
    "start_time": "2022-11-11T17:16:17.937Z"
   },
   {
    "duration": 10,
    "start_time": "2022-11-11T17:16:17.945Z"
   },
   {
    "duration": 7,
    "start_time": "2022-11-11T17:16:17.957Z"
   },
   {
    "duration": 10,
    "start_time": "2022-11-11T17:16:17.965Z"
   },
   {
    "duration": 9,
    "start_time": "2022-11-11T17:16:17.976Z"
   },
   {
    "duration": 36,
    "start_time": "2022-11-11T17:16:17.987Z"
   },
   {
    "duration": 10,
    "start_time": "2022-11-11T17:16:18.024Z"
   },
   {
    "duration": 12,
    "start_time": "2022-11-11T17:16:18.035Z"
   },
   {
    "duration": 15,
    "start_time": "2022-11-11T17:16:18.051Z"
   },
   {
    "duration": 6,
    "start_time": "2022-11-11T17:16:18.068Z"
   },
   {
    "duration": 12,
    "start_time": "2022-11-11T17:16:18.076Z"
   },
   {
    "duration": 10,
    "start_time": "2022-11-11T17:16:18.089Z"
   },
   {
    "duration": 187,
    "start_time": "2022-11-11T17:16:18.101Z"
   },
   {
    "duration": 146,
    "start_time": "2022-11-11T17:16:18.290Z"
   },
   {
    "duration": 6,
    "start_time": "2022-11-11T17:16:18.438Z"
   },
   {
    "duration": 5,
    "start_time": "2022-11-11T17:16:18.446Z"
   },
   {
    "duration": 13,
    "start_time": "2022-11-11T17:16:18.453Z"
   },
   {
    "duration": 6,
    "start_time": "2022-11-11T17:16:18.467Z"
   },
   {
    "duration": 6,
    "start_time": "2022-11-11T17:16:18.475Z"
   },
   {
    "duration": 304,
    "start_time": "2022-11-11T17:16:18.483Z"
   },
   {
    "duration": 224,
    "start_time": "2022-11-11T17:16:18.789Z"
   },
   {
    "duration": 7,
    "start_time": "2022-11-11T17:16:19.022Z"
   },
   {
    "duration": 16,
    "start_time": "2022-11-11T17:16:19.031Z"
   },
   {
    "duration": 318,
    "start_time": "2022-11-11T17:16:19.049Z"
   },
   {
    "duration": 219,
    "start_time": "2022-11-11T17:16:19.369Z"
   },
   {
    "duration": 330,
    "start_time": "2022-11-11T17:16:19.589Z"
   },
   {
    "duration": 5,
    "start_time": "2022-11-11T17:16:19.922Z"
   },
   {
    "duration": 22,
    "start_time": "2022-11-11T17:16:19.929Z"
   },
   {
    "duration": 16,
    "start_time": "2022-11-11T17:16:19.953Z"
   },
   {
    "duration": 5,
    "start_time": "2022-11-11T17:16:19.971Z"
   },
   {
    "duration": 214,
    "start_time": "2022-11-11T17:16:19.977Z"
   },
   {
    "duration": 338,
    "start_time": "2022-11-11T17:16:20.193Z"
   },
   {
    "duration": 7,
    "start_time": "2022-11-11T17:16:20.532Z"
   },
   {
    "duration": 173,
    "start_time": "2022-11-11T17:16:20.540Z"
   },
   {
    "duration": 5,
    "start_time": "2022-11-11T17:16:20.721Z"
   },
   {
    "duration": 162,
    "start_time": "2022-11-11T17:16:20.727Z"
   },
   {
    "duration": 323,
    "start_time": "2022-11-11T17:16:20.891Z"
   },
   {
    "duration": 5,
    "start_time": "2022-11-11T17:16:21.222Z"
   },
   {
    "duration": 12,
    "start_time": "2022-11-11T17:16:21.228Z"
   },
   {
    "duration": 10,
    "start_time": "2022-11-11T17:16:21.242Z"
   },
   {
    "duration": 84,
    "start_time": "2022-11-11T17:16:21.254Z"
   },
   {
    "duration": 92,
    "start_time": "2022-11-11T17:16:21.340Z"
   },
   {
    "duration": 5,
    "start_time": "2022-11-11T17:16:21.434Z"
   },
   {
    "duration": 6,
    "start_time": "2022-11-11T17:16:21.441Z"
   },
   {
    "duration": 26,
    "start_time": "2022-11-11T17:16:21.449Z"
   },
   {
    "duration": 10,
    "start_time": "2022-11-11T17:16:21.477Z"
   },
   {
    "duration": 34,
    "start_time": "2022-11-11T17:16:21.489Z"
   },
   {
    "duration": 8,
    "start_time": "2022-11-11T17:16:21.525Z"
   },
   {
    "duration": 24,
    "start_time": "2022-11-11T17:16:21.535Z"
   },
   {
    "duration": 14,
    "start_time": "2022-11-11T17:16:21.561Z"
   },
   {
    "duration": 22,
    "start_time": "2022-11-11T17:26:17.543Z"
   },
   {
    "duration": 26,
    "start_time": "2022-11-11T17:27:10.260Z"
   },
   {
    "duration": 1041,
    "start_time": "2022-11-11T17:30:03.053Z"
   },
   {
    "duration": 128,
    "start_time": "2022-11-11T17:30:04.096Z"
   },
   {
    "duration": 16,
    "start_time": "2022-11-11T17:30:04.226Z"
   },
   {
    "duration": 20,
    "start_time": "2022-11-11T17:30:04.245Z"
   },
   {
    "duration": 21,
    "start_time": "2022-11-11T17:30:04.268Z"
   },
   {
    "duration": 32,
    "start_time": "2022-11-11T17:30:04.292Z"
   },
   {
    "duration": 16,
    "start_time": "2022-11-11T17:30:04.326Z"
   },
   {
    "duration": 20,
    "start_time": "2022-11-11T17:30:04.344Z"
   },
   {
    "duration": 28,
    "start_time": "2022-11-11T17:30:04.366Z"
   },
   {
    "duration": 8,
    "start_time": "2022-11-11T17:30:04.397Z"
   },
   {
    "duration": 6,
    "start_time": "2022-11-11T17:30:04.407Z"
   },
   {
    "duration": 11,
    "start_time": "2022-11-11T17:30:04.415Z"
   },
   {
    "duration": 5,
    "start_time": "2022-11-11T17:30:04.428Z"
   },
   {
    "duration": 10,
    "start_time": "2022-11-11T17:30:04.435Z"
   },
   {
    "duration": 16,
    "start_time": "2022-11-11T17:30:04.447Z"
   },
   {
    "duration": 5,
    "start_time": "2022-11-11T17:30:04.465Z"
   },
   {
    "duration": 8,
    "start_time": "2022-11-11T17:30:04.472Z"
   },
   {
    "duration": 8,
    "start_time": "2022-11-11T17:30:04.481Z"
   },
   {
    "duration": 36,
    "start_time": "2022-11-11T17:30:04.491Z"
   },
   {
    "duration": 6,
    "start_time": "2022-11-11T17:30:04.528Z"
   },
   {
    "duration": 14,
    "start_time": "2022-11-11T17:30:04.535Z"
   },
   {
    "duration": 8,
    "start_time": "2022-11-11T17:30:04.550Z"
   },
   {
    "duration": 89,
    "start_time": "2022-11-11T17:30:04.560Z"
   },
   {
    "duration": 0,
    "start_time": "2022-11-11T17:30:04.652Z"
   },
   {
    "duration": 1,
    "start_time": "2022-11-11T17:30:04.653Z"
   },
   {
    "duration": 0,
    "start_time": "2022-11-11T17:30:04.655Z"
   },
   {
    "duration": 0,
    "start_time": "2022-11-11T17:30:04.656Z"
   },
   {
    "duration": 0,
    "start_time": "2022-11-11T17:30:04.657Z"
   },
   {
    "duration": 0,
    "start_time": "2022-11-11T17:30:04.658Z"
   },
   {
    "duration": 0,
    "start_time": "2022-11-11T17:30:04.659Z"
   },
   {
    "duration": 0,
    "start_time": "2022-11-11T17:30:04.660Z"
   },
   {
    "duration": 0,
    "start_time": "2022-11-11T17:30:04.661Z"
   },
   {
    "duration": 0,
    "start_time": "2022-11-11T17:30:04.662Z"
   },
   {
    "duration": 0,
    "start_time": "2022-11-11T17:30:04.663Z"
   },
   {
    "duration": 0,
    "start_time": "2022-11-11T17:30:04.664Z"
   },
   {
    "duration": 0,
    "start_time": "2022-11-11T17:30:04.665Z"
   },
   {
    "duration": 0,
    "start_time": "2022-11-11T17:30:04.666Z"
   },
   {
    "duration": 0,
    "start_time": "2022-11-11T17:30:04.667Z"
   },
   {
    "duration": 0,
    "start_time": "2022-11-11T17:30:04.668Z"
   },
   {
    "duration": 0,
    "start_time": "2022-11-11T17:30:04.669Z"
   },
   {
    "duration": 0,
    "start_time": "2022-11-11T17:30:04.670Z"
   },
   {
    "duration": 0,
    "start_time": "2022-11-11T17:30:04.671Z"
   },
   {
    "duration": 0,
    "start_time": "2022-11-11T17:30:04.672Z"
   },
   {
    "duration": 0,
    "start_time": "2022-11-11T17:30:04.673Z"
   },
   {
    "duration": 0,
    "start_time": "2022-11-11T17:30:04.674Z"
   },
   {
    "duration": 0,
    "start_time": "2022-11-11T17:30:04.676Z"
   },
   {
    "duration": 0,
    "start_time": "2022-11-11T17:30:04.677Z"
   },
   {
    "duration": 0,
    "start_time": "2022-11-11T17:30:04.678Z"
   },
   {
    "duration": 0,
    "start_time": "2022-11-11T17:30:04.679Z"
   },
   {
    "duration": 0,
    "start_time": "2022-11-11T17:30:04.680Z"
   },
   {
    "duration": 0,
    "start_time": "2022-11-11T17:30:04.681Z"
   },
   {
    "duration": 0,
    "start_time": "2022-11-11T17:30:04.682Z"
   },
   {
    "duration": 0,
    "start_time": "2022-11-11T17:30:04.683Z"
   },
   {
    "duration": 0,
    "start_time": "2022-11-11T17:30:04.684Z"
   },
   {
    "duration": 0,
    "start_time": "2022-11-11T17:30:04.685Z"
   },
   {
    "duration": 0,
    "start_time": "2022-11-11T17:30:04.686Z"
   },
   {
    "duration": 0,
    "start_time": "2022-11-11T17:30:04.721Z"
   },
   {
    "duration": 0,
    "start_time": "2022-11-11T17:30:04.723Z"
   },
   {
    "duration": 0,
    "start_time": "2022-11-11T17:30:04.724Z"
   },
   {
    "duration": 0,
    "start_time": "2022-11-11T17:30:04.725Z"
   },
   {
    "duration": 0,
    "start_time": "2022-11-11T17:30:04.726Z"
   },
   {
    "duration": 0,
    "start_time": "2022-11-11T17:30:04.727Z"
   },
   {
    "duration": 0,
    "start_time": "2022-11-11T17:30:04.729Z"
   },
   {
    "duration": 0,
    "start_time": "2022-11-11T17:30:04.730Z"
   },
   {
    "duration": 0,
    "start_time": "2022-11-11T17:30:04.731Z"
   },
   {
    "duration": 0,
    "start_time": "2022-11-11T17:30:04.732Z"
   },
   {
    "duration": 161,
    "start_time": "2022-11-11T17:30:04.735Z"
   },
   {
    "duration": 0,
    "start_time": "2022-11-11T17:30:04.897Z"
   },
   {
    "duration": 69,
    "start_time": "2022-11-11T17:31:24.457Z"
   },
   {
    "duration": 8,
    "start_time": "2022-11-11T17:32:02.369Z"
   },
   {
    "duration": 1135,
    "start_time": "2022-11-11T17:32:17.433Z"
   },
   {
    "duration": 116,
    "start_time": "2022-11-11T17:32:18.570Z"
   },
   {
    "duration": 13,
    "start_time": "2022-11-11T17:32:18.688Z"
   },
   {
    "duration": 107,
    "start_time": "2022-11-11T17:32:18.703Z"
   },
   {
    "duration": 15,
    "start_time": "2022-11-11T17:32:18.812Z"
   },
   {
    "duration": 18,
    "start_time": "2022-11-11T17:32:18.829Z"
   },
   {
    "duration": 12,
    "start_time": "2022-11-11T17:32:18.849Z"
   },
   {
    "duration": 13,
    "start_time": "2022-11-11T17:32:18.863Z"
   },
   {
    "duration": 27,
    "start_time": "2022-11-11T17:32:18.877Z"
   },
   {
    "duration": 11,
    "start_time": "2022-11-11T17:32:18.907Z"
   },
   {
    "duration": 10,
    "start_time": "2022-11-11T17:32:18.919Z"
   },
   {
    "duration": 20,
    "start_time": "2022-11-11T17:32:18.931Z"
   },
   {
    "duration": 18,
    "start_time": "2022-11-11T17:32:18.953Z"
   },
   {
    "duration": 13,
    "start_time": "2022-11-11T17:32:18.973Z"
   },
   {
    "duration": 30,
    "start_time": "2022-11-11T17:32:18.988Z"
   },
   {
    "duration": 20,
    "start_time": "2022-11-11T17:32:19.020Z"
   },
   {
    "duration": 16,
    "start_time": "2022-11-11T17:32:19.043Z"
   },
   {
    "duration": 11,
    "start_time": "2022-11-11T17:32:19.061Z"
   },
   {
    "duration": 17,
    "start_time": "2022-11-11T17:32:19.074Z"
   },
   {
    "duration": 16,
    "start_time": "2022-11-11T17:32:19.093Z"
   },
   {
    "duration": 21,
    "start_time": "2022-11-11T17:32:19.111Z"
   },
   {
    "duration": 18,
    "start_time": "2022-11-11T17:32:19.135Z"
   },
   {
    "duration": 16,
    "start_time": "2022-11-11T17:32:19.156Z"
   },
   {
    "duration": 9,
    "start_time": "2022-11-11T17:32:19.174Z"
   },
   {
    "duration": 19,
    "start_time": "2022-11-11T17:32:19.185Z"
   },
   {
    "duration": 9,
    "start_time": "2022-11-11T17:32:19.206Z"
   },
   {
    "duration": 16,
    "start_time": "2022-11-11T17:32:19.217Z"
   },
   {
    "duration": 16,
    "start_time": "2022-11-11T17:32:19.237Z"
   },
   {
    "duration": 12,
    "start_time": "2022-11-11T17:32:19.256Z"
   },
   {
    "duration": 26,
    "start_time": "2022-11-11T17:32:19.269Z"
   },
   {
    "duration": 10,
    "start_time": "2022-11-11T17:32:19.297Z"
   },
   {
    "duration": 179,
    "start_time": "2022-11-11T17:32:19.308Z"
   },
   {
    "duration": 138,
    "start_time": "2022-11-11T17:32:19.489Z"
   },
   {
    "duration": 7,
    "start_time": "2022-11-11T17:32:19.628Z"
   },
   {
    "duration": 21,
    "start_time": "2022-11-11T17:32:19.636Z"
   },
   {
    "duration": 16,
    "start_time": "2022-11-11T17:32:19.659Z"
   },
   {
    "duration": 12,
    "start_time": "2022-11-11T17:32:19.677Z"
   },
   {
    "duration": 12,
    "start_time": "2022-11-11T17:32:19.691Z"
   },
   {
    "duration": 303,
    "start_time": "2022-11-11T17:32:19.704Z"
   },
   {
    "duration": 216,
    "start_time": "2022-11-11T17:32:20.009Z"
   },
   {
    "duration": 7,
    "start_time": "2022-11-11T17:32:20.227Z"
   },
   {
    "duration": 16,
    "start_time": "2022-11-11T17:32:20.235Z"
   },
   {
    "duration": 289,
    "start_time": "2022-11-11T17:32:20.253Z"
   },
   {
    "duration": 229,
    "start_time": "2022-11-11T17:32:20.544Z"
   },
   {
    "duration": 299,
    "start_time": "2022-11-11T17:32:20.775Z"
   },
   {
    "duration": 4,
    "start_time": "2022-11-11T17:32:21.076Z"
   },
   {
    "duration": 25,
    "start_time": "2022-11-11T17:32:21.081Z"
   },
   {
    "duration": 19,
    "start_time": "2022-11-11T17:32:21.108Z"
   },
   {
    "duration": 217,
    "start_time": "2022-11-11T17:32:21.129Z"
   },
   {
    "duration": 315,
    "start_time": "2022-11-11T17:32:21.347Z"
   },
   {
    "duration": 408,
    "start_time": "2022-11-11T17:32:21.664Z"
   },
   {
    "duration": 175,
    "start_time": "2022-11-11T17:32:22.074Z"
   },
   {
    "duration": 4,
    "start_time": "2022-11-11T17:32:22.251Z"
   },
   {
    "duration": 167,
    "start_time": "2022-11-11T17:32:22.257Z"
   },
   {
    "duration": 369,
    "start_time": "2022-11-11T17:32:22.426Z"
   },
   {
    "duration": 5,
    "start_time": "2022-11-11T17:32:22.797Z"
   },
   {
    "duration": 27,
    "start_time": "2022-11-11T17:32:22.803Z"
   },
   {
    "duration": 26,
    "start_time": "2022-11-11T17:32:22.831Z"
   },
   {
    "duration": 86,
    "start_time": "2022-11-11T17:32:22.858Z"
   },
   {
    "duration": 86,
    "start_time": "2022-11-11T17:32:22.945Z"
   },
   {
    "duration": 65,
    "start_time": "2022-11-11T17:32:23.033Z"
   },
   {
    "duration": 25,
    "start_time": "2022-11-11T17:32:23.099Z"
   },
   {
    "duration": 41,
    "start_time": "2022-11-11T17:32:23.125Z"
   },
   {
    "duration": 11,
    "start_time": "2022-11-11T17:32:23.168Z"
   },
   {
    "duration": 35,
    "start_time": "2022-11-11T17:32:23.180Z"
   },
   {
    "duration": 23,
    "start_time": "2022-11-11T17:32:23.216Z"
   },
   {
    "duration": 30,
    "start_time": "2022-11-11T17:32:23.241Z"
   },
   {
    "duration": 15,
    "start_time": "2022-11-11T17:32:23.272Z"
   },
   {
    "duration": 15,
    "start_time": "2022-11-11T17:43:33.560Z"
   },
   {
    "duration": 11,
    "start_time": "2022-11-11T17:44:03.190Z"
   },
   {
    "duration": 1141,
    "start_time": "2022-11-11T17:45:35.608Z"
   },
   {
    "duration": 120,
    "start_time": "2022-11-11T17:45:36.751Z"
   },
   {
    "duration": 12,
    "start_time": "2022-11-11T17:45:36.872Z"
   },
   {
    "duration": 11,
    "start_time": "2022-11-11T17:45:36.887Z"
   },
   {
    "duration": 11,
    "start_time": "2022-11-11T17:45:36.899Z"
   },
   {
    "duration": 14,
    "start_time": "2022-11-11T17:45:36.912Z"
   },
   {
    "duration": 12,
    "start_time": "2022-11-11T17:45:36.927Z"
   },
   {
    "duration": 14,
    "start_time": "2022-11-11T17:45:36.941Z"
   },
   {
    "duration": 12,
    "start_time": "2022-11-11T17:45:36.957Z"
   },
   {
    "duration": 7,
    "start_time": "2022-11-11T17:45:36.972Z"
   },
   {
    "duration": 6,
    "start_time": "2022-11-11T17:45:36.980Z"
   },
   {
    "duration": 9,
    "start_time": "2022-11-11T17:45:36.987Z"
   },
   {
    "duration": 25,
    "start_time": "2022-11-11T17:45:36.997Z"
   },
   {
    "duration": 7,
    "start_time": "2022-11-11T17:45:37.024Z"
   },
   {
    "duration": 18,
    "start_time": "2022-11-11T17:45:37.033Z"
   },
   {
    "duration": 10,
    "start_time": "2022-11-11T17:45:37.052Z"
   },
   {
    "duration": 7,
    "start_time": "2022-11-11T17:45:37.064Z"
   },
   {
    "duration": 7,
    "start_time": "2022-11-11T17:45:37.072Z"
   },
   {
    "duration": 8,
    "start_time": "2022-11-11T17:45:37.080Z"
   },
   {
    "duration": 6,
    "start_time": "2022-11-11T17:45:37.090Z"
   },
   {
    "duration": 9,
    "start_time": "2022-11-11T17:45:37.122Z"
   },
   {
    "duration": 8,
    "start_time": "2022-11-11T17:45:37.133Z"
   },
   {
    "duration": 8,
    "start_time": "2022-11-11T17:45:37.142Z"
   },
   {
    "duration": 6,
    "start_time": "2022-11-11T17:45:37.152Z"
   },
   {
    "duration": 11,
    "start_time": "2022-11-11T17:45:37.159Z"
   },
   {
    "duration": 9,
    "start_time": "2022-11-11T17:45:37.172Z"
   },
   {
    "duration": 44,
    "start_time": "2022-11-11T17:45:37.182Z"
   },
   {
    "duration": 18,
    "start_time": "2022-11-11T17:45:37.231Z"
   },
   {
    "duration": 7,
    "start_time": "2022-11-11T17:45:37.251Z"
   },
   {
    "duration": 18,
    "start_time": "2022-11-11T17:45:37.260Z"
   },
   {
    "duration": 10,
    "start_time": "2022-11-11T17:45:37.279Z"
   },
   {
    "duration": 180,
    "start_time": "2022-11-11T17:45:37.291Z"
   },
   {
    "duration": 131,
    "start_time": "2022-11-11T17:45:37.473Z"
   },
   {
    "duration": 18,
    "start_time": "2022-11-11T17:45:37.606Z"
   },
   {
    "duration": 3,
    "start_time": "2022-11-11T17:45:37.626Z"
   },
   {
    "duration": 14,
    "start_time": "2022-11-11T17:45:37.631Z"
   },
   {
    "duration": 11,
    "start_time": "2022-11-11T17:45:37.647Z"
   },
   {
    "duration": 10,
    "start_time": "2022-11-11T17:45:37.660Z"
   },
   {
    "duration": 295,
    "start_time": "2022-11-11T17:45:37.672Z"
   },
   {
    "duration": 214,
    "start_time": "2022-11-11T17:45:37.968Z"
   },
   {
    "duration": 6,
    "start_time": "2022-11-11T17:45:38.184Z"
   },
   {
    "duration": 12,
    "start_time": "2022-11-11T17:45:38.192Z"
   },
   {
    "duration": 318,
    "start_time": "2022-11-11T17:45:38.205Z"
   },
   {
    "duration": 206,
    "start_time": "2022-11-11T17:45:38.524Z"
   },
   {
    "duration": 327,
    "start_time": "2022-11-11T17:45:38.732Z"
   },
   {
    "duration": 5,
    "start_time": "2022-11-11T17:45:39.061Z"
   },
   {
    "duration": 10,
    "start_time": "2022-11-11T17:45:39.067Z"
   },
   {
    "duration": 7,
    "start_time": "2022-11-11T17:45:39.080Z"
   },
   {
    "duration": 223,
    "start_time": "2022-11-11T17:45:39.089Z"
   },
   {
    "duration": 319,
    "start_time": "2022-11-11T17:45:39.314Z"
   },
   {
    "duration": 7,
    "start_time": "2022-11-11T17:45:39.635Z"
   },
   {
    "duration": 178,
    "start_time": "2022-11-11T17:45:39.644Z"
   },
   {
    "duration": 5,
    "start_time": "2022-11-11T17:45:39.823Z"
   },
   {
    "duration": 173,
    "start_time": "2022-11-11T17:45:39.830Z"
   },
   {
    "duration": 339,
    "start_time": "2022-11-11T17:45:40.005Z"
   },
   {
    "duration": 4,
    "start_time": "2022-11-11T17:45:40.346Z"
   },
   {
    "duration": 8,
    "start_time": "2022-11-11T17:45:40.351Z"
   },
   {
    "duration": 7,
    "start_time": "2022-11-11T17:45:40.361Z"
   },
   {
    "duration": 77,
    "start_time": "2022-11-11T17:45:40.370Z"
   },
   {
    "duration": 79,
    "start_time": "2022-11-11T17:45:40.448Z"
   },
   {
    "duration": 5,
    "start_time": "2022-11-11T17:45:40.528Z"
   },
   {
    "duration": 8,
    "start_time": "2022-11-11T17:45:40.535Z"
   },
   {
    "duration": 24,
    "start_time": "2022-11-11T17:45:40.544Z"
   },
   {
    "duration": 10,
    "start_time": "2022-11-11T17:45:40.570Z"
   },
   {
    "duration": 10,
    "start_time": "2022-11-11T17:45:40.581Z"
   },
   {
    "duration": 9,
    "start_time": "2022-11-11T17:45:40.621Z"
   },
   {
    "duration": 21,
    "start_time": "2022-11-11T17:45:40.632Z"
   },
   {
    "duration": 14,
    "start_time": "2022-11-11T17:45:40.655Z"
   },
   {
    "duration": 1127,
    "start_time": "2022-11-11T18:01:07.174Z"
   },
   {
    "duration": 118,
    "start_time": "2022-11-11T18:01:08.303Z"
   },
   {
    "duration": 12,
    "start_time": "2022-11-11T18:01:08.423Z"
   },
   {
    "duration": 13,
    "start_time": "2022-11-11T18:01:08.438Z"
   },
   {
    "duration": 13,
    "start_time": "2022-11-11T18:01:08.453Z"
   },
   {
    "duration": 52,
    "start_time": "2022-11-11T18:01:08.468Z"
   },
   {
    "duration": 44,
    "start_time": "2022-11-11T18:01:08.522Z"
   },
   {
    "duration": 22,
    "start_time": "2022-11-11T18:01:08.568Z"
   },
   {
    "duration": 12,
    "start_time": "2022-11-11T18:01:08.592Z"
   },
   {
    "duration": 6,
    "start_time": "2022-11-11T18:01:08.608Z"
   },
   {
    "duration": 9,
    "start_time": "2022-11-11T18:01:08.616Z"
   },
   {
    "duration": 11,
    "start_time": "2022-11-11T18:01:08.626Z"
   },
   {
    "duration": 5,
    "start_time": "2022-11-11T18:01:08.639Z"
   },
   {
    "duration": 10,
    "start_time": "2022-11-11T18:01:08.645Z"
   },
   {
    "duration": 14,
    "start_time": "2022-11-11T18:01:08.657Z"
   },
   {
    "duration": 11,
    "start_time": "2022-11-11T18:01:08.673Z"
   },
   {
    "duration": 13,
    "start_time": "2022-11-11T18:01:08.685Z"
   },
   {
    "duration": 24,
    "start_time": "2022-11-11T18:01:08.699Z"
   },
   {
    "duration": 10,
    "start_time": "2022-11-11T18:01:08.725Z"
   },
   {
    "duration": 9,
    "start_time": "2022-11-11T18:01:08.736Z"
   },
   {
    "duration": 17,
    "start_time": "2022-11-11T18:01:08.747Z"
   },
   {
    "duration": 10,
    "start_time": "2022-11-11T18:01:08.766Z"
   },
   {
    "duration": 9,
    "start_time": "2022-11-11T18:01:08.778Z"
   },
   {
    "duration": 35,
    "start_time": "2022-11-11T18:01:08.789Z"
   },
   {
    "duration": 17,
    "start_time": "2022-11-11T18:01:08.827Z"
   },
   {
    "duration": 13,
    "start_time": "2022-11-11T18:01:08.845Z"
   },
   {
    "duration": 6,
    "start_time": "2022-11-11T18:01:08.860Z"
   },
   {
    "duration": 15,
    "start_time": "2022-11-11T18:01:08.872Z"
   },
   {
    "duration": 6,
    "start_time": "2022-11-11T18:01:08.889Z"
   },
   {
    "duration": 33,
    "start_time": "2022-11-11T18:01:08.897Z"
   },
   {
    "duration": 9,
    "start_time": "2022-11-11T18:01:08.932Z"
   },
   {
    "duration": 192,
    "start_time": "2022-11-11T18:01:08.943Z"
   },
   {
    "duration": 136,
    "start_time": "2022-11-11T18:01:09.137Z"
   },
   {
    "duration": 6,
    "start_time": "2022-11-11T18:01:09.275Z"
   },
   {
    "duration": 11,
    "start_time": "2022-11-11T18:01:09.283Z"
   },
   {
    "duration": 25,
    "start_time": "2022-11-11T18:01:09.296Z"
   },
   {
    "duration": 11,
    "start_time": "2022-11-11T18:01:09.323Z"
   },
   {
    "duration": 10,
    "start_time": "2022-11-11T18:01:09.336Z"
   },
   {
    "duration": 283,
    "start_time": "2022-11-11T18:01:09.348Z"
   },
   {
    "duration": 226,
    "start_time": "2022-11-11T18:01:09.633Z"
   },
   {
    "duration": 6,
    "start_time": "2022-11-11T18:01:09.861Z"
   },
   {
    "duration": 16,
    "start_time": "2022-11-11T18:01:09.869Z"
   },
   {
    "duration": 327,
    "start_time": "2022-11-11T18:01:09.886Z"
   },
   {
    "duration": 237,
    "start_time": "2022-11-11T18:01:10.223Z"
   },
   {
    "duration": 283,
    "start_time": "2022-11-11T18:01:10.462Z"
   },
   {
    "duration": 5,
    "start_time": "2022-11-11T18:01:10.746Z"
   },
   {
    "duration": 8,
    "start_time": "2022-11-11T18:01:10.753Z"
   },
   {
    "duration": 9,
    "start_time": "2022-11-11T18:01:10.763Z"
   },
   {
    "duration": 223,
    "start_time": "2022-11-11T18:01:10.774Z"
   },
   {
    "duration": 340,
    "start_time": "2022-11-11T18:01:10.999Z"
   },
   {
    "duration": 7,
    "start_time": "2022-11-11T18:01:11.341Z"
   },
   {
    "duration": 173,
    "start_time": "2022-11-11T18:01:11.349Z"
   },
   {
    "duration": 5,
    "start_time": "2022-11-11T18:01:11.523Z"
   },
   {
    "duration": 173,
    "start_time": "2022-11-11T18:01:11.530Z"
   },
   {
    "duration": 354,
    "start_time": "2022-11-11T18:01:11.704Z"
   },
   {
    "duration": 4,
    "start_time": "2022-11-11T18:01:12.060Z"
   },
   {
    "duration": 9,
    "start_time": "2022-11-11T18:01:12.065Z"
   },
   {
    "duration": 9,
    "start_time": "2022-11-11T18:01:12.076Z"
   },
   {
    "duration": 70,
    "start_time": "2022-11-11T18:01:12.087Z"
   },
   {
    "duration": 83,
    "start_time": "2022-11-11T18:01:12.159Z"
   },
   {
    "duration": 5,
    "start_time": "2022-11-11T18:01:12.244Z"
   },
   {
    "duration": 5,
    "start_time": "2022-11-11T18:01:12.252Z"
   },
   {
    "duration": 30,
    "start_time": "2022-11-11T18:01:12.259Z"
   },
   {
    "duration": 11,
    "start_time": "2022-11-11T18:01:12.291Z"
   },
   {
    "duration": 10,
    "start_time": "2022-11-11T18:01:12.322Z"
   },
   {
    "duration": 10,
    "start_time": "2022-11-11T18:01:12.334Z"
   },
   {
    "duration": 22,
    "start_time": "2022-11-11T18:01:12.346Z"
   },
   {
    "duration": 16,
    "start_time": "2022-11-11T18:01:12.370Z"
   },
   {
    "duration": 1211,
    "start_time": "2022-11-11T19:24:44.526Z"
   },
   {
    "duration": 227,
    "start_time": "2022-11-11T19:24:45.739Z"
   },
   {
    "duration": 15,
    "start_time": "2022-11-11T19:24:45.968Z"
   },
   {
    "duration": 18,
    "start_time": "2022-11-11T19:24:45.986Z"
   },
   {
    "duration": 12,
    "start_time": "2022-11-11T19:24:46.006Z"
   },
   {
    "duration": 16,
    "start_time": "2022-11-11T19:24:46.020Z"
   },
   {
    "duration": 17,
    "start_time": "2022-11-11T19:24:46.038Z"
   },
   {
    "duration": 10,
    "start_time": "2022-11-11T19:24:46.057Z"
   },
   {
    "duration": 15,
    "start_time": "2022-11-11T19:24:46.069Z"
   },
   {
    "duration": 16,
    "start_time": "2022-11-11T19:24:46.088Z"
   },
   {
    "duration": 5,
    "start_time": "2022-11-11T19:24:46.106Z"
   },
   {
    "duration": 15,
    "start_time": "2022-11-11T19:24:46.113Z"
   },
   {
    "duration": 38,
    "start_time": "2022-11-11T19:24:46.130Z"
   },
   {
    "duration": 22,
    "start_time": "2022-11-11T19:24:46.170Z"
   },
   {
    "duration": 22,
    "start_time": "2022-11-11T19:24:46.194Z"
   },
   {
    "duration": 11,
    "start_time": "2022-11-11T19:24:46.219Z"
   },
   {
    "duration": 9,
    "start_time": "2022-11-11T19:24:46.232Z"
   },
   {
    "duration": 8,
    "start_time": "2022-11-11T19:24:46.244Z"
   },
   {
    "duration": 11,
    "start_time": "2022-11-11T19:24:46.254Z"
   },
   {
    "duration": 5,
    "start_time": "2022-11-11T19:24:46.267Z"
   },
   {
    "duration": 13,
    "start_time": "2022-11-11T19:24:46.274Z"
   },
   {
    "duration": 9,
    "start_time": "2022-11-11T19:24:46.289Z"
   },
   {
    "duration": 11,
    "start_time": "2022-11-11T19:24:46.300Z"
   },
   {
    "duration": 42,
    "start_time": "2022-11-11T19:24:46.313Z"
   },
   {
    "duration": 15,
    "start_time": "2022-11-11T19:24:46.357Z"
   },
   {
    "duration": 14,
    "start_time": "2022-11-11T19:24:46.374Z"
   },
   {
    "duration": 6,
    "start_time": "2022-11-11T19:24:46.390Z"
   },
   {
    "duration": 14,
    "start_time": "2022-11-11T19:24:46.402Z"
   },
   {
    "duration": 5,
    "start_time": "2022-11-11T19:24:46.452Z"
   },
   {
    "duration": 17,
    "start_time": "2022-11-11T19:24:46.458Z"
   },
   {
    "duration": 11,
    "start_time": "2022-11-11T19:24:46.477Z"
   },
   {
    "duration": 193,
    "start_time": "2022-11-11T19:24:46.490Z"
   },
   {
    "duration": 147,
    "start_time": "2022-11-11T19:24:46.685Z"
   },
   {
    "duration": 8,
    "start_time": "2022-11-11T19:24:46.833Z"
   },
   {
    "duration": 3,
    "start_time": "2022-11-11T19:24:46.852Z"
   },
   {
    "duration": 15,
    "start_time": "2022-11-11T19:24:46.857Z"
   },
   {
    "duration": 17,
    "start_time": "2022-11-11T19:24:46.874Z"
   },
   {
    "duration": 13,
    "start_time": "2022-11-11T19:24:46.893Z"
   },
   {
    "duration": 333,
    "start_time": "2022-11-11T19:24:46.908Z"
   },
   {
    "duration": 238,
    "start_time": "2022-11-11T19:24:47.250Z"
   },
   {
    "duration": 6,
    "start_time": "2022-11-11T19:24:47.490Z"
   },
   {
    "duration": 45,
    "start_time": "2022-11-11T19:24:47.498Z"
   },
   {
    "duration": 321,
    "start_time": "2022-11-11T19:24:47.545Z"
   },
   {
    "duration": 239,
    "start_time": "2022-11-11T19:24:47.868Z"
   },
   {
    "duration": 391,
    "start_time": "2022-11-11T19:24:48.109Z"
   },
   {
    "duration": 5,
    "start_time": "2022-11-11T19:24:48.502Z"
   },
   {
    "duration": 19,
    "start_time": "2022-11-11T19:24:48.509Z"
   },
   {
    "duration": 28,
    "start_time": "2022-11-11T19:24:48.530Z"
   },
   {
    "duration": 263,
    "start_time": "2022-11-11T19:24:48.560Z"
   },
   {
    "duration": 407,
    "start_time": "2022-11-11T19:24:48.825Z"
   },
   {
    "duration": 19,
    "start_time": "2022-11-11T19:24:49.234Z"
   },
   {
    "duration": 201,
    "start_time": "2022-11-11T19:24:49.255Z"
   },
   {
    "duration": 6,
    "start_time": "2022-11-11T19:24:49.458Z"
   },
   {
    "duration": 217,
    "start_time": "2022-11-11T19:24:49.467Z"
   },
   {
    "duration": 393,
    "start_time": "2022-11-11T19:24:49.686Z"
   },
   {
    "duration": 6,
    "start_time": "2022-11-11T19:24:50.080Z"
   },
   {
    "duration": 47,
    "start_time": "2022-11-11T19:24:50.088Z"
   },
   {
    "duration": 35,
    "start_time": "2022-11-11T19:24:50.137Z"
   },
   {
    "duration": 120,
    "start_time": "2022-11-11T19:24:50.174Z"
   },
   {
    "duration": 86,
    "start_time": "2022-11-11T19:24:50.296Z"
   },
   {
    "duration": 6,
    "start_time": "2022-11-11T19:24:50.384Z"
   },
   {
    "duration": 39,
    "start_time": "2022-11-11T19:24:50.393Z"
   },
   {
    "duration": 61,
    "start_time": "2022-11-11T19:24:50.434Z"
   },
   {
    "duration": 15,
    "start_time": "2022-11-11T19:24:50.497Z"
   },
   {
    "duration": 47,
    "start_time": "2022-11-11T19:24:50.515Z"
   },
   {
    "duration": 42,
    "start_time": "2022-11-11T19:24:50.564Z"
   },
   {
    "duration": 35,
    "start_time": "2022-11-11T19:24:50.609Z"
   },
   {
    "duration": 43,
    "start_time": "2022-11-11T19:24:50.646Z"
   }
  ],
  "kernelspec": {
   "display_name": "Python 3",
   "language": "python",
   "name": "python3"
  },
  "language_info": {
   "codemirror_mode": {
    "name": "ipython",
    "version": 3
   },
   "file_extension": ".py",
   "mimetype": "text/x-python",
   "name": "python",
   "nbconvert_exporter": "python",
   "pygments_lexer": "ipython3",
   "version": "3.8.5"
  },
  "toc": {
   "base_numbering": 1,
   "nav_menu": {},
   "number_sections": true,
   "sideBar": true,
   "skip_h1_title": true,
   "title_cell": "Содержание",
   "title_sidebar": "Содержание",
   "toc_cell": true,
   "toc_position": {
    "height": "calc(100% - 180px)",
    "left": "10px",
    "top": "150px",
    "width": "165px"
   },
   "toc_section_display": true,
   "toc_window_display": true
  }
 },
 "nbformat": 4,
 "nbformat_minor": 2
}
